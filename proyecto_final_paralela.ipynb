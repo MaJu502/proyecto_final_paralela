{
  "nbformat": 4,
  "nbformat_minor": 0,
  "metadata": {
    "colab": {
      "provenance": [],
      "gpuType": "T4",
      "include_colab_link": true
    },
    "kernelspec": {
      "name": "python3",
      "display_name": "Python 3"
    },
    "language_info": {
      "name": "python"
    },
    "accelerator": "GPU"
  },
  "cells": [
    {
      "cell_type": "markdown",
      "metadata": {
        "id": "view-in-github",
        "colab_type": "text"
      },
      "source": [
        "<a href=\"https://colab.research.google.com/github/MaJu502/proyecto_final_paralela/blob/main/proyecto_final_paralela.ipynb\" target=\"_parent\"><img src=\"https://colab.research.google.com/assets/colab-badge.svg\" alt=\"Open In Colab\"/></a>"
      ]
    },
    {
      "cell_type": "markdown",
      "source": [
        "# Proyecto Final Paralela\n",
        "* Marco Jurado\n",
        "* Paola de Leon\n",
        "* Cristian Aguirre\n"
      ],
      "metadata": {
        "id": "cei9HvTjFmLj"
      }
    },
    {
      "cell_type": "code",
      "source": [
        "!nvcc --version"
      ],
      "metadata": {
        "id": "dOTZ2EqKW4r6",
        "outputId": "96912ded-bca6-4cba-8487-92fef9fdfe5d",
        "colab": {
          "base_uri": "https://localhost:8080/"
        }
      },
      "execution_count": 1,
      "outputs": [
        {
          "output_type": "stream",
          "name": "stdout",
          "text": [
            "nvcc: NVIDIA (R) Cuda compiler driver\n",
            "Copyright (c) 2005-2022 NVIDIA Corporation\n",
            "Built on Wed_Sep_21_10:33:58_PDT_2022\n",
            "Cuda compilation tools, release 11.8, V11.8.89\n",
            "Build cuda_11.8.r11.8/compiler.31833905_0\n"
          ]
        }
      ]
    },
    {
      "cell_type": "code",
      "source": [
        "!pip install git+https://github.com/andreinechaev/nvcc4jupyter.git"
      ],
      "metadata": {
        "id": "sHKXt3OlYMyj",
        "outputId": "1215c337-2297-4508-c142-b712373c5eac",
        "colab": {
          "base_uri": "https://localhost:8080/"
        }
      },
      "execution_count": 2,
      "outputs": [
        {
          "output_type": "stream",
          "name": "stdout",
          "text": [
            "Collecting git+https://github.com/andreinechaev/nvcc4jupyter.git\n",
            "  Cloning https://github.com/andreinechaev/nvcc4jupyter.git to /tmp/pip-req-build-2yjkrui0\n",
            "  Running command git clone --filter=blob:none --quiet https://github.com/andreinechaev/nvcc4jupyter.git /tmp/pip-req-build-2yjkrui0\n",
            "  Resolved https://github.com/andreinechaev/nvcc4jupyter.git to commit 0a71d56e5dce3ff1f0dd2c47c29367629262f527\n",
            "  Preparing metadata (setup.py) ... \u001b[?25l\u001b[?25hdone\n",
            "Building wheels for collected packages: NVCCPlugin\n",
            "  Building wheel for NVCCPlugin (setup.py) ... \u001b[?25l\u001b[?25hdone\n",
            "  Created wheel for NVCCPlugin: filename=NVCCPlugin-0.0.2-py3-none-any.whl size=4294 sha256=f93f95d7b5a699ca2eece8cda90b1039750cf2cb4e54e46a904c986b696a2399\n",
            "  Stored in directory: /tmp/pip-ephem-wheel-cache-buslapdc/wheels/a8/b9/18/23f8ef71ceb0f63297dd1903aedd067e6243a68ea756d6feea\n",
            "Successfully built NVCCPlugin\n",
            "Installing collected packages: NVCCPlugin\n",
            "Successfully installed NVCCPlugin-0.0.2\n"
          ]
        }
      ]
    },
    {
      "cell_type": "code",
      "source": [
        "%load_ext nvcc_plugin"
      ],
      "metadata": {
        "id": "c3iGISowYORM",
        "outputId": "ff1075e4-7f91-4460-f0f0-ebe54e55148c",
        "colab": {
          "base_uri": "https://localhost:8080/"
        }
      },
      "execution_count": 3,
      "outputs": [
        {
          "output_type": "stream",
          "name": "stdout",
          "text": [
            "created output directory at /content/src\n",
            "Out bin /content/result.out\n"
          ]
        }
      ]
    },
    {
      "cell_type": "code",
      "source": [
        "!pip install pycuda"
      ],
      "metadata": {
        "id": "H2bN7GzcYPeJ",
        "outputId": "60ecbe65-9faf-4538-fabc-ede43afba085",
        "colab": {
          "base_uri": "https://localhost:8080/"
        }
      },
      "execution_count": 4,
      "outputs": [
        {
          "output_type": "stream",
          "name": "stdout",
          "text": [
            "Collecting pycuda\n",
            "  Downloading pycuda-2023.1.tar.gz (1.7 MB)\n",
            "\u001b[2K     \u001b[90m━━━━━━━━━━━━━━━━━━━━━━━━━━━━━━━━━━━━━━━━\u001b[0m \u001b[32m1.7/1.7 MB\u001b[0m \u001b[31m11.0 MB/s\u001b[0m eta \u001b[36m0:00:00\u001b[0m\n",
            "\u001b[?25h  Installing build dependencies ... \u001b[?25l\u001b[?25hdone\n",
            "  Getting requirements to build wheel ... \u001b[?25l\u001b[?25hdone\n",
            "  Preparing metadata (pyproject.toml) ... \u001b[?25l\u001b[?25hdone\n",
            "Collecting pytools>=2011.2 (from pycuda)\n",
            "  Downloading pytools-2023.1.1-py2.py3-none-any.whl (70 kB)\n",
            "\u001b[2K     \u001b[90m━━━━━━━━━━━━━━━━━━━━━━━━━━━━━━━━━━━━━━━━\u001b[0m \u001b[32m70.6/70.6 kB\u001b[0m \u001b[31m11.2 MB/s\u001b[0m eta \u001b[36m0:00:00\u001b[0m\n",
            "\u001b[?25hRequirement already satisfied: appdirs>=1.4.0 in /usr/local/lib/python3.10/dist-packages (from pycuda) (1.4.4)\n",
            "Collecting mako (from pycuda)\n",
            "  Downloading Mako-1.3.0-py3-none-any.whl (78 kB)\n",
            "\u001b[2K     \u001b[90m━━━━━━━━━━━━━━━━━━━━━━━━━━━━━━━━━━━━━━━━\u001b[0m \u001b[32m78.6/78.6 kB\u001b[0m \u001b[31m11.4 MB/s\u001b[0m eta \u001b[36m0:00:00\u001b[0m\n",
            "\u001b[?25hRequirement already satisfied: platformdirs>=2.2.0 in /usr/local/lib/python3.10/dist-packages (from pytools>=2011.2->pycuda) (3.11.0)\n",
            "Requirement already satisfied: typing-extensions>=4.0 in /usr/local/lib/python3.10/dist-packages (from pytools>=2011.2->pycuda) (4.5.0)\n",
            "Requirement already satisfied: MarkupSafe>=0.9.2 in /usr/local/lib/python3.10/dist-packages (from mako->pycuda) (2.1.3)\n",
            "Building wheels for collected packages: pycuda\n",
            "  Building wheel for pycuda (pyproject.toml) ... \u001b[?25l\u001b[?25hdone\n",
            "  Created wheel for pycuda: filename=pycuda-2023.1-cp310-cp310-linux_x86_64.whl size=661263 sha256=d840eee4c48e6921a051ecd1da9b5a2de3a0ee85aabbaa48617c3c63f6a3644a\n",
            "  Stored in directory: /root/.cache/pip/wheels/46/65/06/b997165edd2fd9690c3497ca54ea4485b571d7bd959c21c6c4\n",
            "Successfully built pycuda\n",
            "Installing collected packages: pytools, mako, pycuda\n",
            "Successfully installed mako-1.3.0 pycuda-2023.1 pytools-2023.1.1\n"
          ]
        }
      ]
    },
    {
      "cell_type": "code",
      "source": [
        "import pycuda.driver as drv\n",
        "import pycuda.autoinit\n",
        "drv.init()\n",
        "print(\"%d device(s) found.\" % drv.Device.count())\n",
        "for i in range(drv.Device.count()):\n",
        "  dev = drv.Device(i)\n",
        "  print(\"Device #%d: %s\" % (i, dev.name()))\n",
        "  print(\" Compute Capability: %d.%d\" % dev.compute_capability())\n",
        "  print(\" Total Memory: %s GB\" % (dev.total_memory() // (1024 * 1024 * 1024)))"
      ],
      "metadata": {
        "id": "pyleS1mXYReL",
        "outputId": "4e75d6f7-e2d5-496d-86b7-377ecb0fa94e",
        "colab": {
          "base_uri": "https://localhost:8080/"
        }
      },
      "execution_count": 5,
      "outputs": [
        {
          "output_type": "stream",
          "name": "stdout",
          "text": [
            "1 device(s) found.\n",
            "Device #0: Tesla T4\n",
            " Compute Capability: 7.5\n",
            " Total Memory: 14 GB\n"
          ]
        }
      ]
    },
    {
      "cell_type": "markdown",
      "source": [
        "### Inciso 1\n",
        "* Cálculo de la fórmula para crear el gloID en el kernel. Consulte la llamada al kernel para deducir usando la configuración (geometría) del grid de esa llamada.\n",
        "* Hace falta la liberación de memoria al final del programa. Agreguela para las variables\n",
        "utilizadas"
      ],
      "metadata": {
        "id": "55DS5E1yYTnF"
      }
    },
    {
      "cell_type": "code",
      "source": [
        "%%writefile hough.cu\n",
        "/*\n",
        " ============================================================================\n",
        " Author        : G. Barlas\n",
        " Version       : 1.0\n",
        " Last modified : December 2014\n",
        " License       : Released under the GNU GPL 3.0\n",
        " Description   :\n",
        " To build use  : make\n",
        " ============================================================================\n",
        " */\n",
        "#include <stdio.h>\n",
        "#include <stdlib.h>\n",
        "#include <math.h>\n",
        "#include <cuda.h>\n",
        "#include <string.h>\n",
        "#include \"common/pgm.h\"\n",
        "\n",
        "const int degreeInc = 2;\n",
        "const int degreeBins = 180 / degreeInc;\n",
        "const int rBins = 100;\n",
        "const float radInc = degreeInc * M_PI / 180;\n",
        "//*****************************************************************\n",
        "// The CPU function returns a pointer to the accummulator\n",
        "void CPU_HoughTran (unsigned char *pic, int w, int h, int **acc)\n",
        "{\n",
        "  float rMax = sqrt (1.0 * w * w + 1.0 * h * h) / 2;  //(w^2 + h^2)/2, radio max equivalente a centro -> esquina\n",
        "  *acc = new int[rBins * degreeBins];            //el acumulador, conteo depixeles encontrados, 90*180/degInc = 9000\n",
        "  memset (*acc, 0, sizeof (int) * rBins * degreeBins); //init en ceros\n",
        "  int xCent = w / 2;\n",
        "  int yCent = h / 2;\n",
        "  float rScale = 2 * rMax / rBins;\n",
        "\n",
        "  for (int i = 0; i < w; i++) //por cada pixel\n",
        "    for (int j = 0; j < h; j++) //...\n",
        "      {\n",
        "        int idx = j * w + i;\n",
        "        if (pic[idx] > 0) //si pasa thresh, entonces lo marca\n",
        "          {\n",
        "            int xCoord = i - xCent;\n",
        "            int yCoord = yCent - j;  // y-coord has to be reversed\n",
        "            float theta = 0;         // actual angle\n",
        "            for (int tIdx = 0; tIdx < degreeBins; tIdx++) //add 1 to all lines in that pixel\n",
        "              {\n",
        "                float r = xCoord * cos (theta) + yCoord * sin (theta);\n",
        "                int rIdx = (r + rMax) / rScale;\n",
        "                (*acc)[rIdx * degreeBins + tIdx]++; //+1 para este radio r y este theta\n",
        "                theta += radInc;\n",
        "              }\n",
        "          }\n",
        "      }\n",
        "}\n",
        "\n",
        "//*****************************************************************\n",
        "// TODO usar memoria constante para la tabla de senos y cosenos\n",
        "// inicializarlo en main y pasarlo al device\n",
        "//__constant__ float d_Cos[degreeBins];\n",
        "//__constant__ float d_Sin[degreeBins];\n",
        "\n",
        "//*****************************************************************\n",
        "//TODO Kernel memoria compartida\n",
        "// __global__ void GPU_HoughTranShared(...)\n",
        "// {\n",
        "//   //TODO\n",
        "// }\n",
        "//TODO Kernel memoria Constante\n",
        "// __global__ void GPU_HoughTranConst(...)\n",
        "// {\n",
        "//   //TODO\n",
        "// }\n",
        "\n",
        "// GPU kernel. One thread per image pixel is spawned.\n",
        "// The accummulator memory needs to be allocated by the host in global memory\n",
        "__global__ void GPU_HoughTran (unsigned char *pic, int w, int h, int *acc, float rMax, float rScale, float *d_Cos, float *d_Sin)\n",
        "{\n",
        "  int gloID = blockIdx.x * blockDim.x + threadIdx.x; // Cálculo correcto de gloID\n",
        "  if (gloID >= w * h) return; // Corrección en la condición\n",
        "\n",
        "  int xCent = w / 2;\n",
        "  int yCent = h / 2;\n",
        "\n",
        "  //TODO explicar bien bien esta parte. Dibujar un rectangulo a modo de imagen sirve para visualizarlo mejor\n",
        "  int xCoord = gloID % w - xCent;\n",
        "  int yCoord = yCent - gloID / w;\n",
        "\n",
        "  //TODO eventualmente usar memoria compartida para el acumulador\n",
        "\n",
        "  if (pic[gloID] > 0)\n",
        "    {\n",
        "      for (int tIdx = 0; tIdx < degreeBins; tIdx++)\n",
        "        {\n",
        "          //TODO utilizar memoria constante para senos y cosenos\n",
        "          //float r = xCoord * cos(tIdx) + yCoord * sin(tIdx); //probar con esto para ver diferencia en tiempo\n",
        "          float r = xCoord * d_Cos[tIdx] + yCoord * d_Sin[tIdx];\n",
        "          int rIdx = (r + rMax) / rScale;\n",
        "          //debemos usar atomic, pero que race condition hay si somos un thread por pixel? explique\n",
        "          atomicAdd (acc + (rIdx * degreeBins + tIdx), 1);\n",
        "        }\n",
        "    }\n",
        "\n",
        "  //TODO eventualmente cuando se tenga memoria compartida, copiar del local al global\n",
        "  //utilizar operaciones atomicas para seguridad\n",
        "  //faltara sincronizar los hilos del bloque en algunos lados\n",
        "\n",
        "}\n",
        "\n",
        "//*****************************************************************\n",
        "int main (int argc, char **argv)\n",
        "{\n",
        "  int i;\n",
        "\n",
        "  PGMImage inImg (argv[1]);\n",
        "\n",
        "  int *cpuht;\n",
        "  int w = inImg.x_dim;\n",
        "  int h = inImg.y_dim;\n",
        "\n",
        "  float* d_Cos;\n",
        "  float* d_Sin;\n",
        "\n",
        "  cudaMalloc ((void **) &d_Cos, sizeof (float) * degreeBins);\n",
        "  cudaMalloc ((void **) &d_Sin, sizeof (float) * degreeBins);\n",
        "\n",
        "  // CPU calculation\n",
        "  CPU_HoughTran(inImg.pixels, w, h, &cpuht);\n",
        "\n",
        "  // pre-compute values to be stored\n",
        "  float *pcCos = (float *) malloc (sizeof (float) * degreeBins);\n",
        "  float *pcSin = (float *) malloc (sizeof (float) * degreeBins);\n",
        "  float rad = 0;\n",
        "  for (i = 0; i < degreeBins; i++)\n",
        "  {\n",
        "    pcCos[i] = cos (rad);\n",
        "    pcSin[i] = sin (rad);\n",
        "    rad += radInc;\n",
        "  }\n",
        "\n",
        "  float rMax = sqrt (1.0 * w * w + 1.0 * h * h) / 2;\n",
        "  float rScale = 2 * rMax / rBins;\n",
        "\n",
        "  // TODO eventualmente volver memoria global\n",
        "  cudaMemcpy(d_Cos, pcCos, sizeof (float) * degreeBins, cudaMemcpyHostToDevice);\n",
        "  cudaMemcpy(d_Sin, pcSin, sizeof (float) * degreeBins, cudaMemcpyHostToDevice);\n",
        "\n",
        "  // setup and copy data from host to device\n",
        "  unsigned char *d_in, *h_in;\n",
        "  int *d_hough, *h_hough;\n",
        "\n",
        "  h_in = inImg.pixels; // h_in contiene los pixeles de la imagen\n",
        "\n",
        "  h_hough = (int *) malloc (degreeBins * rBins * sizeof (int));\n",
        "\n",
        "  cudaMalloc ((void **) &d_in, sizeof (unsigned char) * w * h);\n",
        "  cudaMalloc ((void **) &d_hough, sizeof (int) * degreeBins * rBins);\n",
        "  cudaMemcpy (d_in, h_in, sizeof (unsigned char) * w * h, cudaMemcpyHostToDevice);\n",
        "  cudaMemset (d_hough, 0, sizeof (int) * degreeBins * rBins);\n",
        "\n",
        "  // execution configuration uses a 1-D grid of 1-D blocks, each made of 256 threads\n",
        "  //1 thread por pixel\n",
        "  int blockNum = ceil (w * h / 256);\n",
        "  GPU_HoughTran <<< blockNum, 256 >>> (d_in, w, h, d_hough, rMax, rScale, d_Cos, d_Sin);\n",
        "\n",
        "  // get results from device\n",
        "  cudaMemcpy (h_hough, d_hough, sizeof (int) * degreeBins * rBins, cudaMemcpyDeviceToHost);\n",
        "\n",
        "  // compare CPU and GPU results\n",
        "  for (i = 0; i < degreeBins * rBins; i++)\n",
        "  {\n",
        "    if (cpuht[i] != h_hough[i])\n",
        "      printf (\"Calculation mismatch at : %i %i %i\\n\", i, cpuht[i], h_hough[i]);\n",
        "  }\n",
        "  printf(\"Done!\\n\");\n",
        "\n",
        "  // Liberación de memoria al final del programa\n",
        "  cudaFree(d_Cos);\n",
        "  cudaFree(d_Sin);\n",
        "  cudaFree(d_in);\n",
        "  cudaFree(d_hough);\n",
        "  free(pcCos);\n",
        "  free(pcSin);\n",
        "  free(h_hough);\n",
        "  delete[] cpuht;\n",
        "\n",
        "  return 0;\n",
        "}\n"
      ],
      "metadata": {
        "id": "Ch-JFL6eYhST",
        "outputId": "e07ebcdf-969a-4072-942d-606402f7cc9f",
        "colab": {
          "base_uri": "https://localhost:8080/"
        }
      },
      "execution_count": 6,
      "outputs": [
        {
          "output_type": "stream",
          "name": "stdout",
          "text": [
            "Writing hough.cu\n"
          ]
        }
      ]
    },
    {
      "cell_type": "code",
      "source": [
        "!sudo apt-get install libopencv-dev"
      ],
      "metadata": {
        "id": "_forDTYbHXK_",
        "outputId": "259f48b7-845b-4df0-f602-d29af2e6cd65",
        "colab": {
          "base_uri": "https://localhost:8080/"
        }
      },
      "execution_count": 7,
      "outputs": [
        {
          "output_type": "stream",
          "name": "stdout",
          "text": [
            "Reading package lists... Done\n",
            "Building dependency tree... Done\n",
            "Reading state information... Done\n",
            "libopencv-dev is already the newest version (4.5.4+dfsg-9ubuntu4).\n",
            "0 upgraded, 0 newly installed, 0 to remove and 8 not upgraded.\n"
          ]
        }
      ]
    },
    {
      "cell_type": "code",
      "source": [
        "!make"
      ],
      "metadata": {
        "id": "03iLUlA9He3A",
        "outputId": "b2d96595-f87c-48dd-917a-3dc97668fd38",
        "colab": {
          "base_uri": "https://localhost:8080/"
        }
      },
      "execution_count": 8,
      "outputs": [
        {
          "output_type": "stream",
          "name": "stdout",
          "text": [
            "g++ -c common/pgm.cpp -o ./pgm.o\n",
            "nvcc hough.cu pgm.o -o hough\n"
          ]
        }
      ]
    },
    {
      "cell_type": "code",
      "source": [
        "!nvcc houghBase.cu pgm.o --verbose -o hough -I/usr/include/opencv4 -L/usr/lib -lopencv_core -lopencv_imgcodecs -lopencv_highgui -lopencv_imgproc"
      ],
      "metadata": {
        "id": "vqsKjN3UYr-F",
        "outputId": "21dd485a-c8e6-488a-f914-d7806d02b12a",
        "colab": {
          "base_uri": "https://localhost:8080/"
        }
      },
      "execution_count": 9,
      "outputs": [
        {
          "output_type": "stream",
          "name": "stdout",
          "text": [
            "#$ _NVVM_BRANCH_=nvvm\n",
            "#$ _SPACE_= \n",
            "#$ _CUDART_=cudart\n",
            "#$ _HERE_=/usr/local/cuda/bin\n",
            "#$ _THERE_=/usr/local/cuda/bin\n",
            "#$ _TARGET_SIZE_=\n",
            "#$ _TARGET_DIR_=\n",
            "#$ _TARGET_DIR_=targets/x86_64-linux\n",
            "#$ TOP=/usr/local/cuda/bin/..\n",
            "#$ NVVMIR_LIBRARY_DIR=/usr/local/cuda/bin/../nvvm/libdevice\n",
            "#$ LD_LIBRARY_PATH=/usr/local/cuda/bin/../lib:/usr/lib64-nvidia\n",
            "#$ PATH=/usr/local/cuda/bin/../nvvm/bin:/usr/local/cuda/bin:/opt/bin:/usr/local/nvidia/bin:/usr/local/cuda/bin:/usr/local/sbin:/usr/local/bin:/usr/sbin:/usr/bin:/sbin:/bin:/tools/node/bin:/tools/google-cloud-sdk/bin\n",
            "#$ INCLUDES=\"-I/usr/local/cuda/bin/../targets/x86_64-linux/include\"  \n",
            "#$ LIBRARIES=  \"-L/usr/local/cuda/bin/../targets/x86_64-linux/lib/stubs\" \"-L/usr/local/cuda/bin/../targets/x86_64-linux/lib\"\n",
            "#$ CUDAFE_FLAGS=\n",
            "#$ PTXAS_FLAGS=\n",
            "#$ gcc -D__CUDA_ARCH__=520 -D__CUDA_ARCH_LIST__=520 -E -x c++  -DCUDA_DOUBLE_MATH_FUNCTIONS -D__CUDACC__ -D__NVCC__  -I\"/usr/include/opencv4\" \"-I/usr/local/cuda/bin/../targets/x86_64-linux/include\"    -D__CUDACC_VER_MAJOR__=11 -D__CUDACC_VER_MINOR__=8 -D__CUDACC_VER_BUILD__=89 -D__CUDA_API_VER_MAJOR__=11 -D__CUDA_API_VER_MINOR__=8 -D__NVCC_DIAG_PRAGMA_SUPPORT__=1 -include \"cuda_runtime.h\" -m64 \"houghBase.cu\" -o \"/tmp/tmpxft_00000723_00000000-9_houghBase.cpp1.ii\" \n",
            "\u001b[01m\u001b[Kcc1plus:\u001b[m\u001b[K \u001b[01;31m\u001b[Kfatal error: \u001b[m\u001b[KhoughBase.cu: No such file or directory\n",
            "compilation terminated.\n",
            "# --error 0x1 --\n"
          ]
        }
      ]
    },
    {
      "cell_type": "code",
      "source": [
        "!./hough runway.pgm"
      ],
      "metadata": {
        "id": "m6r_3bpTZyyW",
        "outputId": "a7e91396-45a3-4a47-87e2-9f61fdaba7cf",
        "colab": {
          "base_uri": "https://localhost:8080/"
        }
      },
      "execution_count": 10,
      "outputs": [
        {
          "output_type": "stream",
          "name": "stdout",
          "text": [
            "Calculation mismatch at : 1803 1446 1445\n",
            "Calculation mismatch at : 1893 1506 1507\n",
            "Calculation mismatch at : 5931 1653 1654\n",
            "Calculation mismatch at : 6021 1816 1815\n",
            "Calculation mismatch at : 6104 1642 1641\n",
            "Calculation mismatch at : 6194 1586 1587\n",
            "Done!\n"
          ]
        }
      ]
    },
    {
      "cell_type": "markdown",
      "source": [
        "### Inciso 2\n",
        "* Incorpore medición de tiempo de la llamada al kernel mediante el uso de CUDA events."
      ],
      "metadata": {
        "id": "tgfl4BlCa9YF"
      }
    },
    {
      "cell_type": "code",
      "source": [
        "%%writefile hough.cu\n",
        "/*\n",
        " ============================================================================\n",
        " Author        : G. Barlas\n",
        " Version       : 1.0\n",
        " Last modified : December 2014\n",
        " License       : Released under the GNU GPL 3.0\n",
        " Description   :\n",
        " To build use  : make\n",
        " ============================================================================\n",
        " */\n",
        "#include <stdio.h>\n",
        "#include <stdlib.h>\n",
        "#include <math.h>\n",
        "#include <cuda.h>\n",
        "#include <string.h>\n",
        "#include \"common/pgm.h\"\n",
        "\n",
        "const int degreeInc = 2;\n",
        "const int degreeBins = 180 / degreeInc;\n",
        "const int rBins = 100;\n",
        "const float radInc = degreeInc * M_PI / 180;\n",
        "//*****************************************************************\n",
        "// The CPU function returns a pointer to the accummulator\n",
        "void CPU_HoughTran (unsigned char *pic, int w, int h, int **acc)\n",
        "{\n",
        "  float rMax = sqrt (1.0 * w * w + 1.0 * h * h) / 2;  //(w^2 + h^2)/2, radio max equivalente a centro -> esquina\n",
        "  *acc = new int[rBins * degreeBins];            //el acumulador, conteo depixeles encontrados, 90*180/degInc = 9000\n",
        "  memset (*acc, 0, sizeof (int) * rBins * degreeBins); //init en ceros\n",
        "  int xCent = w / 2;\n",
        "  int yCent = h / 2;\n",
        "  float rScale = 2 * rMax / rBins;\n",
        "\n",
        "  for (int i = 0; i < w; i++) //por cada pixel\n",
        "    for (int j = 0; j < h; j++) //...\n",
        "      {\n",
        "        int idx = j * w + i;\n",
        "        if (pic[idx] > 0) //si pasa thresh, entonces lo marca\n",
        "          {\n",
        "            int xCoord = i - xCent;\n",
        "            int yCoord = yCent - j;  // y-coord has to be reversed\n",
        "            float theta = 0;         // actual angle\n",
        "            for (int tIdx = 0; tIdx < degreeBins; tIdx++) //add 1 to all lines in that pixel\n",
        "              {\n",
        "                float r = xCoord * cos (theta) + yCoord * sin (theta);\n",
        "                int rIdx = (r + rMax) / rScale;\n",
        "                (*acc)[rIdx * degreeBins + tIdx]++; //+1 para este radio r y este theta\n",
        "                theta += radInc;\n",
        "              }\n",
        "          }\n",
        "      }\n",
        "}\n",
        "\n",
        "//*****************************************************************\n",
        "// TODO usar memoria constante para la tabla de senos y cosenos\n",
        "// inicializarlo en main y pasarlo al device\n",
        "//__constant__ float d_Cos[degreeBins];\n",
        "//__constant__ float d_Sin[degreeBins];\n",
        "\n",
        "//*****************************************************************\n",
        "//TODO Kernel memoria compartida\n",
        "// __global__ void GPU_HoughTranShared(...)\n",
        "// {\n",
        "//   //TODO\n",
        "// }\n",
        "//TODO Kernel memoria Constante\n",
        "// __global__ void GPU_HoughTranConst(...)\n",
        "// {\n",
        "//   //TODO\n",
        "// }\n",
        "\n",
        "// GPU kernel. One thread per image pixel is spawned.\n",
        "// The accummulator memory needs to be allocated by the host in global memory\n",
        "__global__ void GPU_HoughTran (unsigned char *pic, int w, int h, int *acc, float rMax, float rScale, float *d_Cos, float *d_Sin)\n",
        "{\n",
        "  int gloID = blockIdx.x * blockDim.x + threadIdx.x; // Cálculo correcto de gloID\n",
        "  if (gloID >= w * h) return; // Corrección en la condición\n",
        "\n",
        "  int xCent = w / 2;\n",
        "  int yCent = h / 2;\n",
        "\n",
        "  int xCoord = gloID % w - xCent;\n",
        "  int yCoord = yCent - gloID / w;\n",
        "\n",
        "  if (pic[gloID] > 0)\n",
        "    {\n",
        "      for (int tIdx = 0; tIdx < degreeBins; tIdx++)\n",
        "        {\n",
        "          float r = xCoord * d_Cos[tIdx] + yCoord * d_Sin[tIdx];\n",
        "          int rIdx = (r + rMax) / rScale;\n",
        "          atomicAdd (acc + (rIdx * degreeBins + tIdx), 1);\n",
        "        }\n",
        "    }\n",
        "}\n",
        "\n",
        "//*****************************************************************\n",
        "int main (int argc, char **argv)\n",
        "{\n",
        "  int i;\n",
        "\n",
        "  PGMImage inImg (argv[1]);\n",
        "\n",
        "  int *cpuht;\n",
        "  int w = inImg.x_dim;\n",
        "  int h = inImg.y_dim;\n",
        "\n",
        "  float* d_Cos;\n",
        "  float* d_Sin;\n",
        "\n",
        "  cudaMalloc ((void **) &d_Cos, sizeof (float) * degreeBins);\n",
        "  cudaMalloc ((void **) &d_Sin, sizeof (float) * degreeBins);\n",
        "\n",
        "  // CPU calculation\n",
        "  CPU_HoughTran(inImg.pixels, w, h, &cpuht);\n",
        "\n",
        "  // pre-compute values to be stored\n",
        "  float *pcCos = (float *) malloc (sizeof (float) * degreeBins);\n",
        "  float *pcSin = (float *) malloc (sizeof (float) * degreeBins);\n",
        "  float rad = 0;\n",
        "  for (i = 0; i < degreeBins; i++)\n",
        "  {\n",
        "    pcCos[i] = cos (rad);\n",
        "    pcSin[i] = sin (rad);\n",
        "    rad += radInc;\n",
        "  }\n",
        "\n",
        "  float rMax = sqrt (1.0 * w * w + 1.0 * h * h) / 2;\n",
        "  float rScale = 2 * rMax / rBins;\n",
        "\n",
        "  cudaMemcpy(d_Cos, pcCos, sizeof (float) * degreeBins, cudaMemcpyHostToDevice);\n",
        "  cudaMemcpy(d_Sin, pcSin, sizeof (float) * degreeBins, cudaMemcpyHostToDevice);\n",
        "\n",
        "  unsigned char *d_in, *h_in;\n",
        "  int *d_hough, *h_hough;\n",
        "\n",
        "  h_in = inImg.pixels;\n",
        "\n",
        "  h_hough = (int *) malloc (degreeBins * rBins * sizeof (int));\n",
        "\n",
        "  cudaMalloc ((void **) &d_in, sizeof (unsigned char) * w * h);\n",
        "  cudaMalloc ((void **) &d_hough, sizeof (int) * degreeBins * rBins);\n",
        "  cudaMemcpy (d_in, h_in, sizeof (unsigned char) * w * h, cudaMemcpyHostToDevice);\n",
        "  cudaMemset (d_hough, 0, sizeof (int) * degreeBins * rBins);\n",
        "\n",
        "  // Define CUDA events for timing\n",
        "  cudaEvent_t start, stop;\n",
        "  cudaEventCreate(&start);\n",
        "  cudaEventCreate(&stop);\n",
        "\n",
        "  // Start recording the event\n",
        "  cudaEventRecord(start);\n",
        "\n",
        "  // execution configuration uses a 1-D grid of 1-D blocks, each made of 256 threads\n",
        "  int blockNum = ceil (w * h / 256);\n",
        "  GPU_HoughTran <<< blockNum, 256 >>> (d_in, w, h, d_hough, rMax, rScale, d_Cos, d_Sin);\n",
        "\n",
        "  // Stop recording the event\n",
        "  cudaEventRecord(stop);\n",
        "  cudaEventSynchronize(stop);\n",
        "\n",
        "  // Calculate the elapsed time between the start and stop events\n",
        "  float milliseconds = 0;\n",
        "  cudaEventElapsedTime(&milliseconds, start, stop);\n",
        "\n",
        "  printf(\"GPU Hough Transform took %f milliseconds\\n\", milliseconds);\n",
        "\n",
        "  // get results from device\n",
        "  cudaMemcpy (h_hough, d_hough, sizeof (int) * degreeBins * rBins, cudaMemcpyDeviceToHost);\n",
        "\n",
        "  // compare CPU and GPU results\n",
        "  for (i = 0; i < degreeBins * rBins; i++)\n",
        "  {\n",
        "    if (cpuht[i] != h_hough[i])\n",
        "      printf (\"Mismatch at : %i %i %i\\n\", i, cpuht[i], h_hough[i]);\n",
        "  }\n",
        "  printf(\"Done!\\n\");\n",
        "\n",
        "  // Clean-up\n",
        "  cudaFree(d_Cos);\n",
        "  cudaFree(d_Sin);\n",
        "  cudaFree(d_in);\n",
        "  cudaFree(d_hough);\n",
        "  free(pcCos);\n",
        "  free(pcSin);\n",
        "  free(h_hough);\n",
        "  delete[] cpuht;\n",
        "\n",
        "  // Destroy CUDA events\n",
        "  cudaEventDestroy(start);\n",
        "  cudaEventDestroy(stop);\n",
        "\n",
        "  return 0;\n",
        "}"
      ],
      "metadata": {
        "colab": {
          "base_uri": "https://localhost:8080/"
        },
        "id": "L9TpwOkEa_A1",
        "outputId": "98a28bf1-edf8-4dad-f2ab-8685a771aeb3"
      },
      "execution_count": 11,
      "outputs": [
        {
          "output_type": "stream",
          "name": "stdout",
          "text": [
            "Overwriting hough.cu\n"
          ]
        }
      ]
    },
    {
      "cell_type": "code",
      "source": [
        "!make"
      ],
      "metadata": {
        "colab": {
          "base_uri": "https://localhost:8080/"
        },
        "id": "jmev1i13bN71",
        "outputId": "8ce4c7bc-e5b8-458a-ea0e-9577dbb0773a"
      },
      "execution_count": 12,
      "outputs": [
        {
          "output_type": "stream",
          "name": "stdout",
          "text": [
            "nvcc hough.cu pgm.o -o hough\n"
          ]
        }
      ]
    },
    {
      "cell_type": "code",
      "source": [
        "!nvcc houghBase.cu pgm.o --verbose -o hough -I/usr/include/opencv4 -L/usr/lib -lopencv_core -lopencv_imgcodecs -lopencv_highgui -lopencv_imgproc"
      ],
      "metadata": {
        "colab": {
          "base_uri": "https://localhost:8080/"
        },
        "id": "m8QGdVfObQiB",
        "outputId": "8f3b5e8b-496e-4787-babd-01dd1e6e8f2d"
      },
      "execution_count": 13,
      "outputs": [
        {
          "output_type": "stream",
          "name": "stdout",
          "text": [
            "#$ _NVVM_BRANCH_=nvvm\n",
            "#$ _SPACE_= \n",
            "#$ _CUDART_=cudart\n",
            "#$ _HERE_=/usr/local/cuda/bin\n",
            "#$ _THERE_=/usr/local/cuda/bin\n",
            "#$ _TARGET_SIZE_=\n",
            "#$ _TARGET_DIR_=\n",
            "#$ _TARGET_DIR_=targets/x86_64-linux\n",
            "#$ TOP=/usr/local/cuda/bin/..\n",
            "#$ NVVMIR_LIBRARY_DIR=/usr/local/cuda/bin/../nvvm/libdevice\n",
            "#$ LD_LIBRARY_PATH=/usr/local/cuda/bin/../lib:/usr/lib64-nvidia\n",
            "#$ PATH=/usr/local/cuda/bin/../nvvm/bin:/usr/local/cuda/bin:/opt/bin:/usr/local/nvidia/bin:/usr/local/cuda/bin:/usr/local/sbin:/usr/local/bin:/usr/sbin:/usr/bin:/sbin:/bin:/tools/node/bin:/tools/google-cloud-sdk/bin\n",
            "#$ INCLUDES=\"-I/usr/local/cuda/bin/../targets/x86_64-linux/include\"  \n",
            "#$ LIBRARIES=  \"-L/usr/local/cuda/bin/../targets/x86_64-linux/lib/stubs\" \"-L/usr/local/cuda/bin/../targets/x86_64-linux/lib\"\n",
            "#$ CUDAFE_FLAGS=\n",
            "#$ PTXAS_FLAGS=\n",
            "#$ gcc -D__CUDA_ARCH__=520 -D__CUDA_ARCH_LIST__=520 -E -x c++  -DCUDA_DOUBLE_MATH_FUNCTIONS -D__CUDACC__ -D__NVCC__  -I\"/usr/include/opencv4\" \"-I/usr/local/cuda/bin/../targets/x86_64-linux/include\"    -D__CUDACC_VER_MAJOR__=11 -D__CUDACC_VER_MINOR__=8 -D__CUDACC_VER_BUILD__=89 -D__CUDA_API_VER_MAJOR__=11 -D__CUDA_API_VER_MINOR__=8 -D__NVCC_DIAG_PRAGMA_SUPPORT__=1 -include \"cuda_runtime.h\" -m64 \"houghBase.cu\" -o \"/tmp/tmpxft_0000075c_00000000-9_houghBase.cpp1.ii\" \n",
            "\u001b[01m\u001b[Kcc1plus:\u001b[m\u001b[K \u001b[01;31m\u001b[Kfatal error: \u001b[m\u001b[KhoughBase.cu: No such file or directory\n",
            "compilation terminated.\n",
            "# --error 0x1 --\n"
          ]
        }
      ]
    },
    {
      "cell_type": "code",
      "source": [
        "!./hough runway.pgm"
      ],
      "metadata": {
        "colab": {
          "base_uri": "https://localhost:8080/"
        },
        "id": "SALlIEwbbShP",
        "outputId": "3f55fe10-325c-4c45-ede3-79fa03cf9bad"
      },
      "execution_count": 14,
      "outputs": [
        {
          "output_type": "stream",
          "name": "stdout",
          "text": [
            "GPU Hough Transform took 1.542112 milliseconds\n",
            "Mismatch at : 1803 1446 1445\n",
            "Mismatch at : 1893 1506 1507\n",
            "Mismatch at : 5931 1653 1654\n",
            "Mismatch at : 6021 1816 1815\n",
            "Mismatch at : 6104 1642 1641\n",
            "Mismatch at : 6194 1586 1587\n",
            "Done!\n"
          ]
        }
      ]
    },
    {
      "cell_type": "markdown",
      "source": [
        "### Inciso 3\n",
        "* Podemos ver que en el kernel se calcula xCoord y también yCoord. Explique en sus palabras que se está realizando en esas operaciones y porque se calcula de tal forma."
      ],
      "metadata": {
        "id": "9pn4l4xOcfxH"
      }
    },
    {
      "cell_type": "code",
      "source": [],
      "metadata": {
        "id": "l0jPmrTHcpFc"
      },
      "execution_count": 14,
      "outputs": []
    },
    {
      "cell_type": "markdown",
      "source": [
        "### Inciso 4\n",
        "* Ya que estamos en temas de Computer Vision, acá aplica fuertemente el dicho de “una imagen vale más que mil palabras”. Modifique el programa y adicione como salida una imagen (.jpg o.png) con las líneas detectadas (Es decir, la imagen de entrada con las líneas dibujadas a color\n",
        "encima de la imagen blanco y negro). Para no dibujar todas las líneas posibles, dibuje solamente aquellas cuyo “peso” sea mayor a un Threshold arbitrario (i.e.: dibujas aquellas cuyo peso > threshold, o bien dibujar aquellas cuyo peso > promedio de pesos + 2 stdvs, etc)"
      ],
      "metadata": {
        "id": "_MAl9O1xc4NH"
      }
    },
    {
      "cell_type": "code",
      "source": [
        "%%writefile hough.cu\n",
        "/*\n",
        " ============================================================================\n",
        " Author        : G. Barlas\n",
        " Version       : 1.0\n",
        " Last modified : December 2014\n",
        " License       : Released under the GNU GPL 3.0\n",
        " Description   :\n",
        " To build use  : make\n",
        " ============================================================================\n",
        " */\n",
        "#include <stdio.h>\n",
        "#include <stdlib.h>\n",
        "#include <math.h>\n",
        "#include <cuda.h>\n",
        "#include <string.h>\n",
        "#include \"common/pgm.h\"\n",
        "#include <opencv2/opencv.hpp>\n",
        "#include <vector>\n",
        "\n",
        "const int degreeInc = 2;\n",
        "const int degreeBins = 180 / degreeInc;\n",
        "const int rBins = 100;\n",
        "const float radInc = degreeInc * M_PI / 180;\n",
        "\n",
        "void CPU_HoughTran (unsigned char *pic, int w, int h, int **acc)\n",
        "{\n",
        "  float rMax = sqrt (1.0 * w * w + 1.0 * h * h) / 2;  //(w^2 + h^2)/2, radio max equivalente a centro -> esquina\n",
        "  *acc = new int[rBins * degreeBins];            //el acumulador, conteo depixeles encontrados, 90*180/degInc = 9000\n",
        "  memset (*acc, 0, sizeof (int) * rBins * degreeBins); //init en ceros\n",
        "  int xCent = w / 2;\n",
        "  int yCent = h / 2;\n",
        "  float rScale = 2 * rMax / rBins;\n",
        "\n",
        "  for (int i = 0; i < w; i++) //por cada pixel\n",
        "    for (int j = 0; j < h; j++) //...\n",
        "      {\n",
        "        int idx = j * w + i;\n",
        "        if (pic[idx] > 0) //si pasa thresh, entonces lo marca\n",
        "          {\n",
        "            int xCoord = i - xCent;\n",
        "            int yCoord = yCent - j;  // y-coord has to be reversed\n",
        "            float theta = 0;         // actual angle\n",
        "            for (int tIdx = 0; tIdx < degreeBins; tIdx++) //add 1 to all lines in that pixel\n",
        "              {\n",
        "                float r = xCoord * cos (theta) + yCoord * sin (theta);\n",
        "                int rIdx = (r + rMax) / rScale;\n",
        "                (*acc)[rIdx * degreeBins + tIdx]++; //+1 para este radio r y este theta\n",
        "                theta += radInc;\n",
        "              }\n",
        "          }\n",
        "      }\n",
        "}\n",
        "\n",
        "void drawLine(cv::Mat &img, double rho, double theta, cv::Scalar color) {\n",
        "    cv::Point pt1, pt2;\n",
        "    double a = cos(theta), b = sin(theta);\n",
        "    double x0 = a * rho, y0 = b * rho;\n",
        "    pt1.x = cvRound(x0 + 1000 * (-b));\n",
        "    pt1.y = cvRound(y0 + 1000 * (a));\n",
        "    pt2.x = cvRound(x0 - 1000 * (-b));\n",
        "    pt2.y = cvRound(y0 - 1000 * (a));\n",
        "    line(img, pt1, pt2, color, 3, cv::LINE_AA);\n",
        "}\n",
        "\n",
        "\n",
        "__global__ void GPU_HoughTran(unsigned char *pic, int w, int h, int *acc, float rMax, float rScale, float *d_Cos, float *d_Sin) {\n",
        "    int gloID = blockIdx.x * blockDim.x + threadIdx.x;\n",
        "    if (gloID >= w * h) return;\n",
        "\n",
        "    int xCent = w / 2;\n",
        "    int yCent = h / 2;\n",
        "\n",
        "    int xCoord = gloID % w - xCent;\n",
        "    int yCoord = yCent - gloID / w;\n",
        "\n",
        "    if (pic[gloID] > 0) {\n",
        "        for (int tIdx = 0; tIdx < degreeBins; tIdx++) {\n",
        "            float r = xCoord * d_Cos[tIdx] + yCoord * d_Sin[tIdx];\n",
        "            int rIdx = (r + rMax) / rScale;\n",
        "            atomicAdd(&acc[rIdx * degreeBins + tIdx], 1);\n",
        "        }\n",
        "    }\n",
        "}\n",
        "\n",
        "int main(int argc, char **argv) {\n",
        "    if (argc != 2) {\n",
        "        printf(\"Usage: %s <image.pgm>\\n\", argv[0]);\n",
        "        return -1;\n",
        "    }\n",
        "\n",
        "    PGMImage inImg(argv[1]);\n",
        "    int w = inImg.x_dim;\n",
        "    int h = inImg.y_dim;\n",
        "    int *cpuht;\n",
        "\n",
        "    // Reserva memoria en el host y el device\n",
        "    float* d_Cos;\n",
        "    float* d_Sin;\n",
        "    unsigned char *d_in;\n",
        "    int *d_hough;\n",
        "    cudaMalloc((void**)&d_Cos, sizeof(float) * degreeBins);\n",
        "    cudaMalloc((void**)&d_Sin, sizeof(float) * degreeBins);\n",
        "    cudaMalloc((void**)&d_in, sizeof(unsigned char) * w * h);\n",
        "    cudaMalloc((void**)&d_hough, sizeof(int) * degreeBins * rBins);\n",
        "    int* h_hough = (int*)malloc(degreeBins * rBins * sizeof(int));\n",
        "\n",
        "    // Calcula la transformada de Hough en la CPU\n",
        "    CPU_HoughTran(inImg.pixels, w, h, &cpuht);\n",
        "\n",
        "    // Calcula rMax y rScale basado en el tamaño de la imagen\n",
        "    float rMax = sqrtf(1.0 * w * w + 1.0 * h * h) / 2;\n",
        "    float rScale = 2 * rMax / rBins;\n",
        "\n",
        "    // Configura el número de bloques e hilos\n",
        "    int threadsPerBlock = 256;\n",
        "    int blockNum = (w * h + threadsPerBlock - 1) / threadsPerBlock;\n",
        "\n",
        "    // Define eventos para medir el tiempo\n",
        "    cudaEvent_t start, stop;\n",
        "    cudaEventCreate(&start);\n",
        "    cudaEventCreate(&stop);\n",
        "\n",
        "    // Inicia la medición del tiempo\n",
        "    cudaEventRecord(start);\n",
        "\n",
        "    // Llama al kernel\n",
        "    GPU_HoughTran<<<blockNum, threadsPerBlock>>>(d_in, w, h, d_hough, rMax, rScale, d_Cos, d_Sin);\n",
        "\n",
        "    // Finaliza la medición del tiempo\n",
        "    cudaEventRecord(stop);\n",
        "    cudaEventSynchronize(stop);\n",
        "\n",
        "    // Calcula el tiempo transcurrido\n",
        "    float milliseconds = 0;\n",
        "    cudaEventElapsedTime(&milliseconds, start, stop);\n",
        "    printf(\"GPU Hough Transform took %f milliseconds\\n\", milliseconds);\n",
        "\n",
        "    // Copia los resultados de vuelta al host\n",
        "    cudaMemcpy(h_hough, d_hough, sizeof(int) * degreeBins * rBins, cudaMemcpyDeviceToHost);\n",
        "\n",
        "    // Carga la imagen original y conviértela a color\n",
        "    cv::Mat originalImage = cv::imread(argv[1], cv::IMREAD_GRAYSCALE);\n",
        "    cv::Mat colorImage;\n",
        "    cvtColor(originalImage, colorImage, cv::COLOR_GRAY2BGR);\n",
        "\n",
        "    // Encuentra líneas que superan el umbral y dibújalas\n",
        "    float sum = 0;\n",
        "    float sumSq = 0;\n",
        "    int count = 0;\n",
        "    for (int i = 0; i < degreeBins * rBins; i++) {\n",
        "        sum += h_hough[i];\n",
        "        sumSq += h_hough[i] * h_hough[i];\n",
        "        count++;\n",
        "    }\n",
        "    float promedio = sum / count;\n",
        "    float varianza = (sumSq / count) - (promedio * promedio);\n",
        "    float desviacionEstandar = sqrt(varianza);\n",
        "    float threshold = promedio + 2 * desviacionEstandar;\n",
        "\n",
        "    for (int r = 0; r < rBins; r++) {\n",
        "        for (int t = 0; t < degreeBins; t++) {\n",
        "            if (h_hough[r * degreeBins + t] > threshold) {\n",
        "                float rho = (r - rBins / 2) * rScale;\n",
        "                float theta = t * radInc;\n",
        "                drawLine(colorImage, rho, theta, cv::Scalar(0, 0, 255));\n",
        "            }\n",
        "        }\n",
        "    }\n",
        "\n",
        "    // Guarda la imagen resultante\n",
        "    cv::imwrite(\"hough_lines.jpg\", colorImage);\n",
        "\n",
        "    // Limpieza\n",
        "    cudaFree(d_Cos);\n",
        "    cudaFree(d_Sin);\n",
        "    cudaFree(d_in);\n",
        "    cudaFree(d_hough);\n",
        "    free(h_hough);\n",
        "    delete[] cpuht;\n",
        "    cudaEventDestroy(start);\n",
        "    cudaEventDestroy(stop);\n",
        "\n",
        "    return 0;\n",
        "}"
      ],
      "metadata": {
        "colab": {
          "base_uri": "https://localhost:8080/"
        },
        "id": "IXClYMqQdHcX",
        "outputId": "fc0826fe-59b6-41ff-9270-65f1caf5f3c4"
      },
      "execution_count": 15,
      "outputs": [
        {
          "output_type": "stream",
          "name": "stdout",
          "text": [
            "Overwriting hough.cu\n"
          ]
        }
      ]
    },
    {
      "cell_type": "code",
      "source": [
        "!apt update"
      ],
      "metadata": {
        "colab": {
          "base_uri": "https://localhost:8080/"
        },
        "id": "5tAMS71Gk5Nt",
        "outputId": "7b87aef9-8c32-402c-bef2-2c9e4dc2974e"
      },
      "execution_count": 16,
      "outputs": [
        {
          "output_type": "stream",
          "name": "stdout",
          "text": [
            "\u001b[33m\r0% [Working]\u001b[0m\r            \rGet:1 https://cloud.r-project.org/bin/linux/ubuntu jammy-cran40/ InRelease [3,626 B]\n",
            "Get:2 https://developer.download.nvidia.com/compute/cuda/repos/ubuntu2204/x86_64  InRelease [1,581 B]\n",
            "Get:3 http://security.ubuntu.com/ubuntu jammy-security InRelease [110 kB]\n",
            "Get:4 https://developer.download.nvidia.com/compute/cuda/repos/ubuntu2204/x86_64  Packages [624 kB]\n",
            "Hit:5 http://archive.ubuntu.com/ubuntu jammy InRelease\n",
            "Get:6 http://archive.ubuntu.com/ubuntu jammy-updates InRelease [119 kB]\n",
            "Hit:7 https://ppa.launchpadcontent.net/c2d4u.team/c2d4u4.0+/ubuntu jammy InRelease\n",
            "Hit:8 https://ppa.launchpadcontent.net/deadsnakes/ppa/ubuntu jammy InRelease\n",
            "Get:9 http://security.ubuntu.com/ubuntu jammy-security/restricted amd64 Packages [1,404 kB]\n",
            "Hit:10 https://ppa.launchpadcontent.net/graphics-drivers/ppa/ubuntu jammy InRelease\n",
            "Hit:11 http://archive.ubuntu.com/ubuntu jammy-backports InRelease\n",
            "Hit:12 https://ppa.launchpadcontent.net/ubuntugis/ppa/ubuntu jammy InRelease\n",
            "Get:13 http://archive.ubuntu.com/ubuntu jammy-updates/restricted amd64 Packages [1,430 kB]\n",
            "Get:14 http://security.ubuntu.com/ubuntu jammy-security/universe amd64 Packages [1,010 kB]\n",
            "Get:15 http://security.ubuntu.com/ubuntu jammy-security/main amd64 Packages [1,203 kB]\n",
            "Get:16 http://archive.ubuntu.com/ubuntu jammy-updates/main amd64 Packages [1,472 kB]\n",
            "Get:17 http://archive.ubuntu.com/ubuntu jammy-updates/universe amd64 Packages [1,277 kB]\n",
            "Fetched 8,654 kB in 2s (3,692 kB/s)\n",
            "Reading package lists... Done\n",
            "Building dependency tree... Done\n",
            "Reading state information... Done\n",
            "14 packages can be upgraded. Run 'apt list --upgradable' to see them.\n"
          ]
        }
      ]
    },
    {
      "cell_type": "code",
      "source": [
        "!pip install opencv-python\n"
      ],
      "metadata": {
        "colab": {
          "base_uri": "https://localhost:8080/"
        },
        "id": "22ge99t5qh0j",
        "outputId": "c4084e49-5e58-4c20-b6c0-94c4badba158"
      },
      "execution_count": 17,
      "outputs": [
        {
          "output_type": "stream",
          "name": "stdout",
          "text": [
            "Requirement already satisfied: opencv-python in /usr/local/lib/python3.10/dist-packages (4.8.0.76)\n",
            "Requirement already satisfied: numpy>=1.21.2 in /usr/local/lib/python3.10/dist-packages (from opencv-python) (1.23.5)\n"
          ]
        }
      ]
    },
    {
      "cell_type": "code",
      "source": [
        "!apt update && apt install -y libopencv-dev"
      ],
      "metadata": {
        "colab": {
          "base_uri": "https://localhost:8080/"
        },
        "id": "DLhIFwxnrM1M",
        "outputId": "e76ae1ec-abf2-467a-f711-468a911aa05f"
      },
      "execution_count": 18,
      "outputs": [
        {
          "output_type": "stream",
          "name": "stdout",
          "text": [
            "\u001b[33m\r0% [Working]\u001b[0m\r            \rHit:1 https://cloud.r-project.org/bin/linux/ubuntu jammy-cran40/ InRelease\n",
            "Hit:2 https://developer.download.nvidia.com/compute/cuda/repos/ubuntu2204/x86_64  InRelease\n",
            "Hit:3 http://security.ubuntu.com/ubuntu jammy-security InRelease\n",
            "Hit:4 http://archive.ubuntu.com/ubuntu jammy InRelease\n",
            "Hit:5 http://archive.ubuntu.com/ubuntu jammy-updates InRelease\n",
            "Hit:6 http://archive.ubuntu.com/ubuntu jammy-backports InRelease\n",
            "Hit:7 https://ppa.launchpadcontent.net/c2d4u.team/c2d4u4.0+/ubuntu jammy InRelease\n",
            "Hit:8 https://ppa.launchpadcontent.net/deadsnakes/ppa/ubuntu jammy InRelease\n",
            "Hit:9 https://ppa.launchpadcontent.net/graphics-drivers/ppa/ubuntu jammy InRelease\n",
            "Hit:10 https://ppa.launchpadcontent.net/ubuntugis/ppa/ubuntu jammy InRelease\n",
            "Reading package lists... Done\n",
            "Building dependency tree... Done\n",
            "Reading state information... Done\n",
            "14 packages can be upgraded. Run 'apt list --upgradable' to see them.\n",
            "Reading package lists... Done\n",
            "Building dependency tree... Done\n",
            "Reading state information... Done\n",
            "libopencv-dev is already the newest version (4.5.4+dfsg-9ubuntu4).\n",
            "0 upgraded, 0 newly installed, 0 to remove and 14 not upgraded.\n"
          ]
        }
      ]
    },
    {
      "cell_type": "code",
      "source": [
        "!make"
      ],
      "metadata": {
        "colab": {
          "base_uri": "https://localhost:8080/"
        },
        "id": "pxW7hWthddNQ",
        "outputId": "e9577e15-4032-4000-9888-7b424eec7063"
      },
      "execution_count": 19,
      "outputs": [
        {
          "output_type": "stream",
          "name": "stdout",
          "text": [
            "nvcc hough.cu pgm.o -o hough\n",
            "\u001b[01m\u001b[Khough.cu:17:10:\u001b[m\u001b[K \u001b[01;31m\u001b[Kfatal error: \u001b[m\u001b[Kopencv2/opencv.hpp: No such file or directory\n",
            "   17 | #include \u001b[01;31m\u001b[K<opencv2/opencv.hpp>\u001b[m\u001b[K\n",
            "      |          \u001b[01;31m\u001b[K^~~~~~~~~~~~~~~~~~~~\u001b[m\u001b[K\n",
            "compilation terminated.\n",
            "make: *** [Makefile:4: hough] Error 1\n"
          ]
        }
      ]
    },
    {
      "cell_type": "code",
      "source": [
        "!nvcc houghBase.cu pgm.o --verbose -o hough -I/usr/include/opencv4 -L/usr/lib -lopencv_core -lopencv_imgcodecs -lopencv_highgui -lopencv_imgproc"
      ],
      "metadata": {
        "colab": {
          "base_uri": "https://localhost:8080/"
        },
        "id": "r-4SzluPdffv",
        "outputId": "19575afe-afb8-4bc1-cd3f-f5a4a4bf1058"
      },
      "execution_count": 20,
      "outputs": [
        {
          "output_type": "stream",
          "name": "stdout",
          "text": [
            "#$ _NVVM_BRANCH_=nvvm\n",
            "#$ _SPACE_= \n",
            "#$ _CUDART_=cudart\n",
            "#$ _HERE_=/usr/local/cuda/bin\n",
            "#$ _THERE_=/usr/local/cuda/bin\n",
            "#$ _TARGET_SIZE_=\n",
            "#$ _TARGET_DIR_=\n",
            "#$ _TARGET_DIR_=targets/x86_64-linux\n",
            "#$ TOP=/usr/local/cuda/bin/..\n",
            "#$ NVVMIR_LIBRARY_DIR=/usr/local/cuda/bin/../nvvm/libdevice\n",
            "#$ LD_LIBRARY_PATH=/usr/local/cuda/bin/../lib:/usr/lib64-nvidia\n",
            "#$ PATH=/usr/local/cuda/bin/../nvvm/bin:/usr/local/cuda/bin:/opt/bin:/usr/local/nvidia/bin:/usr/local/cuda/bin:/usr/local/sbin:/usr/local/bin:/usr/sbin:/usr/bin:/sbin:/bin:/tools/node/bin:/tools/google-cloud-sdk/bin\n",
            "#$ INCLUDES=\"-I/usr/local/cuda/bin/../targets/x86_64-linux/include\"  \n",
            "#$ LIBRARIES=  \"-L/usr/local/cuda/bin/../targets/x86_64-linux/lib/stubs\" \"-L/usr/local/cuda/bin/../targets/x86_64-linux/lib\"\n",
            "#$ CUDAFE_FLAGS=\n",
            "#$ PTXAS_FLAGS=\n",
            "#$ gcc -D__CUDA_ARCH__=520 -D__CUDA_ARCH_LIST__=520 -E -x c++  -DCUDA_DOUBLE_MATH_FUNCTIONS -D__CUDACC__ -D__NVCC__  -I\"/usr/include/opencv4\" \"-I/usr/local/cuda/bin/../targets/x86_64-linux/include\"    -D__CUDACC_VER_MAJOR__=11 -D__CUDACC_VER_MINOR__=8 -D__CUDACC_VER_BUILD__=89 -D__CUDA_API_VER_MAJOR__=11 -D__CUDA_API_VER_MINOR__=8 -D__NVCC_DIAG_PRAGMA_SUPPORT__=1 -include \"cuda_runtime.h\" -m64 \"houghBase.cu\" -o \"/tmp/tmpxft_00000d4b_00000000-9_houghBase.cpp1.ii\" \n",
            "\u001b[01m\u001b[Kcc1plus:\u001b[m\u001b[K \u001b[01;31m\u001b[Kfatal error: \u001b[m\u001b[KhoughBase.cu: No such file or directory\n",
            "compilation terminated.\n",
            "# --error 0x1 --\n"
          ]
        }
      ]
    },
    {
      "cell_type": "code",
      "source": [
        "!./hough runway.pgm"
      ],
      "metadata": {
        "colab": {
          "base_uri": "https://localhost:8080/"
        },
        "id": "xGLzBr7Mdh7K",
        "outputId": "c5d4454f-1abd-420d-ee62-46fde4246cf5"
      },
      "execution_count": 21,
      "outputs": [
        {
          "output_type": "stream",
          "name": "stdout",
          "text": [
            "GPU Hough Transform took 1.536032 milliseconds\n",
            "Mismatch at : 1803 1446 1445\n",
            "Mismatch at : 1893 1506 1507\n",
            "Mismatch at : 5931 1653 1654\n",
            "Mismatch at : 6021 1816 1815\n",
            "Mismatch at : 6104 1642 1641\n",
            "Mismatch at : 6194 1586 1587\n",
            "Done!\n"
          ]
        }
      ]
    },
    {
      "cell_type": "markdown",
      "source": [
        "### Inciso 5 y 6\n"
      ],
      "metadata": {
        "id": "MojrC-p-8i9p"
      }
    },
    {
      "cell_type": "code",
      "source": [
        "%%writefile hough.cu\n",
        "/*\n",
        " ============================================================================\n",
        " Author        : G. Barlas\n",
        " Version       : 1.0\n",
        " Last modified : December 2014\n",
        " License       : Released under the GNU GPL 3.0\n",
        " Description   :\n",
        " To build use  : make\n",
        " ============================================================================\n",
        " */\n",
        "#include <stdio.h>\n",
        "#include <stdlib.h>\n",
        "#include <math.h>\n",
        "#include <cuda.h>\n",
        "#include <string.h>\n",
        "#include \"common/pgm.h\"\n",
        "#include <opencv2/opencv.hpp>\n",
        "#include <vector>\n",
        "\n",
        "const int degreeInc = 2;\n",
        "const int degreeBins = 180 / degreeInc;\n",
        "const int rBins = 100;\n",
        "const float radInc = degreeInc * M_PI / 180;\n",
        "\n",
        "__constant__ float d_Cos[degreeBins];\n",
        "__constant__ float d_Sin[degreeBins];\n",
        "\n",
        "__global__ void GPU_HoughTran(unsigned char *pic, int w, int h, int *acc, float rMax, float rScale) {\n",
        "   int gloID = blockIdx.x * blockDim.x + threadIdx.x;\n",
        "   if (gloID >= w * h) return;\n",
        "\n",
        "   int xCent = w / 2;\n",
        "   int yCent = h / 2;\n",
        "\n",
        "   int xCoord = gloID % w - xCent;\n",
        "   int yCoord = yCent - gloID / w;\n",
        "\n",
        "   if (pic[gloID] > 0) {\n",
        "       for (int tIdx = 0; tIdx < degreeBins; tIdx++) {\n",
        "           float r = xCoord * d_Cos[tIdx] + yCoord * d_Sin[tIdx];\n",
        "           int rIdx = (r + rMax) / rScale;\n",
        "           atomicAdd(&acc[rIdx * degreeBins + tIdx], 1);\n",
        "       }\n",
        "   }\n",
        "}\n",
        "\n",
        "void CPU_HoughTran (unsigned char *pic, int w, int h, int **acc)\n",
        "{\n",
        "  float rMax = sqrt (1.0 * w * w + 1.0 * h * h) / 2;  //(w^2 + h^2)/2, radio max equivalente a centro -> esquina\n",
        "  *acc = new int[rBins * degreeBins];            //el acumulador, conteo depixeles encontrados, 90*180/degInc = 9000\n",
        "  memset (*acc, 0, sizeof (int) * rBins * degreeBins); //init en ceros\n",
        "  int xCent = w / 2;\n",
        "  int yCent = h / 2;\n",
        "  float rScale = 2 * rMax / rBins;\n",
        "\n",
        "  for (int i = 0; i < w; i++) //por cada pixel\n",
        "    for (int j = 0; j < h; j++) //...\n",
        "      {\n",
        "        int idx = j * w + i;\n",
        "        if (pic[idx] > 0) //si pasa thresh, entonces lo marca\n",
        "          {\n",
        "            int xCoord = i - xCent;\n",
        "            int yCoord = yCent - j;  // y-coord has to be reversed\n",
        "            float theta = 0;         // actual angle\n",
        "            for (int tIdx = 0; tIdx < degreeBins; tIdx++) //add 1 to all lines in that pixel\n",
        "              {\n",
        "                float r = xCoord * cos (theta) + yCoord * sin (theta);\n",
        "                int rIdx = (r + rMax) / rScale;\n",
        "                (*acc)[rIdx * degreeBins + tIdx]++; //+1 para este radio r y este theta\n",
        "                theta += radInc;\n",
        "              }\n",
        "          }\n",
        "      }\n",
        "}\n",
        "\n",
        "void drawLine(cv::Mat &img, double rho, double theta, cv::Scalar color) {\n",
        "    cv::Point pt1, pt2;\n",
        "    double a = cos(theta), b = sin(theta);\n",
        "    double x0 = a * rho, y0 = b * rho;\n",
        "    pt1.x = cvRound(x0 + 1000 * (-b));\n",
        "    pt1.y = cvRound(y0 + 1000 * (a));\n",
        "    pt2.x = cvRound(x0 - 1000 * (-b));\n",
        "    pt2.y = cvRound(y0 - 1000 * (a));\n",
        "    line(img, pt1, pt2, color, 3, cv::LINE_AA);\n",
        "}\n",
        "\n",
        "\n",
        "int main(int argc, char **argv) {\n",
        "    if (argc != 2) {\n",
        "        printf(\"Usage: %s <image.pgm>\\n\", argv[0]);\n",
        "        return -1;\n",
        "    }\n",
        "\n",
        "    PGMImage inImg(argv[1]);\n",
        "    int w = inImg.x_dim;\n",
        "    int h = inImg.y_dim;\n",
        "    int *cpuht;\n",
        "\n",
        "    // Reserva memoria en el host y el device\n",
        "    float* d_Cos;\n",
        "    float* d_Sin;\n",
        "    unsigned char *d_in;\n",
        "    int *d_hough;\n",
        "    cudaMalloc((void**)&d_Cos, sizeof(float) * degreeBins);\n",
        "    cudaMalloc((void**)&d_Sin, sizeof(float) * degreeBins);\n",
        "    cudaMalloc((void**)&d_in, sizeof(unsigned char) * w * h);\n",
        "    cudaMalloc((void**)&d_hough, sizeof(int) * degreeBins * rBins);\n",
        "    int* h_hough = (int*)malloc(degreeBins * rBins * sizeof(int));\n",
        "\n",
        "    // Calcula la transformada de Hough en la CPU\n",
        "    CPU_HoughTran(inImg.pixels, w, h, &cpuht);\n",
        "\n",
        "    // Calcula rMax y rScale basado en el tamaño de la imagen\n",
        "    float rMax = sqrtf(1.0 * w * w + 1.0 * h * h) / 2;\n",
        "    float rScale = 2 * rMax / rBins;\n",
        "\n",
        "    // Configura el número de bloques e hilos\n",
        "    int threadsPerBlock = 256;\n",
        "    int blockNum = (w * h + threadsPerBlock - 1) / threadsPerBlock;\n",
        "\n",
        "    // Define eventos para medir el tiempo\n",
        "    cudaEvent_t start, stop;\n",
        "    cudaEventCreate(&start);\n",
        "    cudaEventCreate(&stop);\n",
        "\n",
        "    // Inicia la medición del tiempo\n",
        "    cudaEventRecord(start);\n",
        "\n",
        "    // Calcula los valores de cos(rad) y sin(rad)\n",
        "   float h_Cos[degreeBins], h_Sin[degreeBins];\n",
        "   for (int i = 0; i < degreeBins; i++) {\n",
        "       float theta = i * radInc;\n",
        "       h_Cos[i] = cos(theta);\n",
        "       h_Sin[i] = sin(theta);\n",
        "   }\n",
        "\n",
        "   // Copia los valores al device\n",
        "   cudaMemcpyToSymbol(d_Cos, h_Cos, sizeof(float) * degreeBins);\n",
        "   cudaMemcpyToSymbol(d_Sin, h_Sin, sizeof(float) * degreeBins);\n",
        "\n",
        "   // Llama al kernel\n",
        "   GPU_HoughTran<<<blockNum, threadsPerBlock>>>(d_in, w, h, d_hough, rMax, rScale);\n",
        "\n",
        "    // Finaliza la medición del tiempo\n",
        "    cudaEventRecord(stop);\n",
        "    cudaEventSynchronize(stop);\n",
        "\n",
        "    // Calcula el tiempo transcurrido\n",
        "    float milliseconds = 0;\n",
        "    cudaEventElapsedTime(&milliseconds, start, stop);\n",
        "    printf(\"GPU Hough Transform took %f milliseconds\\n\", milliseconds);\n",
        "\n",
        "    // Copia los resultados de vuelta al host\n",
        "    cudaMemcpy(h_hough, d_hough, sizeof(int) * degreeBins * rBins, cudaMemcpyDeviceToHost);\n",
        "\n",
        "    // Carga la imagen original y conviértela a color\n",
        "    cv::Mat originalImage = cv::imread(argv[1], cv::IMREAD_GRAYSCALE);\n",
        "    cv::Mat colorImage;\n",
        "    cvtColor(originalImage, colorImage, cv::COLOR_GRAY2BGR);\n",
        "\n",
        "    // Encuentra líneas que superan el umbral y dibújalas\n",
        "    float sum = 0;\n",
        "    float sumSq = 0;\n",
        "    int count = 0;\n",
        "    for (int i = 0; i < degreeBins * rBins; i++) {\n",
        "        sum += h_hough[i];\n",
        "        sumSq += h_hough[i] * h_hough[i];\n",
        "        count++;\n",
        "    }\n",
        "    float promedio = sum / count;\n",
        "    float varianza = (sumSq / count) - (promedio * promedio);\n",
        "    float desviacionEstandar = sqrt(varianza);\n",
        "    float threshold = promedio + 2 * desviacionEstandar;\n",
        "\n",
        "    for (int r = 0; r < rBins; r++) {\n",
        "        for (int t = 0; t < degreeBins; t++) {\n",
        "            if (h_hough[r * degreeBins + t] > threshold) {\n",
        "                float rho = (r - rBins / 2) * rScale;\n",
        "                float theta = t * radInc;\n",
        "                drawLine(colorImage, rho, theta, cv::Scalar(0, 0, 255));\n",
        "            }\n",
        "        }\n",
        "    }\n",
        "\n",
        "    // Guarda la imagen resultante\n",
        "    cv::imwrite(\"hough_lines.jpg\", colorImage);\n",
        "\n",
        "    // Limpieza\n",
        "    cudaFree(d_Cos);\n",
        "    cudaFree(d_Sin);\n",
        "    cudaFree(d_in);\n",
        "    cudaFree(d_hough);\n",
        "    free(h_hough);\n",
        "    delete[] cpuht;\n",
        "    cudaEventDestroy(start);\n",
        "    cudaEventDestroy(stop);\n",
        "\n",
        "    return 0;\n",
        "}"
      ],
      "metadata": {
        "id": "MkpgMbJt8iq0",
        "outputId": "f6bef635-22f6-4d20-f0b2-61b23606d4f7",
        "colab": {
          "base_uri": "https://localhost:8080/"
        }
      },
      "execution_count": 34,
      "outputs": [
        {
          "output_type": "stream",
          "name": "stdout",
          "text": [
            "Overwriting hough.cu\n"
          ]
        }
      ]
    },
    {
      "cell_type": "code",
      "source": [
        "#!pip install opencv-python"
      ],
      "metadata": {
        "id": "0NckcolCm9AV",
        "outputId": "810dfb40-c336-4995-d35c-61c18373f7a7",
        "colab": {
          "base_uri": "https://localhost:8080/"
        }
      },
      "execution_count": 35,
      "outputs": [
        {
          "output_type": "stream",
          "name": "stdout",
          "text": [
            "Requirement already satisfied: opencv-python in /usr/local/lib/python3.10/dist-packages (4.8.0.76)\n",
            "Requirement already satisfied: numpy>=1.21.2 in /usr/local/lib/python3.10/dist-packages (from opencv-python) (1.23.5)\n"
          ]
        }
      ]
    },
    {
      "cell_type": "code",
      "source": [
        "!make"
      ],
      "metadata": {
        "id": "nNJbr0aVm_5e",
        "outputId": "f92cef50-6668-4e59-ac91-a44c49e5ce80",
        "colab": {
          "base_uri": "https://localhost:8080/"
        }
      },
      "execution_count": 36,
      "outputs": [
        {
          "output_type": "stream",
          "name": "stdout",
          "text": [
            "nvcc hough.cu pgm.o -o hough\n",
            "\u001b[01m\u001b[Khough.cu:17:10:\u001b[m\u001b[K \u001b[01;31m\u001b[Kfatal error: \u001b[m\u001b[Kopencv2/opencv.hpp: No such file or directory\n",
            "   17 | #include \u001b[01;31m\u001b[K<opencv2/opencv.hpp>\u001b[m\u001b[K\n",
            "      |          \u001b[01;31m\u001b[K^~~~~~~~~~~~~~~~~~~~\u001b[m\u001b[K\n",
            "compilation terminated.\n",
            "make: *** [Makefile:4: hough] Error 1\n"
          ]
        }
      ]
    },
    {
      "cell_type": "code",
      "source": [
        "!nvcc hough.cu pgm.o --verbose -o hough -I/usr/include/opencv4 -L/usr/lib -lopencv_core -lopencv_imgcodecs -lopencv_highgui -lopencv_imgproc"
      ],
      "metadata": {
        "id": "9JbyHRlzDCeE",
        "outputId": "a1542d48-1f89-4778-b9e1-16c5aa9b3e3b",
        "colab": {
          "base_uri": "https://localhost:8080/"
        }
      },
      "execution_count": 37,
      "outputs": [
        {
          "output_type": "stream",
          "name": "stdout",
          "text": [
            "#$ _NVVM_BRANCH_=nvvm\n",
            "#$ _SPACE_= \n",
            "#$ _CUDART_=cudart\n",
            "#$ _HERE_=/usr/local/cuda/bin\n",
            "#$ _THERE_=/usr/local/cuda/bin\n",
            "#$ _TARGET_SIZE_=\n",
            "#$ _TARGET_DIR_=\n",
            "#$ _TARGET_DIR_=targets/x86_64-linux\n",
            "#$ TOP=/usr/local/cuda/bin/..\n",
            "#$ NVVMIR_LIBRARY_DIR=/usr/local/cuda/bin/../nvvm/libdevice\n",
            "#$ LD_LIBRARY_PATH=/usr/local/cuda/bin/../lib:/usr/lib64-nvidia\n",
            "#$ PATH=/usr/local/cuda/bin/../nvvm/bin:/usr/local/cuda/bin:/opt/bin:/usr/local/nvidia/bin:/usr/local/cuda/bin:/usr/local/sbin:/usr/local/bin:/usr/sbin:/usr/bin:/sbin:/bin:/tools/node/bin:/tools/google-cloud-sdk/bin\n",
            "#$ INCLUDES=\"-I/usr/local/cuda/bin/../targets/x86_64-linux/include\"  \n",
            "#$ LIBRARIES=  \"-L/usr/local/cuda/bin/../targets/x86_64-linux/lib/stubs\" \"-L/usr/local/cuda/bin/../targets/x86_64-linux/lib\"\n",
            "#$ CUDAFE_FLAGS=\n",
            "#$ PTXAS_FLAGS=\n",
            "#$ gcc -D__CUDA_ARCH__=520 -D__CUDA_ARCH_LIST__=520 -E -x c++  -DCUDA_DOUBLE_MATH_FUNCTIONS -D__CUDACC__ -D__NVCC__  -I\"/usr/include/opencv4\" \"-I/usr/local/cuda/bin/../targets/x86_64-linux/include\"    -D__CUDACC_VER_MAJOR__=11 -D__CUDACC_VER_MINOR__=8 -D__CUDACC_VER_BUILD__=89 -D__CUDA_API_VER_MAJOR__=11 -D__CUDA_API_VER_MINOR__=8 -D__NVCC_DIAG_PRAGMA_SUPPORT__=1 -include \"cuda_runtime.h\" -m64 \"hough.cu\" -o \"/tmp/tmpxft_00001df1_00000000-9_hough.cpp1.ii\" \n",
            "#$ cicc --c++17 --gnu_version=110400 --display_error_number --orig_src_file_name \"hough.cu\" --orig_src_path_name \"/content/hough.cu\" --allow_managed   -arch compute_52 -m64 --no-version-ident -ftz=0 -prec_div=1 -prec_sqrt=1 -fmad=1 --include_file_name \"tmpxft_00001df1_00000000-3_hough.fatbin.c\" -tused --gen_module_id_file --module_id_file_name \"/tmp/tmpxft_00001df1_00000000-4_hough.module_id\" --gen_c_file_name \"/tmp/tmpxft_00001df1_00000000-6_hough.cudafe1.c\" --stub_file_name \"/tmp/tmpxft_00001df1_00000000-6_hough.cudafe1.stub.c\" --gen_device_file_name \"/tmp/tmpxft_00001df1_00000000-6_hough.cudafe1.gpu\"  \"/tmp/tmpxft_00001df1_00000000-9_hough.cpp1.ii\" -o \"/tmp/tmpxft_00001df1_00000000-6_hough.ptx\"\n",
            "\u001b[01m\u001b[0m\u001b[01m/usr/include/opencv4/opencv2/stitching/detail/warpers.hpp(235)\u001b[0m: \u001b[01;35mwarning\u001b[0m #611-D: overloaded virtual function \u001b[01m\"cv::detail::PlaneWarper::buildMaps\"\u001b[0m is only partially overridden in class \u001b[01m\"cv::detail::AffineWarper\"\u001b[0m\n",
            "\n",
            "\u001b[01m\u001b[0m\u001b[01m/usr/include/opencv4/opencv2/stitching/detail/warpers.hpp(235)\u001b[0m: \u001b[01;35mwarning\u001b[0m #611-D: overloaded virtual function \u001b[01m\"cv::detail::PlaneWarper::warp\"\u001b[0m is only partially overridden in class \u001b[01m\"cv::detail::AffineWarper\"\u001b[0m\n",
            "\n",
            "\u001b[01m\u001b[0m\u001b[01m/usr/include/opencv4/opencv2/stitching/detail/blenders.hpp(100)\u001b[0m: \u001b[01;35mwarning\u001b[0m #611-D: overloaded virtual function \u001b[01m\"cv::detail::Blender::prepare\"\u001b[0m is only partially overridden in class \u001b[01m\"cv::detail::FeatherBlender\"\u001b[0m\n",
            "\n",
            "\u001b[01m\u001b[0m\u001b[01m/usr/include/opencv4/opencv2/stitching/detail/blenders.hpp(127)\u001b[0m: \u001b[01;35mwarning\u001b[0m #611-D: overloaded virtual function \u001b[01m\"cv::detail::Blender::prepare\"\u001b[0m is only partially overridden in class \u001b[01m\"cv::detail::MultiBandBlender\"\u001b[0m\n",
            "\n",
            "#$ ptxas -arch=sm_52 -m64  \"/tmp/tmpxft_00001df1_00000000-6_hough.ptx\"  -o \"/tmp/tmpxft_00001df1_00000000-10_hough.sm_52.cubin\" \n",
            "#$ fatbinary -64 --cicc-cmdline=\"-ftz=0 -prec_div=1 -prec_sqrt=1 -fmad=1 \" \"--image3=kind=elf,sm=52,file=/tmp/tmpxft_00001df1_00000000-10_hough.sm_52.cubin\" \"--image3=kind=ptx,sm=52,file=/tmp/tmpxft_00001df1_00000000-6_hough.ptx\" --embedded-fatbin=\"/tmp/tmpxft_00001df1_00000000-3_hough.fatbin.c\" \n",
            "#$ rm /tmp/tmpxft_00001df1_00000000-3_hough.fatbin\n",
            "#$ gcc -D__CUDA_ARCH_LIST__=520 -E -x c++ -D__CUDACC__ -D__NVCC__  -I\"/usr/include/opencv4\" \"-I/usr/local/cuda/bin/../targets/x86_64-linux/include\"    -D__CUDACC_VER_MAJOR__=11 -D__CUDACC_VER_MINOR__=8 -D__CUDACC_VER_BUILD__=89 -D__CUDA_API_VER_MAJOR__=11 -D__CUDA_API_VER_MINOR__=8 -D__NVCC_DIAG_PRAGMA_SUPPORT__=1 -include \"cuda_runtime.h\" -m64 \"hough.cu\" -o \"/tmp/tmpxft_00001df1_00000000-5_hough.cpp4.ii\" \n",
            "#$ cudafe++ --c++17 --gnu_version=110400 --display_error_number --orig_src_file_name \"hough.cu\" --orig_src_path_name \"/content/hough.cu\" --allow_managed  --m64 --parse_templates --gen_c_file_name \"/tmp/tmpxft_00001df1_00000000-6_hough.cudafe1.cpp\" --stub_file_name \"tmpxft_00001df1_00000000-6_hough.cudafe1.stub.c\" --module_id_file_name \"/tmp/tmpxft_00001df1_00000000-4_hough.module_id\" \"/tmp/tmpxft_00001df1_00000000-5_hough.cpp4.ii\" \n",
            "\u001b[01m\u001b[0m\u001b[01m/usr/include/opencv4/opencv2/stitching/detail/warpers.hpp(235)\u001b[0m: \u001b[01;35mwarning\u001b[0m #611-D: overloaded virtual function \u001b[01m\"cv::detail::PlaneWarper::buildMaps\"\u001b[0m is only partially overridden in class \u001b[01m\"cv::detail::AffineWarper\"\u001b[0m\n",
            "\n",
            "\u001b[01m\u001b[0m\u001b[01m/usr/include/opencv4/opencv2/stitching/detail/warpers.hpp(235)\u001b[0m: \u001b[01;35mwarning\u001b[0m #611-D: overloaded virtual function \u001b[01m\"cv::detail::PlaneWarper::warp\"\u001b[0m is only partially overridden in class \u001b[01m\"cv::detail::AffineWarper\"\u001b[0m\n",
            "\n",
            "\u001b[01m\u001b[0m\u001b[01m/usr/include/opencv4/opencv2/stitching/detail/blenders.hpp(100)\u001b[0m: \u001b[01;35mwarning\u001b[0m #611-D: overloaded virtual function \u001b[01m\"cv::detail::Blender::prepare\"\u001b[0m is only partially overridden in class \u001b[01m\"cv::detail::FeatherBlender\"\u001b[0m\n",
            "\n",
            "\u001b[01m\u001b[0m\u001b[01m/usr/include/opencv4/opencv2/stitching/detail/blenders.hpp(127)\u001b[0m: \u001b[01;35mwarning\u001b[0m #611-D: overloaded virtual function \u001b[01m\"cv::detail::Blender::prepare\"\u001b[0m is only partially overridden in class \u001b[01m\"cv::detail::MultiBandBlender\"\u001b[0m\n",
            "\n",
            "#$ gcc -D__CUDA_ARCH__=520 -D__CUDA_ARCH_LIST__=520 -c -x c++  -DCUDA_DOUBLE_MATH_FUNCTIONS -I\"/usr/include/opencv4\" \"-I/usr/local/cuda/bin/../targets/x86_64-linux/include\"   -m64 \"/tmp/tmpxft_00001df1_00000000-6_hough.cudafe1.cpp\" -o \"/tmp/tmpxft_00001df1_00000000-11_hough.o\" \n",
            "#$ nvlink -m64 --arch=sm_52 --register-link-binaries=\"/tmp/tmpxft_00001df1_00000000-7_hough_dlink.reg.c\"  -L\"/usr/lib\" -lopencv_core -lopencv_imgcodecs -lopencv_highgui -lopencv_imgproc   \"-L/usr/local/cuda/bin/../targets/x86_64-linux/lib/stubs\" \"-L/usr/local/cuda/bin/../targets/x86_64-linux/lib\" -cpu-arch=X86_64 \"/tmp/tmpxft_00001df1_00000000-11_hough.o\" \"pgm.o\"  -lcudadevrt  -o \"/tmp/tmpxft_00001df1_00000000-12_hough_dlink.sm_52.cubin\" --host-ccbin \"gcc\"\n",
            "#$ fatbinary -64 --cicc-cmdline=\"-ftz=0 -prec_div=1 -prec_sqrt=1 -fmad=1 \" -link \"--image3=kind=elf,sm=52,file=/tmp/tmpxft_00001df1_00000000-12_hough_dlink.sm_52.cubin\" --embedded-fatbin=\"/tmp/tmpxft_00001df1_00000000-8_hough_dlink.fatbin.c\" \n",
            "#$ rm /tmp/tmpxft_00001df1_00000000-8_hough_dlink.fatbin\n",
            "#$ gcc -D__CUDA_ARCH_LIST__=520 -c -x c++ -DFATBINFILE=\"\\\"/tmp/tmpxft_00001df1_00000000-8_hough_dlink.fatbin.c\\\"\" -DREGISTERLINKBINARYFILE=\"\\\"/tmp/tmpxft_00001df1_00000000-7_hough_dlink.reg.c\\\"\" -I. -D__NV_EXTRA_INITIALIZATION= -D__NV_EXTRA_FINALIZATION= -D__CUDA_INCLUDE_COMPILER_INTERNAL_HEADERS__  -I\"/usr/include/opencv4\" \"-I/usr/local/cuda/bin/../targets/x86_64-linux/include\"    -D__CUDACC_VER_MAJOR__=11 -D__CUDACC_VER_MINOR__=8 -D__CUDACC_VER_BUILD__=89 -D__CUDA_API_VER_MAJOR__=11 -D__CUDA_API_VER_MINOR__=8 -D__NVCC_DIAG_PRAGMA_SUPPORT__=1 -m64 \"/usr/local/cuda/bin/crt/link.stub\" -o \"/tmp/tmpxft_00001df1_00000000-13_hough_dlink.o\" \n",
            "#$ g++ -D__CUDA_ARCH_LIST__=520 -m64 -Wl,--start-group \"/tmp/tmpxft_00001df1_00000000-13_hough_dlink.o\" \"/tmp/tmpxft_00001df1_00000000-11_hough.o\" \"pgm.o\" -L\"/usr/lib\" -lopencv_core -lopencv_imgcodecs -lopencv_highgui -lopencv_imgproc   \"-L/usr/local/cuda/bin/../targets/x86_64-linux/lib/stubs\" \"-L/usr/local/cuda/bin/../targets/x86_64-linux/lib\"  -lcudadevrt  -lcudart_static  -lrt -lpthread  -ldl  -Wl,--end-group -o \"hough\" \n"
          ]
        }
      ]
    },
    {
      "cell_type": "code",
      "source": [
        "!./hough runway.pgm"
      ],
      "metadata": {
        "id": "bN9LRLh4nC_m",
        "outputId": "cd4fde5a-8c2d-47d3-8271-f1ea3dcea782",
        "colab": {
          "base_uri": "https://localhost:8080/"
        }
      },
      "execution_count": 38,
      "outputs": [
        {
          "output_type": "stream",
          "name": "stdout",
          "text": [
            "GPU Hough Transform took 0.043392 milliseconds\n"
          ]
        }
      ]
    }
  ]
}