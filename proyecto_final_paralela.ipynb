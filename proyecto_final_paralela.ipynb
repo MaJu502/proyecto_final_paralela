{
  "nbformat": 4,
  "nbformat_minor": 0,
  "metadata": {
    "colab": {
      "provenance": [],
      "gpuType": "T4"
    },
    "kernelspec": {
      "name": "python3",
      "display_name": "Python 3"
    },
    "language_info": {
      "name": "python"
    },
    "accelerator": "GPU"
  },
  "cells": [
    {
      "cell_type": "markdown",
      "metadata": {
        "id": "view-in-github"
      },
      "source": [
        "<a href=\"https://colab.research.google.com/github/MaJu502/proyecto_final_paralela/blob/main/proyecto_final_paralela.ipynb\" target=\"_parent\"><img src=\"https://colab.research.google.com/assets/colab-badge.svg\" alt=\"Open In Colab\"/></a>"
      ]
    },
    {
      "cell_type": "markdown",
      "source": [
        "# Proyecto Final Paralela\n",
        "* Marco Jurado\n",
        "* Paola de Leon\n",
        "* Cristian Aguirre\n"
      ],
      "metadata": {
        "id": "cei9HvTjFmLj"
      }
    },
    {
      "cell_type": "code",
      "source": [
        "!nvcc --version"
      ],
      "metadata": {
        "id": "dOTZ2EqKW4r6",
        "outputId": "bfe2b194-0d61-4c9f-a4d1-e0b01c3774f6",
        "colab": {
          "base_uri": "https://localhost:8080/"
        }
      },
      "execution_count": 35,
      "outputs": [
        {
          "output_type": "stream",
          "name": "stdout",
          "text": [
            "nvcc: NVIDIA (R) Cuda compiler driver\n",
            "Copyright (c) 2005-2022 NVIDIA Corporation\n",
            "Built on Wed_Sep_21_10:33:58_PDT_2022\n",
            "Cuda compilation tools, release 11.8, V11.8.89\n",
            "Build cuda_11.8.r11.8/compiler.31833905_0\n"
          ]
        }
      ]
    },
    {
      "cell_type": "code",
      "source": [
        "!pip install git+https://github.com/andreinechaev/nvcc4jupyter.git"
      ],
      "metadata": {
        "id": "sHKXt3OlYMyj",
        "outputId": "c85a0f07-7d3e-41fc-f10e-7a05ca506b8c",
        "colab": {
          "base_uri": "https://localhost:8080/"
        }
      },
      "execution_count": 36,
      "outputs": [
        {
          "output_type": "stream",
          "name": "stdout",
          "text": [
            "Collecting git+https://github.com/andreinechaev/nvcc4jupyter.git\n",
            "  Cloning https://github.com/andreinechaev/nvcc4jupyter.git to /tmp/pip-req-build-u1vlpr2d\n",
            "  Running command git clone --filter=blob:none --quiet https://github.com/andreinechaev/nvcc4jupyter.git /tmp/pip-req-build-u1vlpr2d\n",
            "  Resolved https://github.com/andreinechaev/nvcc4jupyter.git to commit 0a71d56e5dce3ff1f0dd2c47c29367629262f527\n",
            "  Preparing metadata (setup.py) ... \u001b[?25l\u001b[?25hdone\n"
          ]
        }
      ]
    },
    {
      "cell_type": "code",
      "source": [
        "%load_ext nvcc_plugin"
      ],
      "metadata": {
        "id": "c3iGISowYORM",
        "outputId": "3ab249cc-f925-4349-81ff-27d358032dae",
        "colab": {
          "base_uri": "https://localhost:8080/"
        }
      },
      "execution_count": 37,
      "outputs": [
        {
          "output_type": "stream",
          "name": "stdout",
          "text": [
            "The nvcc_plugin extension is already loaded. To reload it, use:\n",
            "  %reload_ext nvcc_plugin\n"
          ]
        }
      ]
    },
    {
      "cell_type": "code",
      "source": [
        "#!pip install pycuda"
      ],
      "metadata": {
        "id": "H2bN7GzcYPeJ"
      },
      "execution_count": 38,
      "outputs": []
    },
    {
      "cell_type": "code",
      "source": [
        "import pycuda.driver as drv\n",
        "import pycuda.autoinit\n",
        "drv.init()\n",
        "print(\"%d device(s) found.\" % drv.Device.count())\n",
        "for i in range(drv.Device.count()):\n",
        "  dev = drv.Device(i)\n",
        "  print(\"Device #%d: %s\" % (i, dev.name()))\n",
        "  print(\" Compute Capability: %d.%d\" % dev.compute_capability())\n",
        "  print(\" Total Memory: %s GB\" % (dev.total_memory() // (1024 * 1024 * 1024)))"
      ],
      "metadata": {
        "id": "pyleS1mXYReL",
        "outputId": "eb313513-a453-4e47-8ec7-5becf2a35d48",
        "colab": {
          "base_uri": "https://localhost:8080/"
        }
      },
      "execution_count": 39,
      "outputs": [
        {
          "output_type": "stream",
          "name": "stdout",
          "text": [
            "1 device(s) found.\n",
            "Device #0: Tesla T4\n",
            " Compute Capability: 7.5\n",
            " Total Memory: 14 GB\n"
          ]
        }
      ]
    },
    {
      "cell_type": "markdown",
      "source": [
        "### Inciso 1\n",
        "* Cálculo de la fórmula para crear el gloID en el kernel. Consulte la llamada al kernel para deducir usando la configuración (geometría) del grid de esa llamada.\n",
        "* Hace falta la liberación de memoria al final del programa. Agreguela para las variables\n",
        "utilizadas"
      ],
      "metadata": {
        "id": "55DS5E1yYTnF"
      }
    },
    {
      "cell_type": "code",
      "source": [
        "%%writefile hough.cu\n",
        "/*\n",
        " ============================================================================\n",
        " Author        : G. Barlas\n",
        " Version       : 1.0\n",
        " Last modified : December 2014\n",
        " License       : Released under the GNU GPL 3.0\n",
        " Description   :\n",
        " To build use  : make\n",
        " ============================================================================\n",
        " */\n",
        "#include <stdio.h>\n",
        "#include <stdlib.h>\n",
        "#include <math.h>\n",
        "#include <cuda.h>\n",
        "#include <string.h>\n",
        "#include \"common/pgm.h\"\n",
        "\n",
        "const int degreeInc = 2;\n",
        "const int degreeBins = 180 / degreeInc;\n",
        "const int rBins = 100;\n",
        "const float radInc = degreeInc * M_PI / 180;\n",
        "//*****************************************************************\n",
        "// The CPU function returns a pointer to the accummulator\n",
        "void CPU_HoughTran (unsigned char *pic, int w, int h, int **acc)\n",
        "{\n",
        "  float rMax = sqrt (1.0 * w * w + 1.0 * h * h) / 2;  //(w^2 + h^2)/2, radio max equivalente a centro -> esquina\n",
        "  *acc = new int[rBins * degreeBins];            //el acumulador, conteo depixeles encontrados, 90*180/degInc = 9000\n",
        "  memset (*acc, 0, sizeof (int) * rBins * degreeBins); //init en ceros\n",
        "  int xCent = w / 2;\n",
        "  int yCent = h / 2;\n",
        "  float rScale = 2 * rMax / rBins;\n",
        "\n",
        "  for (int i = 0; i < w; i++) //por cada pixel\n",
        "    for (int j = 0; j < h; j++) //...\n",
        "      {\n",
        "        int idx = j * w + i;\n",
        "        if (pic[idx] > 0) //si pasa thresh, entonces lo marca\n",
        "          {\n",
        "            int xCoord = i - xCent;\n",
        "            int yCoord = yCent - j;  // y-coord has to be reversed\n",
        "            float theta = 0;         // actual angle\n",
        "            for (int tIdx = 0; tIdx < degreeBins; tIdx++) //add 1 to all lines in that pixel\n",
        "              {\n",
        "                float r = xCoord * cos (theta) + yCoord * sin (theta);\n",
        "                int rIdx = (r + rMax) / rScale;\n",
        "                (*acc)[rIdx * degreeBins + tIdx]++; //+1 para este radio r y este theta\n",
        "                theta += radInc;\n",
        "              }\n",
        "          }\n",
        "      }\n",
        "}\n",
        "\n",
        "//*****************************************************************\n",
        "// TODO usar memoria constante para la tabla de senos y cosenos\n",
        "// inicializarlo en main y pasarlo al device\n",
        "//__constant__ float d_Cos[degreeBins];\n",
        "//__constant__ float d_Sin[degreeBins];\n",
        "\n",
        "//*****************************************************************\n",
        "//TODO Kernel memoria compartida\n",
        "// __global__ void GPU_HoughTranShared(...)\n",
        "// {\n",
        "//   //TODO\n",
        "// }\n",
        "//TODO Kernel memoria Constante\n",
        "// __global__ void GPU_HoughTranConst(...)\n",
        "// {\n",
        "//   //TODO\n",
        "// }\n",
        "\n",
        "// GPU kernel. One thread per image pixel is spawned.\n",
        "// The accummulator memory needs to be allocated by the host in global memory\n",
        "__global__ void GPU_HoughTran (unsigned char *pic, int w, int h, int *acc, float rMax, float rScale, float *d_Cos, float *d_Sin)\n",
        "{\n",
        "  int gloID = blockIdx.x * blockDim.x + threadIdx.x; // Cálculo correcto de gloID\n",
        "  if (gloID >= w * h) return; // Corrección en la condición\n",
        "\n",
        "  int xCent = w / 2;\n",
        "  int yCent = h / 2;\n",
        "\n",
        "  //TODO explicar bien bien esta parte. Dibujar un rectangulo a modo de imagen sirve para visualizarlo mejor\n",
        "  int xCoord = gloID % w - xCent;\n",
        "  int yCoord = yCent - gloID / w;\n",
        "\n",
        "  //TODO eventualmente usar memoria compartida para el acumulador\n",
        "\n",
        "  if (pic[gloID] > 0)\n",
        "    {\n",
        "      for (int tIdx = 0; tIdx < degreeBins; tIdx++)\n",
        "        {\n",
        "          //TODO utilizar memoria constante para senos y cosenos\n",
        "          //float r = xCoord * cos(tIdx) + yCoord * sin(tIdx); //probar con esto para ver diferencia en tiempo\n",
        "          float r = xCoord * d_Cos[tIdx] + yCoord * d_Sin[tIdx];\n",
        "          int rIdx = (r + rMax) / rScale;\n",
        "          //debemos usar atomic, pero que race condition hay si somos un thread por pixel? explique\n",
        "          atomicAdd (acc + (rIdx * degreeBins + tIdx), 1);\n",
        "        }\n",
        "    }\n",
        "\n",
        "  //TODO eventualmente cuando se tenga memoria compartida, copiar del local al global\n",
        "  //utilizar operaciones atomicas para seguridad\n",
        "  //faltara sincronizar los hilos del bloque en algunos lados\n",
        "\n",
        "}\n",
        "\n",
        "//*****************************************************************\n",
        "int main (int argc, char **argv)\n",
        "{\n",
        "  int i;\n",
        "\n",
        "  PGMImage inImg (argv[1]);\n",
        "\n",
        "  int *cpuht;\n",
        "  int w = inImg.x_dim;\n",
        "  int h = inImg.y_dim;\n",
        "\n",
        "  float* d_Cos;\n",
        "  float* d_Sin;\n",
        "\n",
        "  cudaMalloc ((void **) &d_Cos, sizeof (float) * degreeBins);\n",
        "  cudaMalloc ((void **) &d_Sin, sizeof (float) * degreeBins);\n",
        "\n",
        "  // CPU calculation\n",
        "  CPU_HoughTran(inImg.pixels, w, h, &cpuht);\n",
        "\n",
        "  // pre-compute values to be stored\n",
        "  float *pcCos = (float *) malloc (sizeof (float) * degreeBins);\n",
        "  float *pcSin = (float *) malloc (sizeof (float) * degreeBins);\n",
        "  float rad = 0;\n",
        "  for (i = 0; i < degreeBins; i++)\n",
        "  {\n",
        "    pcCos[i] = cos (rad);\n",
        "    pcSin[i] = sin (rad);\n",
        "    rad += radInc;\n",
        "  }\n",
        "\n",
        "  float rMax = sqrt (1.0 * w * w + 1.0 * h * h) / 2;\n",
        "  float rScale = 2 * rMax / rBins;\n",
        "\n",
        "  // TODO eventualmente volver memoria global\n",
        "  cudaMemcpy(d_Cos, pcCos, sizeof (float) * degreeBins, cudaMemcpyHostToDevice);\n",
        "  cudaMemcpy(d_Sin, pcSin, sizeof (float) * degreeBins, cudaMemcpyHostToDevice);\n",
        "\n",
        "  // setup and copy data from host to device\n",
        "  unsigned char *d_in, *h_in;\n",
        "  int *d_hough, *h_hough;\n",
        "\n",
        "  h_in = inImg.pixels; // h_in contiene los pixeles de la imagen\n",
        "\n",
        "  h_hough = (int *) malloc (degreeBins * rBins * sizeof (int));\n",
        "\n",
        "  cudaMalloc ((void **) &d_in, sizeof (unsigned char) * w * h);\n",
        "  cudaMalloc ((void **) &d_hough, sizeof (int) * degreeBins * rBins);\n",
        "  cudaMemcpy (d_in, h_in, sizeof (unsigned char) * w * h, cudaMemcpyHostToDevice);\n",
        "  cudaMemset (d_hough, 0, sizeof (int) * degreeBins * rBins);\n",
        "\n",
        "  // execution configuration uses a 1-D grid of 1-D blocks, each made of 256 threads\n",
        "  //1 thread por pixel\n",
        "  int blockNum = ceil (w * h / 256);\n",
        "  GPU_HoughTran <<< blockNum, 256 >>> (d_in, w, h, d_hough, rMax, rScale, d_Cos, d_Sin);\n",
        "\n",
        "  // get results from device\n",
        "  cudaMemcpy (h_hough, d_hough, sizeof (int) * degreeBins * rBins, cudaMemcpyDeviceToHost);\n",
        "\n",
        "  // compare CPU and GPU results\n",
        "  for (i = 0; i < degreeBins * rBins; i++)\n",
        "  {\n",
        "    if (cpuht[i] != h_hough[i])\n",
        "      printf (\"Calculation mismatch at : %i %i %i\\n\", i, cpuht[i], h_hough[i]);\n",
        "  }\n",
        "  printf(\"Done!\\n\");\n",
        "\n",
        "  // Liberación de memoria al final del programa\n",
        "  cudaFree(d_Cos);\n",
        "  cudaFree(d_Sin);\n",
        "  cudaFree(d_in);\n",
        "  cudaFree(d_hough);\n",
        "  free(pcCos);\n",
        "  free(pcSin);\n",
        "  free(h_hough);\n",
        "  delete[] cpuht;\n",
        "\n",
        "  return 0;\n",
        "}\n"
      ],
      "metadata": {
        "id": "Ch-JFL6eYhST",
        "outputId": "0ee9f54b-7bd6-44d5-956b-82ce10702e8e",
        "colab": {
          "base_uri": "https://localhost:8080/"
        }
      },
      "execution_count": 40,
      "outputs": [
        {
          "output_type": "stream",
          "name": "stdout",
          "text": [
            "Overwriting hough.cu\n"
          ]
        }
      ]
    },
    {
      "cell_type": "code",
      "source": [
        "!sudo apt-get install libopencv-dev"
      ],
      "metadata": {
        "id": "_forDTYbHXK_",
        "outputId": "7af5786b-04cd-4898-9fc9-c217e4a5179b",
        "colab": {
          "base_uri": "https://localhost:8080/"
        }
      },
      "execution_count": 41,
      "outputs": [
        {
          "output_type": "stream",
          "name": "stdout",
          "text": [
            "Reading package lists... Done\n",
            "Building dependency tree... Done\n",
            "Reading state information... Done\n",
            "libopencv-dev is already the newest version (4.5.4+dfsg-9ubuntu4).\n",
            "0 upgraded, 0 newly installed, 0 to remove and 14 not upgraded.\n"
          ]
        }
      ]
    },
    {
      "cell_type": "code",
      "source": [
        "!make"
      ],
      "metadata": {
        "id": "03iLUlA9He3A",
        "outputId": "e1ccc3e3-5f0f-4c65-bc52-f7f4488afe7a",
        "colab": {
          "base_uri": "https://localhost:8080/"
        }
      },
      "execution_count": 42,
      "outputs": [
        {
          "output_type": "stream",
          "name": "stdout",
          "text": [
            "Compiling the hough transform program...\n",
            "nvcc hough.cu pgm.o -o hough `pkg-config --cflags --libs opencv4`\n"
          ]
        }
      ]
    },
    {
      "cell_type": "code",
      "source": [
        "!nvcc houghBase.cu pgm.o --verbose -o hough -I/usr/include/opencv4 -L/usr/lib -lopencv_core -lopencv_imgcodecs -lopencv_highgui -lopencv_imgproc"
      ],
      "metadata": {
        "id": "vqsKjN3UYr-F",
        "outputId": "b292a09b-318b-44a3-934b-c8a947c912f1",
        "colab": {
          "base_uri": "https://localhost:8080/"
        }
      },
      "execution_count": 43,
      "outputs": [
        {
          "output_type": "stream",
          "name": "stdout",
          "text": [
            "#$ _NVVM_BRANCH_=nvvm\n",
            "#$ _SPACE_= \n",
            "#$ _CUDART_=cudart\n",
            "#$ _HERE_=/usr/local/cuda/bin\n",
            "#$ _THERE_=/usr/local/cuda/bin\n",
            "#$ _TARGET_SIZE_=\n",
            "#$ _TARGET_DIR_=\n",
            "#$ _TARGET_DIR_=targets/x86_64-linux\n",
            "#$ TOP=/usr/local/cuda/bin/..\n",
            "#$ NVVMIR_LIBRARY_DIR=/usr/local/cuda/bin/../nvvm/libdevice\n",
            "#$ LD_LIBRARY_PATH=/usr/local/cuda/bin/../lib:/usr/lib64-nvidia\n",
            "#$ PATH=/usr/local/cuda/bin/../nvvm/bin:/usr/local/cuda/bin:/opt/bin:/usr/local/nvidia/bin:/usr/local/cuda/bin:/usr/local/sbin:/usr/local/bin:/usr/sbin:/usr/bin:/sbin:/bin:/tools/node/bin:/tools/google-cloud-sdk/bin\n",
            "#$ INCLUDES=\"-I/usr/local/cuda/bin/../targets/x86_64-linux/include\"  \n",
            "#$ LIBRARIES=  \"-L/usr/local/cuda/bin/../targets/x86_64-linux/lib/stubs\" \"-L/usr/local/cuda/bin/../targets/x86_64-linux/lib\"\n",
            "#$ CUDAFE_FLAGS=\n",
            "#$ PTXAS_FLAGS=\n",
            "#$ gcc -D__CUDA_ARCH__=520 -D__CUDA_ARCH_LIST__=520 -E -x c++  -DCUDA_DOUBLE_MATH_FUNCTIONS -D__CUDACC__ -D__NVCC__  -I\"/usr/include/opencv4\" \"-I/usr/local/cuda/bin/../targets/x86_64-linux/include\"    -D__CUDACC_VER_MAJOR__=11 -D__CUDACC_VER_MINOR__=8 -D__CUDACC_VER_BUILD__=89 -D__CUDA_API_VER_MAJOR__=11 -D__CUDA_API_VER_MINOR__=8 -D__NVCC_DIAG_PRAGMA_SUPPORT__=1 -include \"cuda_runtime.h\" -m64 \"houghBase.cu\" -o \"/tmp/tmpxft_00003686_00000000-9_houghBase.cpp1.ii\" \n",
            "\u001b[01m\u001b[Kcc1plus:\u001b[m\u001b[K \u001b[01;31m\u001b[Kfatal error: \u001b[m\u001b[KhoughBase.cu: No such file or directory\n",
            "compilation terminated.\n",
            "# --error 0x1 --\n"
          ]
        }
      ]
    },
    {
      "cell_type": "code",
      "source": [
        "!./hough runway.pgm"
      ],
      "metadata": {
        "id": "m6r_3bpTZyyW",
        "outputId": "e7e152ce-8b94-4a80-bf30-0b9f32025e91",
        "colab": {
          "base_uri": "https://localhost:8080/"
        }
      },
      "execution_count": 44,
      "outputs": [
        {
          "output_type": "stream",
          "name": "stdout",
          "text": [
            "Calculation mismatch at : 1803 1446 1445\n",
            "Calculation mismatch at : 1893 1506 1507\n",
            "Calculation mismatch at : 5931 1653 1654\n",
            "Calculation mismatch at : 6021 1816 1815\n",
            "Calculation mismatch at : 6104 1642 1641\n",
            "Calculation mismatch at : 6194 1586 1587\n",
            "Done!\n"
          ]
        }
      ]
    },
    {
      "cell_type": "markdown",
      "source": [
        "### Inciso 2\n",
        "* Incorpore medición de tiempo de la llamada al kernel mediante el uso de CUDA events."
      ],
      "metadata": {
        "id": "tgfl4BlCa9YF"
      }
    },
    {
      "cell_type": "code",
      "source": [
        "%%writefile hough.cu\n",
        "/*\n",
        " ============================================================================\n",
        " Author        : G. Barlas\n",
        " Version       : 1.0\n",
        " Last modified : December 2014\n",
        " License       : Released under the GNU GPL 3.0\n",
        " Description   :\n",
        " To build use  : make\n",
        " ============================================================================\n",
        " */\n",
        "#include <stdio.h>\n",
        "#include <stdlib.h>\n",
        "#include <math.h>\n",
        "#include <cuda.h>\n",
        "#include <string.h>\n",
        "#include \"common/pgm.h\"\n",
        "\n",
        "const int degreeInc = 2;\n",
        "const int degreeBins = 180 / degreeInc;\n",
        "const int rBins = 100;\n",
        "const float radInc = degreeInc * M_PI / 180;\n",
        "//*****************************************************************\n",
        "// The CPU function returns a pointer to the accummulator\n",
        "void CPU_HoughTran (unsigned char *pic, int w, int h, int **acc)\n",
        "{\n",
        "  float rMax = sqrt (1.0 * w * w + 1.0 * h * h) / 2;  //(w^2 + h^2)/2, radio max equivalente a centro -> esquina\n",
        "  *acc = new int[rBins * degreeBins];            //el acumulador, conteo depixeles encontrados, 90*180/degInc = 9000\n",
        "  memset (*acc, 0, sizeof (int) * rBins * degreeBins); //init en ceros\n",
        "  int xCent = w / 2;\n",
        "  int yCent = h / 2;\n",
        "  float rScale = 2 * rMax / rBins;\n",
        "\n",
        "  for (int i = 0; i < w; i++) //por cada pixel\n",
        "    for (int j = 0; j < h; j++) //...\n",
        "      {\n",
        "        int idx = j * w + i;\n",
        "        if (pic[idx] > 0) //si pasa thresh, entonces lo marca\n",
        "          {\n",
        "            int xCoord = i - xCent;\n",
        "            int yCoord = yCent - j;  // y-coord has to be reversed\n",
        "            float theta = 0;         // actual angle\n",
        "            for (int tIdx = 0; tIdx < degreeBins; tIdx++) //add 1 to all lines in that pixel\n",
        "              {\n",
        "                float r = xCoord * cos (theta) + yCoord * sin (theta);\n",
        "                int rIdx = (r + rMax) / rScale;\n",
        "                (*acc)[rIdx * degreeBins + tIdx]++; //+1 para este radio r y este theta\n",
        "                theta += radInc;\n",
        "              }\n",
        "          }\n",
        "      }\n",
        "}\n",
        "\n",
        "//*****************************************************************\n",
        "// TODO usar memoria constante para la tabla de senos y cosenos\n",
        "// inicializarlo en main y pasarlo al device\n",
        "//__constant__ float d_Cos[degreeBins];\n",
        "//__constant__ float d_Sin[degreeBins];\n",
        "\n",
        "//*****************************************************************\n",
        "//TODO Kernel memoria compartida\n",
        "// __global__ void GPU_HoughTranShared(...)\n",
        "// {\n",
        "//   //TODO\n",
        "// }\n",
        "//TODO Kernel memoria Constante\n",
        "// __global__ void GPU_HoughTranConst(...)\n",
        "// {\n",
        "//   //TODO\n",
        "// }\n",
        "\n",
        "// GPU kernel. One thread per image pixel is spawned.\n",
        "// The accummulator memory needs to be allocated by the host in global memory\n",
        "__global__ void GPU_HoughTran (unsigned char *pic, int w, int h, int *acc, float rMax, float rScale, float *d_Cos, float *d_Sin)\n",
        "{\n",
        "  int gloID = blockIdx.x * blockDim.x + threadIdx.x; // Cálculo correcto de gloID\n",
        "  if (gloID >= w * h) return; // Corrección en la condición\n",
        "\n",
        "  int xCent = w / 2;\n",
        "  int yCent = h / 2;\n",
        "\n",
        "  int xCoord = gloID % w - xCent;\n",
        "  int yCoord = yCent - gloID / w;\n",
        "\n",
        "  if (pic[gloID] > 0)\n",
        "    {\n",
        "      for (int tIdx = 0; tIdx < degreeBins; tIdx++)\n",
        "        {\n",
        "          float r = xCoord * d_Cos[tIdx] + yCoord * d_Sin[tIdx];\n",
        "          int rIdx = (r + rMax) / rScale;\n",
        "          atomicAdd (acc + (rIdx * degreeBins + tIdx), 1);\n",
        "        }\n",
        "    }\n",
        "}\n",
        "\n",
        "//*****************************************************************\n",
        "int main (int argc, char **argv)\n",
        "{\n",
        "  int i;\n",
        "\n",
        "  PGMImage inImg (argv[1]);\n",
        "\n",
        "  int *cpuht;\n",
        "  int w = inImg.x_dim;\n",
        "  int h = inImg.y_dim;\n",
        "\n",
        "  float* d_Cos;\n",
        "  float* d_Sin;\n",
        "\n",
        "  cudaMalloc ((void **) &d_Cos, sizeof (float) * degreeBins);\n",
        "  cudaMalloc ((void **) &d_Sin, sizeof (float) * degreeBins);\n",
        "\n",
        "  // CPU calculation\n",
        "  CPU_HoughTran(inImg.pixels, w, h, &cpuht);\n",
        "\n",
        "  // pre-compute values to be stored\n",
        "  float *pcCos = (float *) malloc (sizeof (float) * degreeBins);\n",
        "  float *pcSin = (float *) malloc (sizeof (float) * degreeBins);\n",
        "  float rad = 0;\n",
        "  for (i = 0; i < degreeBins; i++)\n",
        "  {\n",
        "    pcCos[i] = cos (rad);\n",
        "    pcSin[i] = sin (rad);\n",
        "    rad += radInc;\n",
        "  }\n",
        "\n",
        "  float rMax = sqrt (1.0 * w * w + 1.0 * h * h) / 2;\n",
        "  float rScale = 2 * rMax / rBins;\n",
        "\n",
        "  cudaMemcpy(d_Cos, pcCos, sizeof (float) * degreeBins, cudaMemcpyHostToDevice);\n",
        "  cudaMemcpy(d_Sin, pcSin, sizeof (float) * degreeBins, cudaMemcpyHostToDevice);\n",
        "\n",
        "  unsigned char *d_in, *h_in;\n",
        "  int *d_hough, *h_hough;\n",
        "\n",
        "  h_in = inImg.pixels;\n",
        "\n",
        "  h_hough = (int *) malloc (degreeBins * rBins * sizeof (int));\n",
        "\n",
        "  cudaMalloc ((void **) &d_in, sizeof (unsigned char) * w * h);\n",
        "  cudaMalloc ((void **) &d_hough, sizeof (int) * degreeBins * rBins);\n",
        "  cudaMemcpy (d_in, h_in, sizeof (unsigned char) * w * h, cudaMemcpyHostToDevice);\n",
        "  cudaMemset (d_hough, 0, sizeof (int) * degreeBins * rBins);\n",
        "\n",
        "  // Define CUDA events for timing\n",
        "  cudaEvent_t start, stop;\n",
        "  cudaEventCreate(&start);\n",
        "  cudaEventCreate(&stop);\n",
        "\n",
        "  // Start recording the event\n",
        "  cudaEventRecord(start);\n",
        "\n",
        "  // execution configuration uses a 1-D grid of 1-D blocks, each made of 256 threads\n",
        "  int blockNum = ceil (w * h / 256);\n",
        "  GPU_HoughTran <<< blockNum, 256 >>> (d_in, w, h, d_hough, rMax, rScale, d_Cos, d_Sin);\n",
        "\n",
        "  // Stop recording the event\n",
        "  cudaEventRecord(stop);\n",
        "  cudaEventSynchronize(stop);\n",
        "\n",
        "  // Calculate the elapsed time between the start and stop events\n",
        "  float milliseconds = 0;\n",
        "  cudaEventElapsedTime(&milliseconds, start, stop);\n",
        "\n",
        "  printf(\"GPU Hough Transform took %f milliseconds\\n\", milliseconds);\n",
        "\n",
        "  // get results from device\n",
        "  cudaMemcpy (h_hough, d_hough, sizeof (int) * degreeBins * rBins, cudaMemcpyDeviceToHost);\n",
        "\n",
        "  // compare CPU and GPU results\n",
        "  for (i = 0; i < degreeBins * rBins; i++)\n",
        "  {\n",
        "    if (cpuht[i] != h_hough[i])\n",
        "      printf (\"Mismatch at : %i %i %i\\n\", i, cpuht[i], h_hough[i]);\n",
        "  }\n",
        "  printf(\"Done!\\n\");\n",
        "\n",
        "  // Clean-up\n",
        "  cudaFree(d_Cos);\n",
        "  cudaFree(d_Sin);\n",
        "  cudaFree(d_in);\n",
        "  cudaFree(d_hough);\n",
        "  free(pcCos);\n",
        "  free(pcSin);\n",
        "  free(h_hough);\n",
        "  delete[] cpuht;\n",
        "\n",
        "  // Destroy CUDA events\n",
        "  cudaEventDestroy(start);\n",
        "  cudaEventDestroy(stop);\n",
        "\n",
        "  return 0;\n",
        "}"
      ],
      "metadata": {
        "colab": {
          "base_uri": "https://localhost:8080/"
        },
        "id": "L9TpwOkEa_A1",
        "outputId": "2f065cea-80ef-44fa-c8b0-9e304aa10782"
      },
      "execution_count": 45,
      "outputs": [
        {
          "output_type": "stream",
          "name": "stdout",
          "text": [
            "Overwriting hough.cu\n"
          ]
        }
      ]
    },
    {
      "cell_type": "code",
      "source": [
        "!make"
      ],
      "metadata": {
        "colab": {
          "base_uri": "https://localhost:8080/"
        },
        "id": "jmev1i13bN71",
        "outputId": "1d0b13bc-3c17-4a12-d84d-7e1e95846f6e"
      },
      "execution_count": 46,
      "outputs": [
        {
          "output_type": "stream",
          "name": "stdout",
          "text": [
            "Compiling the hough transform program...\n",
            "nvcc hough.cu pgm.o -o hough `pkg-config --cflags --libs opencv4`\n"
          ]
        }
      ]
    },
    {
      "cell_type": "code",
      "source": [
        "!nvcc houghBase.cu pgm.o --verbose -o hough -I/usr/include/opencv4 -L/usr/lib -lopencv_core -lopencv_imgcodecs -lopencv_highgui -lopencv_imgproc"
      ],
      "metadata": {
        "colab": {
          "base_uri": "https://localhost:8080/"
        },
        "id": "m8QGdVfObQiB",
        "outputId": "59d3b1ec-d6c9-40e5-e2fd-de534e3efa84"
      },
      "execution_count": 47,
      "outputs": [
        {
          "output_type": "stream",
          "name": "stdout",
          "text": [
            "#$ _NVVM_BRANCH_=nvvm\n",
            "#$ _SPACE_= \n",
            "#$ _CUDART_=cudart\n",
            "#$ _HERE_=/usr/local/cuda/bin\n",
            "#$ _THERE_=/usr/local/cuda/bin\n",
            "#$ _TARGET_SIZE_=\n",
            "#$ _TARGET_DIR_=\n",
            "#$ _TARGET_DIR_=targets/x86_64-linux\n",
            "#$ TOP=/usr/local/cuda/bin/..\n",
            "#$ NVVMIR_LIBRARY_DIR=/usr/local/cuda/bin/../nvvm/libdevice\n",
            "#$ LD_LIBRARY_PATH=/usr/local/cuda/bin/../lib:/usr/lib64-nvidia\n",
            "#$ PATH=/usr/local/cuda/bin/../nvvm/bin:/usr/local/cuda/bin:/opt/bin:/usr/local/nvidia/bin:/usr/local/cuda/bin:/usr/local/sbin:/usr/local/bin:/usr/sbin:/usr/bin:/sbin:/bin:/tools/node/bin:/tools/google-cloud-sdk/bin\n",
            "#$ INCLUDES=\"-I/usr/local/cuda/bin/../targets/x86_64-linux/include\"  \n",
            "#$ LIBRARIES=  \"-L/usr/local/cuda/bin/../targets/x86_64-linux/lib/stubs\" \"-L/usr/local/cuda/bin/../targets/x86_64-linux/lib\"\n",
            "#$ CUDAFE_FLAGS=\n",
            "#$ PTXAS_FLAGS=\n",
            "#$ gcc -D__CUDA_ARCH__=520 -D__CUDA_ARCH_LIST__=520 -E -x c++  -DCUDA_DOUBLE_MATH_FUNCTIONS -D__CUDACC__ -D__NVCC__  -I\"/usr/include/opencv4\" \"-I/usr/local/cuda/bin/../targets/x86_64-linux/include\"    -D__CUDACC_VER_MAJOR__=11 -D__CUDACC_VER_MINOR__=8 -D__CUDACC_VER_BUILD__=89 -D__CUDA_API_VER_MAJOR__=11 -D__CUDA_API_VER_MINOR__=8 -D__NVCC_DIAG_PRAGMA_SUPPORT__=1 -include \"cuda_runtime.h\" -m64 \"houghBase.cu\" -o \"/tmp/tmpxft_000036c5_00000000-9_houghBase.cpp1.ii\" \n",
            "\u001b[01m\u001b[Kcc1plus:\u001b[m\u001b[K \u001b[01;31m\u001b[Kfatal error: \u001b[m\u001b[KhoughBase.cu: No such file or directory\n",
            "compilation terminated.\n",
            "# --error 0x1 --\n"
          ]
        }
      ]
    },
    {
      "cell_type": "code",
      "source": [
        "!./hough runway.pgm"
      ],
      "metadata": {
        "colab": {
          "base_uri": "https://localhost:8080/"
        },
        "id": "SALlIEwbbShP",
        "outputId": "28d2c7bf-1132-40e0-b168-7344a15bc313"
      },
      "execution_count": 48,
      "outputs": [
        {
          "output_type": "stream",
          "name": "stdout",
          "text": [
            "GPU Hough Transform took 1.533504 milliseconds\n",
            "Mismatch at : 1803 1446 1445\n",
            "Mismatch at : 1893 1506 1507\n",
            "Mismatch at : 5931 1653 1654\n",
            "Mismatch at : 6021 1816 1815\n",
            "Mismatch at : 6104 1642 1641\n",
            "Mismatch at : 6194 1586 1587\n",
            "Done!\n"
          ]
        }
      ]
    },
    {
      "cell_type": "markdown",
      "source": [
        "### Inciso 3\n",
        "* Podemos ver que en el kernel se calcula xCoord y también yCoord. Explique en sus palabras que se está realizando en esas operaciones y porque se calcula de tal forma."
      ],
      "metadata": {
        "id": "9pn4l4xOcfxH"
      }
    },
    {
      "cell_type": "code",
      "source": [],
      "metadata": {
        "id": "l0jPmrTHcpFc"
      },
      "execution_count": 48,
      "outputs": []
    },
    {
      "cell_type": "markdown",
      "source": [
        "### Inciso 4\n",
        "* Ya que estamos en temas de Computer Vision, acá aplica fuertemente el dicho de “una imagen vale más que mil palabras”. Modifique el programa y adicione como salida una imagen (.jpg o.png) con las líneas detectadas (Es decir, la imagen de entrada con las líneas dibujadas a color\n",
        "encima de la imagen blanco y negro). Para no dibujar todas las líneas posibles, dibuje solamente aquellas cuyo “peso” sea mayor a un Threshold arbitrario (i.e.: dibujas aquellas cuyo peso > threshold, o bien dibujar aquellas cuyo peso > promedio de pesos + 2 stdvs, etc)"
      ],
      "metadata": {
        "id": "_MAl9O1xc4NH"
      }
    },
    {
      "cell_type": "code",
      "source": [
        "%%writefile hough.cu\n",
        "/*\n",
        " ============================================================================\n",
        " Author        : G. Barlas\n",
        " Version       : 1.0\n",
        " Last modified : December 2014\n",
        " License       : Released under the GNU GPL 3.0\n",
        " Description   :\n",
        " To build use  : make\n",
        " ============================================================================\n",
        " */\n",
        "#include <stdio.h>\n",
        "#include <stdlib.h>\n",
        "#include <math.h>\n",
        "#include <cuda.h>\n",
        "#include <string.h>\n",
        "#include \"common/pgm.h\"\n",
        "#include <opencv2/opencv.hpp>\n",
        "#include <vector>\n",
        "\n",
        "const int degreeInc = 2;\n",
        "const int degreeBins = 180 / degreeInc;\n",
        "const int rBins = 100;\n",
        "const float radInc = degreeInc * M_PI / 180;\n",
        "\n",
        "void CPU_HoughTran (unsigned char *pic, int w, int h, int **acc)\n",
        "{\n",
        "  float rMax = sqrt (1.0 * w * w + 1.0 * h * h) / 2;  //(w^2 + h^2)/2, radio max equivalente a centro -> esquina\n",
        "  *acc = new int[rBins * degreeBins];            //el acumulador, conteo depixeles encontrados, 90*180/degInc = 9000\n",
        "  memset (*acc, 0, sizeof (int) * rBins * degreeBins); //init en ceros\n",
        "  int xCent = w / 2;\n",
        "  int yCent = h / 2;\n",
        "  float rScale = 2 * rMax / rBins;\n",
        "\n",
        "  for (int i = 0; i < w; i++) //por cada pixel\n",
        "    for (int j = 0; j < h; j++) //...\n",
        "      {\n",
        "        int idx = j * w + i;\n",
        "        if (pic[idx] > 0) //si pasa thresh, entonces lo marca\n",
        "          {\n",
        "            int xCoord = i - xCent;\n",
        "            int yCoord = yCent - j;  // y-coord has to be reversed\n",
        "            float theta = 0;         // actual angle\n",
        "            for (int tIdx = 0; tIdx < degreeBins; tIdx++) //add 1 to all lines in that pixel\n",
        "              {\n",
        "                float r = xCoord * cos (theta) + yCoord * sin (theta);\n",
        "                int rIdx = (r + rMax) / rScale;\n",
        "                (*acc)[rIdx * degreeBins + tIdx]++; //+1 para este radio r y este theta\n",
        "                theta += radInc;\n",
        "              }\n",
        "          }\n",
        "      }\n",
        "}\n",
        "\n",
        "void drawLine(cv::Mat &img, double rho, double theta, cv::Scalar color) {\n",
        "    cv::Point pt1, pt2;\n",
        "    double a = cos(theta), b = sin(theta);\n",
        "    double x0 = a * rho, y0 = b * rho;\n",
        "    pt1.x = cvRound(x0 + 1000 * (-b));\n",
        "    pt1.y = cvRound(y0 + 1000 * (a));\n",
        "    pt2.x = cvRound(x0 - 1000 * (-b));\n",
        "    pt2.y = cvRound(y0 - 1000 * (a));\n",
        "    line(img, pt1, pt2, color, 3, cv::LINE_AA);\n",
        "}\n",
        "\n",
        "\n",
        "__global__ void GPU_HoughTran(unsigned char *pic, int w, int h, int *acc, float rMax, float rScale, float *d_Cos, float *d_Sin) {\n",
        "    int gloID = blockIdx.x * blockDim.x + threadIdx.x;\n",
        "    if (gloID >= w * h) return;\n",
        "\n",
        "    int xCent = w / 2;\n",
        "    int yCent = h / 2;\n",
        "\n",
        "    int xCoord = gloID % w - xCent;\n",
        "    int yCoord = yCent - gloID / w;\n",
        "\n",
        "    if (pic[gloID] > 0) {\n",
        "        for (int tIdx = 0; tIdx < degreeBins; tIdx++) {\n",
        "            float r = xCoord * d_Cos[tIdx] + yCoord * d_Sin[tIdx];\n",
        "            int rIdx = (r + rMax) / rScale;\n",
        "            atomicAdd(&acc[rIdx * degreeBins + tIdx], 1);\n",
        "        }\n",
        "    }\n",
        "}\n",
        "\n",
        "int main(int argc, char **argv) {\n",
        "    if (argc != 2) {\n",
        "        printf(\"Usage: %s <image.pgm>\\n\", argv[0]);\n",
        "        return -1;\n",
        "    }\n",
        "\n",
        "    PGMImage inImg(argv[1]);\n",
        "    int w = inImg.x_dim;\n",
        "    int h = inImg.y_dim;\n",
        "    int *cpuht;\n",
        "\n",
        "    // Reserva memoria en el host y el device\n",
        "    float* d_Cos;\n",
        "    float* d_Sin;\n",
        "    unsigned char *d_in;\n",
        "    int *d_hough;\n",
        "    cudaMalloc((void**)&d_Cos, sizeof(float) * degreeBins);\n",
        "    cudaMalloc((void**)&d_Sin, sizeof(float) * degreeBins);\n",
        "    cudaMalloc((void**)&d_in, sizeof(unsigned char) * w * h);\n",
        "    cudaMalloc((void**)&d_hough, sizeof(int) * degreeBins * rBins);\n",
        "    int* h_hough = (int*)malloc(degreeBins * rBins * sizeof(int));\n",
        "\n",
        "    // Calcula la transformada de Hough en la CPU\n",
        "    CPU_HoughTran(inImg.pixels, w, h, &cpuht);\n",
        "\n",
        "    // Calcula rMax y rScale basado en el tamaño de la imagen\n",
        "    float rMax = sqrtf(1.0 * w * w + 1.0 * h * h) / 2;\n",
        "    float rScale = 2 * rMax / rBins;\n",
        "\n",
        "    // Configura el número de bloques e hilos\n",
        "    int threadsPerBlock = 256;\n",
        "    int blockNum = (w * h + threadsPerBlock - 1) / threadsPerBlock;\n",
        "\n",
        "    // Define eventos para medir el tiempo\n",
        "    cudaEvent_t start, stop;\n",
        "    cudaEventCreate(&start);\n",
        "    cudaEventCreate(&stop);\n",
        "\n",
        "    // Inicia la medición del tiempo\n",
        "    cudaEventRecord(start);\n",
        "\n",
        "    // Llama al kernel\n",
        "    GPU_HoughTran<<<blockNum, threadsPerBlock>>>(d_in, w, h, d_hough, rMax, rScale, d_Cos, d_Sin);\n",
        "\n",
        "    // Finaliza la medición del tiempo\n",
        "    cudaEventRecord(stop);\n",
        "    cudaEventSynchronize(stop);\n",
        "\n",
        "    // Calcula el tiempo transcurrido\n",
        "    float milliseconds = 0;\n",
        "    cudaEventElapsedTime(&milliseconds, start, stop);\n",
        "    printf(\"GPU Hough Transform took %f milliseconds\\n\", milliseconds);\n",
        "\n",
        "    // Copia los resultados de vuelta al host\n",
        "    cudaMemcpy(h_hough, d_hough, sizeof(int) * degreeBins * rBins, cudaMemcpyDeviceToHost);\n",
        "\n",
        "    // Carga la imagen original y conviértela a color\n",
        "    cv::Mat originalImage = cv::imread(argv[1], cv::IMREAD_GRAYSCALE);\n",
        "    cv::Mat colorImage;\n",
        "    cvtColor(originalImage, colorImage, cv::COLOR_GRAY2BGR);\n",
        "\n",
        "    // Encuentra líneas que superan el umbral y dibújalas\n",
        "    float sum = 0;\n",
        "    float sumSq = 0;\n",
        "    int count = 0;\n",
        "    for (int i = 0; i < degreeBins * rBins; i++) {\n",
        "        sum += h_hough[i];\n",
        "        sumSq += h_hough[i] * h_hough[i];\n",
        "        count++;\n",
        "    }\n",
        "    float promedio = sum / count;\n",
        "    float varianza = (sumSq / count) - (promedio * promedio);\n",
        "    float desviacionEstandar = sqrt(varianza);\n",
        "    float threshold = promedio + 2 * desviacionEstandar;\n",
        "\n",
        "    for (int r = 0; r < rBins; r++) {\n",
        "        for (int t = 0; t < degreeBins; t++) {\n",
        "            if (h_hough[r * degreeBins + t] > threshold) {\n",
        "                float rho = (r - rBins / 2) * rScale;\n",
        "                float theta = t * radInc;\n",
        "                drawLine(colorImage, rho, theta, cv::Scalar(0, 0, 255));\n",
        "            }\n",
        "        }\n",
        "    }\n",
        "\n",
        "    // Guarda la imagen resultante\n",
        "    cv::imwrite(\"hough_lines.jpg\", colorImage);\n",
        "\n",
        "    // Limpieza\n",
        "    cudaFree(d_Cos);\n",
        "    cudaFree(d_Sin);\n",
        "    cudaFree(d_in);\n",
        "    cudaFree(d_hough);\n",
        "    free(h_hough);\n",
        "    delete[] cpuht;\n",
        "    cudaEventDestroy(start);\n",
        "    cudaEventDestroy(stop);\n",
        "\n",
        "    return 0;\n",
        "}"
      ],
      "metadata": {
        "colab": {
          "base_uri": "https://localhost:8080/"
        },
        "id": "IXClYMqQdHcX",
        "outputId": "9b2f4b72-5722-4655-fac1-abd30e18d527"
      },
      "execution_count": 76,
      "outputs": [
        {
          "output_type": "stream",
          "name": "stdout",
          "text": [
            "Overwriting hough.cu\n"
          ]
        }
      ]
    },
    {
      "cell_type": "code",
      "source": [
        "!apt update"
      ],
      "metadata": {
        "colab": {
          "base_uri": "https://localhost:8080/"
        },
        "id": "5tAMS71Gk5Nt",
        "outputId": "66d090ca-a71d-4dd3-d744-7d64f71a9e7a"
      },
      "execution_count": 50,
      "outputs": [
        {
          "output_type": "stream",
          "name": "stdout",
          "text": [
            "Hit:1 https://cloud.r-project.org/bin/linux/ubuntu jammy-cran40/ InRelease\n",
            "Hit:2 https://developer.download.nvidia.com/compute/cuda/repos/ubuntu2204/x86_64  InRelease\n",
            "Hit:3 http://security.ubuntu.com/ubuntu jammy-security InRelease\n",
            "Hit:4 http://archive.ubuntu.com/ubuntu jammy InRelease\n",
            "Get:5 http://archive.ubuntu.com/ubuntu jammy-updates InRelease [119 kB]\n",
            "Hit:6 https://ppa.launchpadcontent.net/c2d4u.team/c2d4u4.0+/ubuntu jammy InRelease\n",
            "Hit:7 https://ppa.launchpadcontent.net/deadsnakes/ppa/ubuntu jammy InRelease\n",
            "Hit:8 https://ppa.launchpadcontent.net/graphics-drivers/ppa/ubuntu jammy InRelease\n",
            "Hit:9 https://ppa.launchpadcontent.net/ubuntugis/ppa/ubuntu jammy InRelease\n",
            "Hit:10 http://archive.ubuntu.com/ubuntu jammy-backports InRelease\n",
            "Fetched 119 kB in 1s (94.1 kB/s)\n",
            "Reading package lists... Done\n",
            "Building dependency tree... Done\n",
            "Reading state information... Done\n",
            "14 packages can be upgraded. Run 'apt list --upgradable' to see them.\n"
          ]
        }
      ]
    },
    {
      "cell_type": "code",
      "source": [
        "!pip install opencv-python\n"
      ],
      "metadata": {
        "colab": {
          "base_uri": "https://localhost:8080/"
        },
        "id": "22ge99t5qh0j",
        "outputId": "415477cd-f9e2-4c11-befc-6e0454522c95"
      },
      "execution_count": 51,
      "outputs": [
        {
          "output_type": "stream",
          "name": "stdout",
          "text": [
            "Requirement already satisfied: opencv-python in /usr/local/lib/python3.10/dist-packages (4.8.0.76)\n",
            "Requirement already satisfied: numpy>=1.21.2 in /usr/local/lib/python3.10/dist-packages (from opencv-python) (1.23.5)\n"
          ]
        }
      ]
    },
    {
      "cell_type": "code",
      "source": [
        "!apt update && apt install -y libopencv-dev"
      ],
      "metadata": {
        "colab": {
          "base_uri": "https://localhost:8080/"
        },
        "id": "DLhIFwxnrM1M",
        "outputId": "812b856e-a781-41a8-af7b-f5fe23a1e297"
      },
      "execution_count": 52,
      "outputs": [
        {
          "output_type": "stream",
          "name": "stdout",
          "text": [
            "\u001b[33m\r0% [Working]\u001b[0m\r            \rHit:1 https://cloud.r-project.org/bin/linux/ubuntu jammy-cran40/ InRelease\n",
            "\u001b[33m\r0% [Connecting to archive.ubuntu.com (185.125.190.36)] [Waiting for headers] [Connecting to ppa.laun\u001b[0m\r                                                                                                    \rHit:2 https://developer.download.nvidia.com/compute/cuda/repos/ubuntu2204/x86_64  InRelease\n",
            "Get:3 http://security.ubuntu.com/ubuntu jammy-security InRelease [110 kB]\n",
            "Hit:4 http://archive.ubuntu.com/ubuntu jammy InRelease\n",
            "Hit:5 http://archive.ubuntu.com/ubuntu jammy-updates InRelease\n",
            "Hit:6 http://archive.ubuntu.com/ubuntu jammy-backports InRelease\n",
            "Hit:7 https://ppa.launchpadcontent.net/c2d4u.team/c2d4u4.0+/ubuntu jammy InRelease\n",
            "Hit:8 https://ppa.launchpadcontent.net/deadsnakes/ppa/ubuntu jammy InRelease\n",
            "Hit:9 https://ppa.launchpadcontent.net/graphics-drivers/ppa/ubuntu jammy InRelease\n",
            "Hit:10 https://ppa.launchpadcontent.net/ubuntugis/ppa/ubuntu jammy InRelease\n",
            "Fetched 110 kB in 2s (61.6 kB/s)\n",
            "Reading package lists... Done\n",
            "Building dependency tree... Done\n",
            "Reading state information... Done\n",
            "14 packages can be upgraded. Run 'apt list --upgradable' to see them.\n",
            "Reading package lists... Done\n",
            "Building dependency tree... Done\n",
            "Reading state information... Done\n",
            "libopencv-dev is already the newest version (4.5.4+dfsg-9ubuntu4).\n",
            "0 upgraded, 0 newly installed, 0 to remove and 14 not upgraded.\n"
          ]
        }
      ]
    },
    {
      "cell_type": "code",
      "source": [
        "!make"
      ],
      "metadata": {
        "colab": {
          "base_uri": "https://localhost:8080/"
        },
        "id": "pxW7hWthddNQ",
        "outputId": "74243598-0c5f-4ac0-9a39-54a1827eee30"
      },
      "execution_count": 77,
      "outputs": [
        {
          "output_type": "stream",
          "name": "stdout",
          "text": [
            "Compiling the hough transform program...\n",
            "nvcc hough.cu pgm.o -o hough `pkg-config --cflags --libs opencv4`\n",
            "\u001b[01m\u001b[0m\u001b[01m/usr/include/opencv4/opencv2/stitching/detail/warpers.hpp(235)\u001b[0m: \u001b[01;35mwarning\u001b[0m #611-D: overloaded virtual function \u001b[01m\"cv::detail::PlaneWarper::buildMaps\"\u001b[0m is only partially overridden in class \u001b[01m\"cv::detail::AffineWarper\"\u001b[0m\n",
            "\n",
            "\u001b[01m\u001b[0m\u001b[01m/usr/include/opencv4/opencv2/stitching/detail/warpers.hpp(235)\u001b[0m: \u001b[01;35mwarning\u001b[0m #611-D: overloaded virtual function \u001b[01m\"cv::detail::PlaneWarper::warp\"\u001b[0m is only partially overridden in class \u001b[01m\"cv::detail::AffineWarper\"\u001b[0m\n",
            "\n",
            "\u001b[01m\u001b[0m\u001b[01m/usr/include/opencv4/opencv2/stitching/detail/blenders.hpp(100)\u001b[0m: \u001b[01;35mwarning\u001b[0m #611-D: overloaded virtual function \u001b[01m\"cv::detail::Blender::prepare\"\u001b[0m is only partially overridden in class \u001b[01m\"cv::detail::FeatherBlender\"\u001b[0m\n",
            "\n",
            "\u001b[01m\u001b[0m\u001b[01m/usr/include/opencv4/opencv2/stitching/detail/blenders.hpp(127)\u001b[0m: \u001b[01;35mwarning\u001b[0m #611-D: overloaded virtual function \u001b[01m\"cv::detail::Blender::prepare\"\u001b[0m is only partially overridden in class \u001b[01m\"cv::detail::MultiBandBlender\"\u001b[0m\n",
            "\n",
            "\u001b[01m\u001b[0m\u001b[01m/usr/include/opencv4/opencv2/stitching/detail/warpers.hpp(235)\u001b[0m: \u001b[01;35mwarning\u001b[0m #611-D: overloaded virtual function \u001b[01m\"cv::detail::PlaneWarper::buildMaps\"\u001b[0m is only partially overridden in class \u001b[01m\"cv::detail::AffineWarper\"\u001b[0m\n",
            "\n",
            "\u001b[01m\u001b[0m\u001b[01m/usr/include/opencv4/opencv2/stitching/detail/warpers.hpp(235)\u001b[0m: \u001b[01;35mwarning\u001b[0m #611-D: overloaded virtual function \u001b[01m\"cv::detail::PlaneWarper::warp\"\u001b[0m is only partially overridden in class \u001b[01m\"cv::detail::AffineWarper\"\u001b[0m\n",
            "\n",
            "\u001b[01m\u001b[0m\u001b[01m/usr/include/opencv4/opencv2/stitching/detail/blenders.hpp(100)\u001b[0m: \u001b[01;35mwarning\u001b[0m #611-D: overloaded virtual function \u001b[01m\"cv::detail::Blender::prepare\"\u001b[0m is only partially overridden in class \u001b[01m\"cv::detail::FeatherBlender\"\u001b[0m\n",
            "\n",
            "\u001b[01m\u001b[0m\u001b[01m/usr/include/opencv4/opencv2/stitching/detail/blenders.hpp(127)\u001b[0m: \u001b[01;35mwarning\u001b[0m #611-D: overloaded virtual function \u001b[01m\"cv::detail::Blender::prepare\"\u001b[0m is only partially overridden in class \u001b[01m\"cv::detail::MultiBandBlender\"\u001b[0m\n",
            "\n"
          ]
        }
      ]
    },
    {
      "cell_type": "code",
      "source": [
        "!nvcc houghBase.cu pgm.o --verbose -o hough -I/usr/include/opencv4 -L/usr/lib -lopencv_core -lopencv_imgcodecs -lopencv_highgui -lopencv_imgproc"
      ],
      "metadata": {
        "colab": {
          "base_uri": "https://localhost:8080/"
        },
        "id": "r-4SzluPdffv",
        "outputId": "c52fc254-ea6a-4daf-a588-ed3e0f82265a"
      },
      "execution_count": 78,
      "outputs": [
        {
          "output_type": "stream",
          "name": "stdout",
          "text": [
            "#$ _NVVM_BRANCH_=nvvm\n",
            "#$ _SPACE_= \n",
            "#$ _CUDART_=cudart\n",
            "#$ _HERE_=/usr/local/cuda/bin\n",
            "#$ _THERE_=/usr/local/cuda/bin\n",
            "#$ _TARGET_SIZE_=\n",
            "#$ _TARGET_DIR_=\n",
            "#$ _TARGET_DIR_=targets/x86_64-linux\n",
            "#$ TOP=/usr/local/cuda/bin/..\n",
            "#$ NVVMIR_LIBRARY_DIR=/usr/local/cuda/bin/../nvvm/libdevice\n",
            "#$ LD_LIBRARY_PATH=/usr/local/cuda/bin/../lib:/usr/lib64-nvidia\n",
            "#$ PATH=/usr/local/cuda/bin/../nvvm/bin:/usr/local/cuda/bin:/opt/bin:/usr/local/nvidia/bin:/usr/local/cuda/bin:/usr/local/sbin:/usr/local/bin:/usr/sbin:/usr/bin:/sbin:/bin:/tools/node/bin:/tools/google-cloud-sdk/bin\n",
            "#$ INCLUDES=\"-I/usr/local/cuda/bin/../targets/x86_64-linux/include\"  \n",
            "#$ LIBRARIES=  \"-L/usr/local/cuda/bin/../targets/x86_64-linux/lib/stubs\" \"-L/usr/local/cuda/bin/../targets/x86_64-linux/lib\"\n",
            "#$ CUDAFE_FLAGS=\n",
            "#$ PTXAS_FLAGS=\n",
            "#$ gcc -D__CUDA_ARCH__=520 -D__CUDA_ARCH_LIST__=520 -E -x c++  -DCUDA_DOUBLE_MATH_FUNCTIONS -D__CUDACC__ -D__NVCC__  -I\"/usr/include/opencv4\" \"-I/usr/local/cuda/bin/../targets/x86_64-linux/include\"    -D__CUDACC_VER_MAJOR__=11 -D__CUDACC_VER_MINOR__=8 -D__CUDACC_VER_BUILD__=89 -D__CUDA_API_VER_MAJOR__=11 -D__CUDA_API_VER_MINOR__=8 -D__NVCC_DIAG_PRAGMA_SUPPORT__=1 -include \"cuda_runtime.h\" -m64 \"houghBase.cu\" -o \"/tmp/tmpxft_0000596e_00000000-9_houghBase.cpp1.ii\" \n",
            "\u001b[01m\u001b[Kcc1plus:\u001b[m\u001b[K \u001b[01;31m\u001b[Kfatal error: \u001b[m\u001b[KhoughBase.cu: No such file or directory\n",
            "compilation terminated.\n",
            "# --error 0x1 --\n"
          ]
        }
      ]
    },
    {
      "cell_type": "code",
      "source": [
        "!./hough runway.pgm"
      ],
      "metadata": {
        "colab": {
          "base_uri": "https://localhost:8080/"
        },
        "id": "xGLzBr7Mdh7K",
        "outputId": "4aaf78fc-1f34-4e17-e420-c612f82c66dc"
      },
      "execution_count": 88,
      "outputs": [
        {
          "output_type": "stream",
          "name": "stdout",
          "text": [
            "GPU Hough Transform took 0.042848 milliseconds\n"
          ]
        }
      ]
    },
    {
      "cell_type": "markdown",
      "source": [
        "### Inciso 5 y 6\n"
      ],
      "metadata": {
        "id": "MojrC-p-8i9p"
      }
    },
    {
      "cell_type": "code",
      "source": [
        "%%writefile hough.cu\n",
        "/*\n",
        " ============================================================================\n",
        " Author        : G. Barlas\n",
        " Version       : 1.0\n",
        " Last modified : December 2014\n",
        " License       : Released under the GNU GPL 3.0\n",
        " Description   :\n",
        " To build use  : make\n",
        " ============================================================================\n",
        " */\n",
        "#include <stdio.h>\n",
        "#include <stdlib.h>\n",
        "#include <math.h>\n",
        "#include <cuda.h>\n",
        "#include <string.h>\n",
        "#include \"common/pgm.h\"\n",
        "#include <opencv2/opencv.hpp>\n",
        "#include <vector>\n",
        "\n",
        "const int degreeInc = 2;\n",
        "const int degreeBins = 180 / degreeInc;\n",
        "const int rBins = 100;\n",
        "const float radInc = degreeInc * M_PI / 180;\n",
        "\n",
        "__constant__ float d_Cos[degreeBins];\n",
        "__constant__ float d_Sin[degreeBins];\n",
        "\n",
        "__global__ void GPU_HoughTran(unsigned char *pic, int w, int h, int *acc, float rMax, float rScale) {\n",
        "   int gloID = blockIdx.x * blockDim.x + threadIdx.x;\n",
        "   if (gloID >= w * h) return;\n",
        "\n",
        "   int xCent = w / 2;\n",
        "   int yCent = h / 2;\n",
        "\n",
        "   int xCoord = gloID % w - xCent;\n",
        "   int yCoord = yCent - gloID / w;\n",
        "\n",
        "   if (pic[gloID] > 0) {\n",
        "       for (int tIdx = 0; tIdx < degreeBins; tIdx++) {\n",
        "           float r = xCoord * d_Cos[tIdx] + yCoord * d_Sin[tIdx];\n",
        "           int rIdx = (r + rMax) / rScale;\n",
        "           atomicAdd(&acc[rIdx * degreeBins + tIdx], 1);\n",
        "       }\n",
        "   }\n",
        "}\n",
        "\n",
        "void CPU_HoughTran (unsigned char *pic, int w, int h, int **acc)\n",
        "{\n",
        "  float rMax = sqrt (1.0 * w * w + 1.0 * h * h) / 2;  //(w^2 + h^2)/2, radio max equivalente a centro -> esquina\n",
        "  *acc = new int[rBins * degreeBins];            //el acumulador, conteo depixeles encontrados, 90*180/degInc = 9000\n",
        "  memset (*acc, 0, sizeof (int) * rBins * degreeBins); //init en ceros\n",
        "  int xCent = w / 2;\n",
        "  int yCent = h / 2;\n",
        "  float rScale = 2 * rMax / rBins;\n",
        "\n",
        "  for (int i = 0; i < w; i++) //por cada pixel\n",
        "    for (int j = 0; j < h; j++) //...\n",
        "      {\n",
        "        int idx = j * w + i;\n",
        "        if (pic[idx] > 0) //si pasa thresh, entonces lo marca\n",
        "          {\n",
        "            int xCoord = i - xCent;\n",
        "            int yCoord = yCent - j;  // y-coord has to be reversed\n",
        "            float theta = 0;         // actual angle\n",
        "            for (int tIdx = 0; tIdx < degreeBins; tIdx++) //add 1 to all lines in that pixel\n",
        "              {\n",
        "                float r = xCoord * cos (theta) + yCoord * sin (theta);\n",
        "                int rIdx = (r + rMax) / rScale;\n",
        "                (*acc)[rIdx * degreeBins + tIdx]++; //+1 para este radio r y este theta\n",
        "                theta += radInc;\n",
        "              }\n",
        "          }\n",
        "      }\n",
        "}\n",
        "\n",
        "void drawLine(cv::Mat &img, double rho, double theta, cv::Scalar color) {\n",
        "    cv::Point pt1, pt2;\n",
        "    double a = cos(theta), b = sin(theta);\n",
        "    double x0 = a * rho, y0 = b * rho;\n",
        "    pt1.x = cvRound(x0 + 1000 * (-b));\n",
        "    pt1.y = cvRound(y0 + 1000 * (a));\n",
        "    pt2.x = cvRound(x0 - 1000 * (-b));\n",
        "    pt2.y = cvRound(y0 - 1000 * (a));\n",
        "    line(img, pt1, pt2, color, 3, cv::LINE_AA);\n",
        "}\n",
        "\n",
        "\n",
        "int main(int argc, char **argv) {\n",
        "    if (argc != 2) {\n",
        "        printf(\"Usage: %s <image.pgm>\\n\", argv[0]);\n",
        "        return -1;\n",
        "    }\n",
        "\n",
        "    PGMImage inImg(argv[1]);\n",
        "    int w = inImg.x_dim;\n",
        "    int h = inImg.y_dim;\n",
        "    int *cpuht;\n",
        "\n",
        "    // Reserva memoria en el host y el device\n",
        "    float* d_Cos;\n",
        "    float* d_Sin;\n",
        "    unsigned char *d_in;\n",
        "    int *d_hough;\n",
        "    cudaMalloc((void**)&d_Cos, sizeof(float) * degreeBins);\n",
        "    cudaMalloc((void**)&d_Sin, sizeof(float) * degreeBins);\n",
        "    cudaMalloc((void**)&d_in, sizeof(unsigned char) * w * h);\n",
        "    cudaMalloc((void**)&d_hough, sizeof(int) * degreeBins * rBins);\n",
        "    int* h_hough = (int*)malloc(degreeBins * rBins * sizeof(int));\n",
        "\n",
        "    // Calcula la transformada de Hough en la CPU\n",
        "    CPU_HoughTran(inImg.pixels, w, h, &cpuht);\n",
        "\n",
        "    // Calcula rMax y rScale basado en el tamaño de la imagen\n",
        "    float rMax = sqrtf(1.0 * w * w + 1.0 * h * h) / 2;\n",
        "    float rScale = 2 * rMax / rBins;\n",
        "\n",
        "    // Configura el número de bloques e hilos\n",
        "    int threadsPerBlock = 256;\n",
        "    int blockNum = (w * h + threadsPerBlock - 1) / threadsPerBlock;\n",
        "\n",
        "    // Define eventos para medir el tiempo\n",
        "    cudaEvent_t start, stop;\n",
        "    cudaEventCreate(&start);\n",
        "    cudaEventCreate(&stop);\n",
        "\n",
        "    // Inicia la medición del tiempo\n",
        "    cudaEventRecord(start);\n",
        "\n",
        "    // Calcula los valores de cos(rad) y sin(rad)\n",
        "   float h_Cos[degreeBins], h_Sin[degreeBins];\n",
        "   for (int i = 0; i < degreeBins; i++) {\n",
        "       float theta = i * radInc;\n",
        "       h_Cos[i] = cos(theta);\n",
        "       h_Sin[i] = sin(theta);\n",
        "   }\n",
        "\n",
        "   // Copia los valores al device\n",
        "   cudaMemcpyToSymbol(d_Cos, h_Cos, sizeof(float) * degreeBins);\n",
        "   cudaMemcpyToSymbol(d_Sin, h_Sin, sizeof(float) * degreeBins);\n",
        "\n",
        "   // Llama al kernel\n",
        "   GPU_HoughTran<<<blockNum, threadsPerBlock>>>(d_in, w, h, d_hough, rMax, rScale);\n",
        "\n",
        "    // Finaliza la medición del tiempo\n",
        "    cudaEventRecord(stop);\n",
        "    cudaEventSynchronize(stop);\n",
        "\n",
        "    // Calcula el tiempo transcurrido\n",
        "    float milliseconds = 0;\n",
        "    cudaEventElapsedTime(&milliseconds, start, stop);\n",
        "    printf(\"GPU Hough Transform took %f milliseconds\\n\", milliseconds);\n",
        "\n",
        "    // Copia los resultados de vuelta al host\n",
        "    cudaMemcpy(h_hough, d_hough, sizeof(int) * degreeBins * rBins, cudaMemcpyDeviceToHost);\n",
        "\n",
        "    // Carga la imagen original y conviértela a color\n",
        "    cv::Mat originalImage = cv::imread(argv[1], cv::IMREAD_GRAYSCALE);\n",
        "    cv::Mat colorImage;\n",
        "    cvtColor(originalImage, colorImage, cv::COLOR_GRAY2BGR);\n",
        "\n",
        "    // Encuentra líneas que superan el umbral y dibújalas\n",
        "    float sum = 0;\n",
        "    float sumSq = 0;\n",
        "    int count = 0;\n",
        "    for (int i = 0; i < degreeBins * rBins; i++) {\n",
        "        sum += h_hough[i];\n",
        "        sumSq += h_hough[i] * h_hough[i];\n",
        "        count++;\n",
        "    }\n",
        "    float promedio = sum / count;\n",
        "    float varianza = (sumSq / count) - (promedio * promedio);\n",
        "    float desviacionEstandar = sqrt(varianza);\n",
        "    float threshold = promedio + 2 * desviacionEstandar;\n",
        "\n",
        "    for (int r = 0; r < rBins; r++) {\n",
        "        for (int t = 0; t < degreeBins; t++) {\n",
        "            if (h_hough[r * degreeBins + t] > threshold) {\n",
        "                float rho = (r - rBins / 2) * rScale;\n",
        "                float theta = t * radInc;\n",
        "                drawLine(colorImage, rho, theta, cv::Scalar(0, 0, 255));\n",
        "            }\n",
        "        }\n",
        "    }\n",
        "\n",
        "    // Guarda la imagen resultante\n",
        "    cv::imwrite(\"hough_lines.jpg\", colorImage);\n",
        "\n",
        "    // Limpieza\n",
        "    cudaFree(d_Cos);\n",
        "    cudaFree(d_Sin);\n",
        "    cudaFree(d_in);\n",
        "    cudaFree(d_hough);\n",
        "    free(h_hough);\n",
        "    delete[] cpuht;\n",
        "    cudaEventDestroy(start);\n",
        "    cudaEventDestroy(stop);\n",
        "\n",
        "    return 0;\n",
        "}"
      ],
      "metadata": {
        "id": "MkpgMbJt8iq0",
        "outputId": "89ad53bc-c3fe-48ab-c4c6-6548fe47ac95",
        "colab": {
          "base_uri": "https://localhost:8080/"
        }
      },
      "execution_count": 56,
      "outputs": [
        {
          "output_type": "stream",
          "name": "stdout",
          "text": [
            "Overwriting hough.cu\n"
          ]
        }
      ]
    },
    {
      "cell_type": "code",
      "source": [
        "#!pip install opencv-python"
      ],
      "metadata": {
        "id": "0NckcolCm9AV"
      },
      "execution_count": 57,
      "outputs": []
    },
    {
      "cell_type": "code",
      "source": [
        "!make"
      ],
      "metadata": {
        "id": "nNJbr0aVm_5e",
        "outputId": "21f36248-52a4-49e5-fb81-183267c9554c",
        "colab": {
          "base_uri": "https://localhost:8080/"
        }
      },
      "execution_count": 58,
      "outputs": [
        {
          "output_type": "stream",
          "name": "stdout",
          "text": [
            "Compiling the hough transform program...\n",
            "nvcc hough.cu pgm.o -o hough `pkg-config --cflags --libs opencv4`\n",
            "\u001b[01m\u001b[0m\u001b[01m/usr/include/opencv4/opencv2/stitching/detail/warpers.hpp(235)\u001b[0m: \u001b[01;35mwarning\u001b[0m #611-D: overloaded virtual function \u001b[01m\"cv::detail::PlaneWarper::buildMaps\"\u001b[0m is only partially overridden in class \u001b[01m\"cv::detail::AffineWarper\"\u001b[0m\n",
            "\n",
            "\u001b[01m\u001b[0m\u001b[01m/usr/include/opencv4/opencv2/stitching/detail/warpers.hpp(235)\u001b[0m: \u001b[01;35mwarning\u001b[0m #611-D: overloaded virtual function \u001b[01m\"cv::detail::PlaneWarper::warp\"\u001b[0m is only partially overridden in class \u001b[01m\"cv::detail::AffineWarper\"\u001b[0m\n",
            "\n",
            "\u001b[01m\u001b[0m\u001b[01m/usr/include/opencv4/opencv2/stitching/detail/blenders.hpp(100)\u001b[0m: \u001b[01;35mwarning\u001b[0m #611-D: overloaded virtual function \u001b[01m\"cv::detail::Blender::prepare\"\u001b[0m is only partially overridden in class \u001b[01m\"cv::detail::FeatherBlender\"\u001b[0m\n",
            "\n",
            "\u001b[01m\u001b[0m\u001b[01m/usr/include/opencv4/opencv2/stitching/detail/blenders.hpp(127)\u001b[0m: \u001b[01;35mwarning\u001b[0m #611-D: overloaded virtual function \u001b[01m\"cv::detail::Blender::prepare\"\u001b[0m is only partially overridden in class \u001b[01m\"cv::detail::MultiBandBlender\"\u001b[0m\n",
            "\n",
            "\u001b[01m\u001b[0m\u001b[01m/usr/include/opencv4/opencv2/stitching/detail/warpers.hpp(235)\u001b[0m: \u001b[01;35mwarning\u001b[0m #611-D: overloaded virtual function \u001b[01m\"cv::detail::PlaneWarper::buildMaps\"\u001b[0m is only partially overridden in class \u001b[01m\"cv::detail::AffineWarper\"\u001b[0m\n",
            "\n",
            "\u001b[01m\u001b[0m\u001b[01m/usr/include/opencv4/opencv2/stitching/detail/warpers.hpp(235)\u001b[0m: \u001b[01;35mwarning\u001b[0m #611-D: overloaded virtual function \u001b[01m\"cv::detail::PlaneWarper::warp\"\u001b[0m is only partially overridden in class \u001b[01m\"cv::detail::AffineWarper\"\u001b[0m\n",
            "\n",
            "\u001b[01m\u001b[0m\u001b[01m/usr/include/opencv4/opencv2/stitching/detail/blenders.hpp(100)\u001b[0m: \u001b[01;35mwarning\u001b[0m #611-D: overloaded virtual function \u001b[01m\"cv::detail::Blender::prepare\"\u001b[0m is only partially overridden in class \u001b[01m\"cv::detail::FeatherBlender\"\u001b[0m\n",
            "\n",
            "\u001b[01m\u001b[0m\u001b[01m/usr/include/opencv4/opencv2/stitching/detail/blenders.hpp(127)\u001b[0m: \u001b[01;35mwarning\u001b[0m #611-D: overloaded virtual function \u001b[01m\"cv::detail::Blender::prepare\"\u001b[0m is only partially overridden in class \u001b[01m\"cv::detail::MultiBandBlender\"\u001b[0m\n",
            "\n"
          ]
        }
      ]
    },
    {
      "cell_type": "code",
      "source": [
        "!nvcc hough.cu pgm.o --verbose -o hough -I/usr/include/opencv4 -L/usr/lib -lopencv_core -lopencv_imgcodecs -lopencv_highgui -lopencv_imgproc"
      ],
      "metadata": {
        "id": "9JbyHRlzDCeE",
        "outputId": "56165b2e-922d-473e-95f9-10bac0cecf7a",
        "colab": {
          "base_uri": "https://localhost:8080/"
        }
      },
      "execution_count": 59,
      "outputs": [
        {
          "output_type": "stream",
          "name": "stdout",
          "text": [
            "#$ _NVVM_BRANCH_=nvvm\n",
            "#$ _SPACE_= \n",
            "#$ _CUDART_=cudart\n",
            "#$ _HERE_=/usr/local/cuda/bin\n",
            "#$ _THERE_=/usr/local/cuda/bin\n",
            "#$ _TARGET_SIZE_=\n",
            "#$ _TARGET_DIR_=\n",
            "#$ _TARGET_DIR_=targets/x86_64-linux\n",
            "#$ TOP=/usr/local/cuda/bin/..\n",
            "#$ NVVMIR_LIBRARY_DIR=/usr/local/cuda/bin/../nvvm/libdevice\n",
            "#$ LD_LIBRARY_PATH=/usr/local/cuda/bin/../lib:/usr/lib64-nvidia\n",
            "#$ PATH=/usr/local/cuda/bin/../nvvm/bin:/usr/local/cuda/bin:/opt/bin:/usr/local/nvidia/bin:/usr/local/cuda/bin:/usr/local/sbin:/usr/local/bin:/usr/sbin:/usr/bin:/sbin:/bin:/tools/node/bin:/tools/google-cloud-sdk/bin\n",
            "#$ INCLUDES=\"-I/usr/local/cuda/bin/../targets/x86_64-linux/include\"  \n",
            "#$ LIBRARIES=  \"-L/usr/local/cuda/bin/../targets/x86_64-linux/lib/stubs\" \"-L/usr/local/cuda/bin/../targets/x86_64-linux/lib\"\n",
            "#$ CUDAFE_FLAGS=\n",
            "#$ PTXAS_FLAGS=\n",
            "#$ gcc -D__CUDA_ARCH__=520 -D__CUDA_ARCH_LIST__=520 -E -x c++  -DCUDA_DOUBLE_MATH_FUNCTIONS -D__CUDACC__ -D__NVCC__  -I\"/usr/include/opencv4\" \"-I/usr/local/cuda/bin/../targets/x86_64-linux/include\"    -D__CUDACC_VER_MAJOR__=11 -D__CUDACC_VER_MINOR__=8 -D__CUDACC_VER_BUILD__=89 -D__CUDA_API_VER_MAJOR__=11 -D__CUDA_API_VER_MINOR__=8 -D__NVCC_DIAG_PRAGMA_SUPPORT__=1 -include \"cuda_runtime.h\" -m64 \"hough.cu\" -o \"/tmp/tmpxft_00003d5e_00000000-9_hough.cpp1.ii\" \n",
            "#$ cicc --c++17 --gnu_version=110400 --display_error_number --orig_src_file_name \"hough.cu\" --orig_src_path_name \"/content/hough.cu\" --allow_managed   -arch compute_52 -m64 --no-version-ident -ftz=0 -prec_div=1 -prec_sqrt=1 -fmad=1 --include_file_name \"tmpxft_00003d5e_00000000-3_hough.fatbin.c\" -tused --gen_module_id_file --module_id_file_name \"/tmp/tmpxft_00003d5e_00000000-4_hough.module_id\" --gen_c_file_name \"/tmp/tmpxft_00003d5e_00000000-6_hough.cudafe1.c\" --stub_file_name \"/tmp/tmpxft_00003d5e_00000000-6_hough.cudafe1.stub.c\" --gen_device_file_name \"/tmp/tmpxft_00003d5e_00000000-6_hough.cudafe1.gpu\"  \"/tmp/tmpxft_00003d5e_00000000-9_hough.cpp1.ii\" -o \"/tmp/tmpxft_00003d5e_00000000-6_hough.ptx\"\n",
            "\u001b[01m\u001b[0m\u001b[01m/usr/include/opencv4/opencv2/stitching/detail/warpers.hpp(235)\u001b[0m: \u001b[01;35mwarning\u001b[0m #611-D: overloaded virtual function \u001b[01m\"cv::detail::PlaneWarper::buildMaps\"\u001b[0m is only partially overridden in class \u001b[01m\"cv::detail::AffineWarper\"\u001b[0m\n",
            "\n",
            "\u001b[01m\u001b[0m\u001b[01m/usr/include/opencv4/opencv2/stitching/detail/warpers.hpp(235)\u001b[0m: \u001b[01;35mwarning\u001b[0m #611-D: overloaded virtual function \u001b[01m\"cv::detail::PlaneWarper::warp\"\u001b[0m is only partially overridden in class \u001b[01m\"cv::detail::AffineWarper\"\u001b[0m\n",
            "\n",
            "\u001b[01m\u001b[0m\u001b[01m/usr/include/opencv4/opencv2/stitching/detail/blenders.hpp(100)\u001b[0m: \u001b[01;35mwarning\u001b[0m #611-D: overloaded virtual function \u001b[01m\"cv::detail::Blender::prepare\"\u001b[0m is only partially overridden in class \u001b[01m\"cv::detail::FeatherBlender\"\u001b[0m\n",
            "\n",
            "\u001b[01m\u001b[0m\u001b[01m/usr/include/opencv4/opencv2/stitching/detail/blenders.hpp(127)\u001b[0m: \u001b[01;35mwarning\u001b[0m #611-D: overloaded virtual function \u001b[01m\"cv::detail::Blender::prepare\"\u001b[0m is only partially overridden in class \u001b[01m\"cv::detail::MultiBandBlender\"\u001b[0m\n",
            "\n",
            "#$ ptxas -arch=sm_52 -m64  \"/tmp/tmpxft_00003d5e_00000000-6_hough.ptx\"  -o \"/tmp/tmpxft_00003d5e_00000000-10_hough.sm_52.cubin\" \n",
            "#$ fatbinary -64 --cicc-cmdline=\"-ftz=0 -prec_div=1 -prec_sqrt=1 -fmad=1 \" \"--image3=kind=elf,sm=52,file=/tmp/tmpxft_00003d5e_00000000-10_hough.sm_52.cubin\" \"--image3=kind=ptx,sm=52,file=/tmp/tmpxft_00003d5e_00000000-6_hough.ptx\" --embedded-fatbin=\"/tmp/tmpxft_00003d5e_00000000-3_hough.fatbin.c\" \n",
            "#$ rm /tmp/tmpxft_00003d5e_00000000-3_hough.fatbin\n",
            "#$ gcc -D__CUDA_ARCH_LIST__=520 -E -x c++ -D__CUDACC__ -D__NVCC__  -I\"/usr/include/opencv4\" \"-I/usr/local/cuda/bin/../targets/x86_64-linux/include\"    -D__CUDACC_VER_MAJOR__=11 -D__CUDACC_VER_MINOR__=8 -D__CUDACC_VER_BUILD__=89 -D__CUDA_API_VER_MAJOR__=11 -D__CUDA_API_VER_MINOR__=8 -D__NVCC_DIAG_PRAGMA_SUPPORT__=1 -include \"cuda_runtime.h\" -m64 \"hough.cu\" -o \"/tmp/tmpxft_00003d5e_00000000-5_hough.cpp4.ii\" \n",
            "#$ cudafe++ --c++17 --gnu_version=110400 --display_error_number --orig_src_file_name \"hough.cu\" --orig_src_path_name \"/content/hough.cu\" --allow_managed  --m64 --parse_templates --gen_c_file_name \"/tmp/tmpxft_00003d5e_00000000-6_hough.cudafe1.cpp\" --stub_file_name \"tmpxft_00003d5e_00000000-6_hough.cudafe1.stub.c\" --module_id_file_name \"/tmp/tmpxft_00003d5e_00000000-4_hough.module_id\" \"/tmp/tmpxft_00003d5e_00000000-5_hough.cpp4.ii\" \n",
            "\u001b[01m\u001b[0m\u001b[01m/usr/include/opencv4/opencv2/stitching/detail/warpers.hpp(235)\u001b[0m: \u001b[01;35mwarning\u001b[0m #611-D: overloaded virtual function \u001b[01m\"cv::detail::PlaneWarper::buildMaps\"\u001b[0m is only partially overridden in class \u001b[01m\"cv::detail::AffineWarper\"\u001b[0m\n",
            "\n",
            "\u001b[01m\u001b[0m\u001b[01m/usr/include/opencv4/opencv2/stitching/detail/warpers.hpp(235)\u001b[0m: \u001b[01;35mwarning\u001b[0m #611-D: overloaded virtual function \u001b[01m\"cv::detail::PlaneWarper::warp\"\u001b[0m is only partially overridden in class \u001b[01m\"cv::detail::AffineWarper\"\u001b[0m\n",
            "\n",
            "\u001b[01m\u001b[0m\u001b[01m/usr/include/opencv4/opencv2/stitching/detail/blenders.hpp(100)\u001b[0m: \u001b[01;35mwarning\u001b[0m #611-D: overloaded virtual function \u001b[01m\"cv::detail::Blender::prepare\"\u001b[0m is only partially overridden in class \u001b[01m\"cv::detail::FeatherBlender\"\u001b[0m\n",
            "\n",
            "\u001b[01m\u001b[0m\u001b[01m/usr/include/opencv4/opencv2/stitching/detail/blenders.hpp(127)\u001b[0m: \u001b[01;35mwarning\u001b[0m #611-D: overloaded virtual function \u001b[01m\"cv::detail::Blender::prepare\"\u001b[0m is only partially overridden in class \u001b[01m\"cv::detail::MultiBandBlender\"\u001b[0m\n",
            "\n",
            "#$ gcc -D__CUDA_ARCH__=520 -D__CUDA_ARCH_LIST__=520 -c -x c++  -DCUDA_DOUBLE_MATH_FUNCTIONS -I\"/usr/include/opencv4\" \"-I/usr/local/cuda/bin/../targets/x86_64-linux/include\"   -m64 \"/tmp/tmpxft_00003d5e_00000000-6_hough.cudafe1.cpp\" -o \"/tmp/tmpxft_00003d5e_00000000-11_hough.o\" \n",
            "#$ nvlink -m64 --arch=sm_52 --register-link-binaries=\"/tmp/tmpxft_00003d5e_00000000-7_hough_dlink.reg.c\"  -L\"/usr/lib\" -lopencv_core -lopencv_imgcodecs -lopencv_highgui -lopencv_imgproc   \"-L/usr/local/cuda/bin/../targets/x86_64-linux/lib/stubs\" \"-L/usr/local/cuda/bin/../targets/x86_64-linux/lib\" -cpu-arch=X86_64 \"/tmp/tmpxft_00003d5e_00000000-11_hough.o\" \"pgm.o\"  -lcudadevrt  -o \"/tmp/tmpxft_00003d5e_00000000-12_hough_dlink.sm_52.cubin\" --host-ccbin \"gcc\"\n",
            "#$ fatbinary -64 --cicc-cmdline=\"-ftz=0 -prec_div=1 -prec_sqrt=1 -fmad=1 \" -link \"--image3=kind=elf,sm=52,file=/tmp/tmpxft_00003d5e_00000000-12_hough_dlink.sm_52.cubin\" --embedded-fatbin=\"/tmp/tmpxft_00003d5e_00000000-8_hough_dlink.fatbin.c\" \n",
            "#$ rm /tmp/tmpxft_00003d5e_00000000-8_hough_dlink.fatbin\n",
            "#$ gcc -D__CUDA_ARCH_LIST__=520 -c -x c++ -DFATBINFILE=\"\\\"/tmp/tmpxft_00003d5e_00000000-8_hough_dlink.fatbin.c\\\"\" -DREGISTERLINKBINARYFILE=\"\\\"/tmp/tmpxft_00003d5e_00000000-7_hough_dlink.reg.c\\\"\" -I. -D__NV_EXTRA_INITIALIZATION= -D__NV_EXTRA_FINALIZATION= -D__CUDA_INCLUDE_COMPILER_INTERNAL_HEADERS__  -I\"/usr/include/opencv4\" \"-I/usr/local/cuda/bin/../targets/x86_64-linux/include\"    -D__CUDACC_VER_MAJOR__=11 -D__CUDACC_VER_MINOR__=8 -D__CUDACC_VER_BUILD__=89 -D__CUDA_API_VER_MAJOR__=11 -D__CUDA_API_VER_MINOR__=8 -D__NVCC_DIAG_PRAGMA_SUPPORT__=1 -m64 \"/usr/local/cuda/bin/crt/link.stub\" -o \"/tmp/tmpxft_00003d5e_00000000-13_hough_dlink.o\" \n",
            "#$ g++ -D__CUDA_ARCH_LIST__=520 -m64 -Wl,--start-group \"/tmp/tmpxft_00003d5e_00000000-13_hough_dlink.o\" \"/tmp/tmpxft_00003d5e_00000000-11_hough.o\" \"pgm.o\" -L\"/usr/lib\" -lopencv_core -lopencv_imgcodecs -lopencv_highgui -lopencv_imgproc   \"-L/usr/local/cuda/bin/../targets/x86_64-linux/lib/stubs\" \"-L/usr/local/cuda/bin/../targets/x86_64-linux/lib\"  -lcudadevrt  -lcudart_static  -lrt -lpthread  -ldl  -Wl,--end-group -o \"hough\" \n"
          ]
        }
      ]
    },
    {
      "cell_type": "code",
      "source": [
        "!./hough runway.pgm\n",
        "!./hough runway.pgm\n",
        "!./hough runway.pgm\n",
        "!./hough runway.pgm\n",
        "!./hough runway.pgm\n",
        "!./hough runway.pgm\n",
        "!./hough runway.pgm\n",
        "!./hough runway.pgm\n",
        "!./hough runway.pgm\n",
        "!./hough runway.pgm\n",
        "!./hough runway.pgm"
      ],
      "metadata": {
        "id": "bN9LRLh4nC_m",
        "outputId": "5f722e18-b7f6-405d-84f9-3ecf03a9eaf5",
        "colab": {
          "base_uri": "https://localhost:8080/"
        }
      },
      "execution_count": 60,
      "outputs": [
        {
          "output_type": "stream",
          "name": "stdout",
          "text": [
            "GPU Hough Transform took 0.054688 milliseconds\n",
            "GPU Hough Transform took 0.049984 milliseconds\n",
            "GPU Hough Transform took 0.043008 milliseconds\n",
            "GPU Hough Transform took 0.042784 milliseconds\n",
            "GPU Hough Transform took 0.043040 milliseconds\n",
            "GPU Hough Transform took 0.045120 milliseconds\n",
            "GPU Hough Transform took 0.051936 milliseconds\n",
            "GPU Hough Transform took 0.040704 milliseconds\n",
            "GPU Hough Transform took 0.043328 milliseconds\n",
            "GPU Hough Transform took 0.048640 milliseconds\n",
            "GPU Hough Transform took 0.042816 milliseconds\n"
          ]
        }
      ]
    },
    {
      "cell_type": "markdown",
      "source": [
        "### Inciso 8 y 9\n"
      ],
      "metadata": {
        "id": "CoFzCThfPPeR"
      }
    },
    {
      "cell_type": "code",
      "source": [
        "%%writefile hough.cu\n",
        "/*\n",
        " ============================================================================\n",
        " Author        : G. Barlas\n",
        " Version       : 1.0\n",
        " Last modified : December 2014\n",
        " License       : Released under the GNU GPL 3.0\n",
        " Description   :\n",
        " To build use  : make\n",
        " ============================================================================\n",
        " */\n",
        "#include <stdio.h>\n",
        "#include <stdlib.h>\n",
        "#include <math.h>\n",
        "#include <cuda.h>\n",
        "#include <string.h>\n",
        "#include \"common/pgm.h\"\n",
        "#include <opencv2/opencv.hpp>\n",
        "#include <vector>\n",
        "\n",
        "const int degreeInc = 2;\n",
        "const int degreeBins = 180 / degreeInc;\n",
        "const int rBins = 100;\n",
        "const float radInc = degreeInc * M_PI / 180;\n",
        "\n",
        "__constant__ float d_Cos[degreeBins];\n",
        "__constant__ float d_Sin[degreeBins];\n",
        "\n",
        "__global__ void GPU_HoughTran(unsigned char *pic, int w, int h, int *acc, float rMax, float rScale) {\n",
        "    extern __shared__ int localAcc[];\n",
        "\n",
        "    int locID = threadIdx.x;\n",
        "    int gloID = blockIdx.x * blockDim.x + threadIdx.x;\n",
        "\n",
        "    for (int i = locID; i < degreeBins * rBins; i += blockDim.x) {\n",
        "        localAcc[i] = 0;\n",
        "    }\n",
        "    __syncthreads();\n",
        "\n",
        "    if (gloID >= w * h) return;\n",
        "\n",
        "    int xCent = w / 2;\n",
        "    int yCent = h / 2;\n",
        "\n",
        "    int xCoord = gloID % w - xCent;\n",
        "    int yCoord = yCent - gloID / w;\n",
        "\n",
        "    if (pic[gloID] > 0) {\n",
        "        for (int tIdx = 0; tIdx < degreeBins; tIdx++) {\n",
        "            float r = xCoord * d_Cos[tIdx] + yCoord * d_Sin[tIdx];\n",
        "            int rIdx = (r + rMax) / rScale;\n",
        "            atomicAdd(&localAcc[rIdx * degreeBins + tIdx], 1);\n",
        "        }\n",
        "    }\n",
        "    __syncthreads();\n",
        "\n",
        "    for (int i = locID; i < degreeBins * rBins; i += blockDim.x) {\n",
        "        atomicAdd(&acc[i], localAcc[i]);\n",
        "    }\n",
        "}\n",
        "\n",
        "void CPU_HoughTran (unsigned char *pic, int w, int h, int **acc)\n",
        "{\n",
        "  float rMax = sqrt (1.0 * w * w + 1.0 * h * h) / 2;  //(w^2 + h^2)/2, radio max equivalente a centro -> esquina\n",
        "  *acc = new int[rBins * degreeBins];            //el acumulador, conteo depixeles encontrados, 90*180/degInc = 9000\n",
        "  memset (*acc, 0, sizeof (int) * rBins * degreeBins); //init en ceros\n",
        "  int xCent = w / 2;\n",
        "  int yCent = h / 2;\n",
        "  float rScale = 2 * rMax / rBins;\n",
        "\n",
        "  for (int i = 0; i < w; i++) //por cada pixel\n",
        "    for (int j = 0; j < h; j++) //...\n",
        "      {\n",
        "        int idx = j * w + i;\n",
        "        if (pic[idx] > 0) //si pasa thresh, entonces lo marca\n",
        "          {\n",
        "            int xCoord = i - xCent;\n",
        "            int yCoord = yCent - j;  // y-coord has to be reversed\n",
        "            float theta = 0;         // actual angle\n",
        "            for (int tIdx = 0; tIdx < degreeBins; tIdx++) //add 1 to all lines in that pixel\n",
        "              {\n",
        "                float r = xCoord * cos (theta) + yCoord * sin (theta);\n",
        "                int rIdx = (r + rMax) / rScale;\n",
        "                (*acc)[rIdx * degreeBins + tIdx]++; //+1 para este radio r y este theta\n",
        "                theta += radInc;\n",
        "              }\n",
        "          }\n",
        "      }\n",
        "}\n",
        "\n",
        "void drawLine(cv::Mat &img, double rho, double theta, cv::Scalar color) {\n",
        "    cv::Point pt1, pt2;\n",
        "    double a = cos(theta), b = sin(theta);\n",
        "    double x0 = a * rho, y0 = b * rho;\n",
        "    pt1.x = cvRound(x0 + 1000 * (-b));\n",
        "    pt1.y = cvRound(y0 + 1000 * (a));\n",
        "    pt2.x = cvRound(x0 - 1000 * (-b));\n",
        "    pt2.y = cvRound(y0 - 1000 * (a));\n",
        "    line(img, pt1, pt2, color, 3, cv::LINE_AA);\n",
        "}\n",
        "\n",
        "\n",
        "int main(int argc, char **argv) {\n",
        "    if (argc != 2) {\n",
        "        printf(\"Usage: %s <image.pgm>\\n\", argv[0]);\n",
        "        return -1;\n",
        "    }\n",
        "\n",
        "    PGMImage inImg(argv[1]);\n",
        "    int w = inImg.x_dim;\n",
        "    int h = inImg.y_dim;\n",
        "    int *cpuht;\n",
        "\n",
        "    // Reserva memoria en el host y el device\n",
        "    float* d_Cos;\n",
        "    float* d_Sin;\n",
        "    unsigned char *d_in;\n",
        "    int *d_hough;\n",
        "    cudaMalloc((void**)&d_Cos, sizeof(float) * degreeBins);\n",
        "    cudaMalloc((void**)&d_Sin, sizeof(float) * degreeBins);\n",
        "    cudaMalloc((void**)&d_in, sizeof(unsigned char) * w * h);\n",
        "    cudaMalloc((void**)&d_hough, sizeof(int) * degreeBins * rBins);\n",
        "    int* h_hough = (int*)malloc(degreeBins * rBins * sizeof(int));\n",
        "\n",
        "    // Calcula la transformada de Hough en la CPU\n",
        "    CPU_HoughTran(inImg.pixels, w, h, &cpuht);\n",
        "\n",
        "    // Calcula rMax y rScale basado en el tamaño de la imagen\n",
        "    float rMax = sqrtf(1.0 * w * w + 1.0 * h * h) / 2;\n",
        "    float rScale = 2 * rMax / rBins;\n",
        "\n",
        "    // Configura el número de bloques e hilos\n",
        "    int threadsPerBlock = 256;\n",
        "    int blockNum = (w * h + threadsPerBlock - 1) / threadsPerBlock;\n",
        "\n",
        "    // Define eventos para medir el tiempo\n",
        "    cudaEvent_t start, stop;\n",
        "    cudaEventCreate(&start);\n",
        "    cudaEventCreate(&stop);\n",
        "\n",
        "    // Inicia la medición del tiempo\n",
        "    cudaEventRecord(start);\n",
        "\n",
        "    // Calcula los valores de cos(rad) y sin(rad)\n",
        "   float h_Cos[degreeBins], h_Sin[degreeBins];\n",
        "   for (int i = 0; i < degreeBins; i++) {\n",
        "       float theta = i * radInc;\n",
        "       h_Cos[i] = cos(theta);\n",
        "       h_Sin[i] = sin(theta);\n",
        "   }\n",
        "\n",
        "   // Copia los valores al device\n",
        "   cudaMemcpyToSymbol(d_Cos, h_Cos, sizeof(float) * degreeBins);\n",
        "   cudaMemcpyToSymbol(d_Sin, h_Sin, sizeof(float) * degreeBins);\n",
        "\n",
        "   // Llama al kernel\n",
        "   GPU_HoughTran<<<blockNum, threadsPerBlock>>>(d_in, w, h, d_hough, rMax, rScale);\n",
        "\n",
        "    // Finaliza la medición del tiempo\n",
        "    cudaEventRecord(stop);\n",
        "    cudaEventSynchronize(stop);\n",
        "\n",
        "    // Calcula el tiempo transcurrido\n",
        "    float milliseconds = 0;\n",
        "    cudaEventElapsedTime(&milliseconds, start, stop);\n",
        "    printf(\"GPU Hough Transform took %f milliseconds\\n\", milliseconds);\n",
        "\n",
        "    // Copia los resultados de vuelta al host\n",
        "    cudaMemcpy(h_hough, d_hough, sizeof(int) * degreeBins * rBins, cudaMemcpyDeviceToHost);\n",
        "\n",
        "    // Carga la imagen original y conviértela a color\n",
        "    cv::Mat originalImage = cv::imread(argv[1], cv::IMREAD_GRAYSCALE);\n",
        "    cv::Mat colorImage;\n",
        "    cvtColor(originalImage, colorImage, cv::COLOR_GRAY2BGR);\n",
        "\n",
        "    // Encuentra líneas que superan el umbral y dibújalas\n",
        "    float sum = 0;\n",
        "    float sumSq = 0;\n",
        "    int count = 0;\n",
        "    for (int i = 0; i < degreeBins * rBins; i++) {\n",
        "        sum += h_hough[i];\n",
        "        sumSq += h_hough[i] * h_hough[i];\n",
        "        count++;\n",
        "    }\n",
        "    float promedio = sum / count;\n",
        "    float varianza = (sumSq / count) - (promedio * promedio);\n",
        "    float desviacionEstandar = sqrt(varianza);\n",
        "    float threshold = promedio + 2 * desviacionEstandar;\n",
        "\n",
        "    for (int r = 0; r < rBins; r++) {\n",
        "        for (int t = 0; t < degreeBins; t++) {\n",
        "            if (h_hough[r * degreeBins + t] > threshold) {\n",
        "                float rho = (r - rBins / 2) * rScale;\n",
        "                float theta = t * radInc;\n",
        "                drawLine(colorImage, rho, theta, cv::Scalar(0, 0, 255));\n",
        "            }\n",
        "        }\n",
        "    }\n",
        "\n",
        "    // Guarda la imagen resultante\n",
        "    cv::imwrite(\"hough_lines.jpg\", colorImage);\n",
        "\n",
        "    // Limpieza\n",
        "    cudaFree(d_Cos);\n",
        "    cudaFree(d_Sin);\n",
        "    cudaFree(d_in);\n",
        "    cudaFree(d_hough);\n",
        "    free(h_hough);\n",
        "    delete[] cpuht;\n",
        "    cudaEventDestroy(start);\n",
        "    cudaEventDestroy(stop);\n",
        "\n",
        "    return 0;\n",
        "}"
      ],
      "metadata": {
        "outputId": "a36e2e85-f945-45a6-9f22-3596fd24f5fa",
        "colab": {
          "base_uri": "https://localhost:8080/"
        },
        "id": "J61JxX1oPPeS"
      },
      "execution_count": 70,
      "outputs": [
        {
          "output_type": "stream",
          "name": "stdout",
          "text": [
            "Overwriting hough.cu\n"
          ]
        }
      ]
    },
    {
      "cell_type": "code",
      "source": [
        "!make"
      ],
      "metadata": {
        "outputId": "7ba60b07-0732-405e-d5df-993aa291b838",
        "colab": {
          "base_uri": "https://localhost:8080/"
        },
        "id": "Jflgs-OFPPeT"
      },
      "execution_count": 71,
      "outputs": [
        {
          "output_type": "stream",
          "name": "stdout",
          "text": [
            "Compiling the hough transform program...\n",
            "nvcc hough.cu pgm.o -o hough `pkg-config --cflags --libs opencv4`\n",
            "\u001b[01m\u001b[0m\u001b[01m/usr/include/opencv4/opencv2/stitching/detail/warpers.hpp(235)\u001b[0m: \u001b[01;35mwarning\u001b[0m #611-D: overloaded virtual function \u001b[01m\"cv::detail::PlaneWarper::buildMaps\"\u001b[0m is only partially overridden in class \u001b[01m\"cv::detail::AffineWarper\"\u001b[0m\n",
            "\n",
            "\u001b[01m\u001b[0m\u001b[01m/usr/include/opencv4/opencv2/stitching/detail/warpers.hpp(235)\u001b[0m: \u001b[01;35mwarning\u001b[0m #611-D: overloaded virtual function \u001b[01m\"cv::detail::PlaneWarper::warp\"\u001b[0m is only partially overridden in class \u001b[01m\"cv::detail::AffineWarper\"\u001b[0m\n",
            "\n",
            "\u001b[01m\u001b[0m\u001b[01m/usr/include/opencv4/opencv2/stitching/detail/blenders.hpp(100)\u001b[0m: \u001b[01;35mwarning\u001b[0m #611-D: overloaded virtual function \u001b[01m\"cv::detail::Blender::prepare\"\u001b[0m is only partially overridden in class \u001b[01m\"cv::detail::FeatherBlender\"\u001b[0m\n",
            "\n",
            "\u001b[01m\u001b[0m\u001b[01m/usr/include/opencv4/opencv2/stitching/detail/blenders.hpp(127)\u001b[0m: \u001b[01;35mwarning\u001b[0m #611-D: overloaded virtual function \u001b[01m\"cv::detail::Blender::prepare\"\u001b[0m is only partially overridden in class \u001b[01m\"cv::detail::MultiBandBlender\"\u001b[0m\n",
            "\n",
            "\u001b[01m\u001b[0m\u001b[01m/usr/include/opencv4/opencv2/stitching/detail/warpers.hpp(235)\u001b[0m: \u001b[01;35mwarning\u001b[0m #611-D: overloaded virtual function \u001b[01m\"cv::detail::PlaneWarper::buildMaps\"\u001b[0m is only partially overridden in class \u001b[01m\"cv::detail::AffineWarper\"\u001b[0m\n",
            "\n",
            "\u001b[01m\u001b[0m\u001b[01m/usr/include/opencv4/opencv2/stitching/detail/warpers.hpp(235)\u001b[0m: \u001b[01;35mwarning\u001b[0m #611-D: overloaded virtual function \u001b[01m\"cv::detail::PlaneWarper::warp\"\u001b[0m is only partially overridden in class \u001b[01m\"cv::detail::AffineWarper\"\u001b[0m\n",
            "\n",
            "\u001b[01m\u001b[0m\u001b[01m/usr/include/opencv4/opencv2/stitching/detail/blenders.hpp(100)\u001b[0m: \u001b[01;35mwarning\u001b[0m #611-D: overloaded virtual function \u001b[01m\"cv::detail::Blender::prepare\"\u001b[0m is only partially overridden in class \u001b[01m\"cv::detail::FeatherBlender\"\u001b[0m\n",
            "\n",
            "\u001b[01m\u001b[0m\u001b[01m/usr/include/opencv4/opencv2/stitching/detail/blenders.hpp(127)\u001b[0m: \u001b[01;35mwarning\u001b[0m #611-D: overloaded virtual function \u001b[01m\"cv::detail::Blender::prepare\"\u001b[0m is only partially overridden in class \u001b[01m\"cv::detail::MultiBandBlender\"\u001b[0m\n",
            "\n"
          ]
        }
      ]
    },
    {
      "cell_type": "code",
      "source": [
        "!nvcc hough.cu pgm.o --verbose -o hough -I/usr/include/opencv4 -L/usr/lib -lopencv_core -lopencv_imgcodecs -lopencv_highgui -lopencv_imgproc"
      ],
      "metadata": {
        "outputId": "197fae83-bc17-458d-b86b-1e67828d85c1",
        "colab": {
          "base_uri": "https://localhost:8080/"
        },
        "id": "RchKsDd_PPeU"
      },
      "execution_count": 72,
      "outputs": [
        {
          "output_type": "stream",
          "name": "stdout",
          "text": [
            "#$ _NVVM_BRANCH_=nvvm\n",
            "#$ _SPACE_= \n",
            "#$ _CUDART_=cudart\n",
            "#$ _HERE_=/usr/local/cuda/bin\n",
            "#$ _THERE_=/usr/local/cuda/bin\n",
            "#$ _TARGET_SIZE_=\n",
            "#$ _TARGET_DIR_=\n",
            "#$ _TARGET_DIR_=targets/x86_64-linux\n",
            "#$ TOP=/usr/local/cuda/bin/..\n",
            "#$ NVVMIR_LIBRARY_DIR=/usr/local/cuda/bin/../nvvm/libdevice\n",
            "#$ LD_LIBRARY_PATH=/usr/local/cuda/bin/../lib:/usr/lib64-nvidia\n",
            "#$ PATH=/usr/local/cuda/bin/../nvvm/bin:/usr/local/cuda/bin:/opt/bin:/usr/local/nvidia/bin:/usr/local/cuda/bin:/usr/local/sbin:/usr/local/bin:/usr/sbin:/usr/bin:/sbin:/bin:/tools/node/bin:/tools/google-cloud-sdk/bin\n",
            "#$ INCLUDES=\"-I/usr/local/cuda/bin/../targets/x86_64-linux/include\"  \n",
            "#$ LIBRARIES=  \"-L/usr/local/cuda/bin/../targets/x86_64-linux/lib/stubs\" \"-L/usr/local/cuda/bin/../targets/x86_64-linux/lib\"\n",
            "#$ CUDAFE_FLAGS=\n",
            "#$ PTXAS_FLAGS=\n",
            "#$ gcc -D__CUDA_ARCH__=520 -D__CUDA_ARCH_LIST__=520 -E -x c++  -DCUDA_DOUBLE_MATH_FUNCTIONS -D__CUDACC__ -D__NVCC__  -I\"/usr/include/opencv4\" \"-I/usr/local/cuda/bin/../targets/x86_64-linux/include\"    -D__CUDACC_VER_MAJOR__=11 -D__CUDACC_VER_MINOR__=8 -D__CUDACC_VER_BUILD__=89 -D__CUDA_API_VER_MAJOR__=11 -D__CUDA_API_VER_MINOR__=8 -D__NVCC_DIAG_PRAGMA_SUPPORT__=1 -include \"cuda_runtime.h\" -m64 \"hough.cu\" -o \"/tmp/tmpxft_00005311_00000000-9_hough.cpp1.ii\" \n",
            "#$ cicc --c++17 --gnu_version=110400 --display_error_number --orig_src_file_name \"hough.cu\" --orig_src_path_name \"/content/hough.cu\" --allow_managed   -arch compute_52 -m64 --no-version-ident -ftz=0 -prec_div=1 -prec_sqrt=1 -fmad=1 --include_file_name \"tmpxft_00005311_00000000-3_hough.fatbin.c\" -tused --gen_module_id_file --module_id_file_name \"/tmp/tmpxft_00005311_00000000-4_hough.module_id\" --gen_c_file_name \"/tmp/tmpxft_00005311_00000000-6_hough.cudafe1.c\" --stub_file_name \"/tmp/tmpxft_00005311_00000000-6_hough.cudafe1.stub.c\" --gen_device_file_name \"/tmp/tmpxft_00005311_00000000-6_hough.cudafe1.gpu\"  \"/tmp/tmpxft_00005311_00000000-9_hough.cpp1.ii\" -o \"/tmp/tmpxft_00005311_00000000-6_hough.ptx\"\n",
            "\u001b[01m\u001b[0m\u001b[01m/usr/include/opencv4/opencv2/stitching/detail/warpers.hpp(235)\u001b[0m: \u001b[01;35mwarning\u001b[0m #611-D: overloaded virtual function \u001b[01m\"cv::detail::PlaneWarper::buildMaps\"\u001b[0m is only partially overridden in class \u001b[01m\"cv::detail::AffineWarper\"\u001b[0m\n",
            "\n",
            "\u001b[01m\u001b[0m\u001b[01m/usr/include/opencv4/opencv2/stitching/detail/warpers.hpp(235)\u001b[0m: \u001b[01;35mwarning\u001b[0m #611-D: overloaded virtual function \u001b[01m\"cv::detail::PlaneWarper::warp\"\u001b[0m is only partially overridden in class \u001b[01m\"cv::detail::AffineWarper\"\u001b[0m\n",
            "\n",
            "\u001b[01m\u001b[0m\u001b[01m/usr/include/opencv4/opencv2/stitching/detail/blenders.hpp(100)\u001b[0m: \u001b[01;35mwarning\u001b[0m #611-D: overloaded virtual function \u001b[01m\"cv::detail::Blender::prepare\"\u001b[0m is only partially overridden in class \u001b[01m\"cv::detail::FeatherBlender\"\u001b[0m\n",
            "\n",
            "\u001b[01m\u001b[0m\u001b[01m/usr/include/opencv4/opencv2/stitching/detail/blenders.hpp(127)\u001b[0m: \u001b[01;35mwarning\u001b[0m #611-D: overloaded virtual function \u001b[01m\"cv::detail::Blender::prepare\"\u001b[0m is only partially overridden in class \u001b[01m\"cv::detail::MultiBandBlender\"\u001b[0m\n",
            "\n",
            "#$ ptxas -arch=sm_52 -m64  \"/tmp/tmpxft_00005311_00000000-6_hough.ptx\"  -o \"/tmp/tmpxft_00005311_00000000-10_hough.sm_52.cubin\" \n",
            "#$ fatbinary -64 --cicc-cmdline=\"-ftz=0 -prec_div=1 -prec_sqrt=1 -fmad=1 \" \"--image3=kind=elf,sm=52,file=/tmp/tmpxft_00005311_00000000-10_hough.sm_52.cubin\" \"--image3=kind=ptx,sm=52,file=/tmp/tmpxft_00005311_00000000-6_hough.ptx\" --embedded-fatbin=\"/tmp/tmpxft_00005311_00000000-3_hough.fatbin.c\" \n",
            "#$ rm /tmp/tmpxft_00005311_00000000-3_hough.fatbin\n",
            "#$ gcc -D__CUDA_ARCH_LIST__=520 -E -x c++ -D__CUDACC__ -D__NVCC__  -I\"/usr/include/opencv4\" \"-I/usr/local/cuda/bin/../targets/x86_64-linux/include\"    -D__CUDACC_VER_MAJOR__=11 -D__CUDACC_VER_MINOR__=8 -D__CUDACC_VER_BUILD__=89 -D__CUDA_API_VER_MAJOR__=11 -D__CUDA_API_VER_MINOR__=8 -D__NVCC_DIAG_PRAGMA_SUPPORT__=1 -include \"cuda_runtime.h\" -m64 \"hough.cu\" -o \"/tmp/tmpxft_00005311_00000000-5_hough.cpp4.ii\" \n",
            "#$ cudafe++ --c++17 --gnu_version=110400 --display_error_number --orig_src_file_name \"hough.cu\" --orig_src_path_name \"/content/hough.cu\" --allow_managed  --m64 --parse_templates --gen_c_file_name \"/tmp/tmpxft_00005311_00000000-6_hough.cudafe1.cpp\" --stub_file_name \"tmpxft_00005311_00000000-6_hough.cudafe1.stub.c\" --module_id_file_name \"/tmp/tmpxft_00005311_00000000-4_hough.module_id\" \"/tmp/tmpxft_00005311_00000000-5_hough.cpp4.ii\" \n",
            "\u001b[01m\u001b[0m\u001b[01m/usr/include/opencv4/opencv2/stitching/detail/warpers.hpp(235)\u001b[0m: \u001b[01;35mwarning\u001b[0m #611-D: overloaded virtual function \u001b[01m\"cv::detail::PlaneWarper::buildMaps\"\u001b[0m is only partially overridden in class \u001b[01m\"cv::detail::AffineWarper\"\u001b[0m\n",
            "\n",
            "\u001b[01m\u001b[0m\u001b[01m/usr/include/opencv4/opencv2/stitching/detail/warpers.hpp(235)\u001b[0m: \u001b[01;35mwarning\u001b[0m #611-D: overloaded virtual function \u001b[01m\"cv::detail::PlaneWarper::warp\"\u001b[0m is only partially overridden in class \u001b[01m\"cv::detail::AffineWarper\"\u001b[0m\n",
            "\n",
            "\u001b[01m\u001b[0m\u001b[01m/usr/include/opencv4/opencv2/stitching/detail/blenders.hpp(100)\u001b[0m: \u001b[01;35mwarning\u001b[0m #611-D: overloaded virtual function \u001b[01m\"cv::detail::Blender::prepare\"\u001b[0m is only partially overridden in class \u001b[01m\"cv::detail::FeatherBlender\"\u001b[0m\n",
            "\n",
            "\u001b[01m\u001b[0m\u001b[01m/usr/include/opencv4/opencv2/stitching/detail/blenders.hpp(127)\u001b[0m: \u001b[01;35mwarning\u001b[0m #611-D: overloaded virtual function \u001b[01m\"cv::detail::Blender::prepare\"\u001b[0m is only partially overridden in class \u001b[01m\"cv::detail::MultiBandBlender\"\u001b[0m\n",
            "\n",
            "#$ gcc -D__CUDA_ARCH__=520 -D__CUDA_ARCH_LIST__=520 -c -x c++  -DCUDA_DOUBLE_MATH_FUNCTIONS -I\"/usr/include/opencv4\" \"-I/usr/local/cuda/bin/../targets/x86_64-linux/include\"   -m64 \"/tmp/tmpxft_00005311_00000000-6_hough.cudafe1.cpp\" -o \"/tmp/tmpxft_00005311_00000000-11_hough.o\" \n",
            "#$ nvlink -m64 --arch=sm_52 --register-link-binaries=\"/tmp/tmpxft_00005311_00000000-7_hough_dlink.reg.c\"  -L\"/usr/lib\" -lopencv_core -lopencv_imgcodecs -lopencv_highgui -lopencv_imgproc   \"-L/usr/local/cuda/bin/../targets/x86_64-linux/lib/stubs\" \"-L/usr/local/cuda/bin/../targets/x86_64-linux/lib\" -cpu-arch=X86_64 \"/tmp/tmpxft_00005311_00000000-11_hough.o\" \"pgm.o\"  -lcudadevrt  -o \"/tmp/tmpxft_00005311_00000000-12_hough_dlink.sm_52.cubin\" --host-ccbin \"gcc\"\n",
            "#$ fatbinary -64 --cicc-cmdline=\"-ftz=0 -prec_div=1 -prec_sqrt=1 -fmad=1 \" -link \"--image3=kind=elf,sm=52,file=/tmp/tmpxft_00005311_00000000-12_hough_dlink.sm_52.cubin\" --embedded-fatbin=\"/tmp/tmpxft_00005311_00000000-8_hough_dlink.fatbin.c\" \n",
            "#$ rm /tmp/tmpxft_00005311_00000000-8_hough_dlink.fatbin\n",
            "#$ gcc -D__CUDA_ARCH_LIST__=520 -c -x c++ -DFATBINFILE=\"\\\"/tmp/tmpxft_00005311_00000000-8_hough_dlink.fatbin.c\\\"\" -DREGISTERLINKBINARYFILE=\"\\\"/tmp/tmpxft_00005311_00000000-7_hough_dlink.reg.c\\\"\" -I. -D__NV_EXTRA_INITIALIZATION= -D__NV_EXTRA_FINALIZATION= -D__CUDA_INCLUDE_COMPILER_INTERNAL_HEADERS__  -I\"/usr/include/opencv4\" \"-I/usr/local/cuda/bin/../targets/x86_64-linux/include\"    -D__CUDACC_VER_MAJOR__=11 -D__CUDACC_VER_MINOR__=8 -D__CUDACC_VER_BUILD__=89 -D__CUDA_API_VER_MAJOR__=11 -D__CUDA_API_VER_MINOR__=8 -D__NVCC_DIAG_PRAGMA_SUPPORT__=1 -m64 \"/usr/local/cuda/bin/crt/link.stub\" -o \"/tmp/tmpxft_00005311_00000000-13_hough_dlink.o\" \n",
            "#$ g++ -D__CUDA_ARCH_LIST__=520 -m64 -Wl,--start-group \"/tmp/tmpxft_00005311_00000000-13_hough_dlink.o\" \"/tmp/tmpxft_00005311_00000000-11_hough.o\" \"pgm.o\" -L\"/usr/lib\" -lopencv_core -lopencv_imgcodecs -lopencv_highgui -lopencv_imgproc   \"-L/usr/local/cuda/bin/../targets/x86_64-linux/lib/stubs\" \"-L/usr/local/cuda/bin/../targets/x86_64-linux/lib\"  -lcudadevrt  -lcudart_static  -lrt -lpthread  -ldl  -Wl,--end-group -o \"hough\" \n"
          ]
        }
      ]
    },
    {
      "cell_type": "code",
      "source": [
        "!./hough runway.pgm"
      ],
      "metadata": {
        "outputId": "ef53f1a4-ad00-4e39-8358-078cffddfc52",
        "colab": {
          "base_uri": "https://localhost:8080/"
        },
        "id": "_cKt1B-HPPeW"
      },
      "execution_count": 75,
      "outputs": [
        {
          "output_type": "stream",
          "name": "stdout",
          "text": [
            "GPU Hough Transform took 0.000000 milliseconds\n"
          ]
        }
      ]
    }
  ]
}