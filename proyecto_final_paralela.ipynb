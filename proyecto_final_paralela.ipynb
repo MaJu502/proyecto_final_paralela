{
  "nbformat": 4,
  "nbformat_minor": 0,
  "metadata": {
    "colab": {
      "provenance": [],
      "gpuType": "T4",
      "authorship_tag": "ABX9TyOIr1skQLzrkOHyuCglBWkd",
      "include_colab_link": true
    },
    "kernelspec": {
      "name": "python3",
      "display_name": "Python 3"
    },
    "language_info": {
      "name": "python"
    },
    "accelerator": "GPU"
  },
  "cells": [
    {
      "cell_type": "markdown",
      "metadata": {
        "id": "view-in-github",
        "colab_type": "text"
      },
      "source": [
        "<a href=\"https://colab.research.google.com/github/MaJu502/proyecto_final_paralela/blob/main/proyecto_final_paralela.ipynb\" target=\"_parent\"><img src=\"https://colab.research.google.com/assets/colab-badge.svg\" alt=\"Open In Colab\"/></a>"
      ]
    },
    {
      "cell_type": "markdown",
      "source": [
        "# Proyecto Final Paralela\n",
        "* Marco Jurado\n",
        "* Paola de Leon\n",
        "* Cristian Aguirre\n"
      ],
      "metadata": {
        "id": "cei9HvTjFmLj"
      }
    },
    {
      "cell_type": "code",
      "execution_count": 22,
      "metadata": {
        "id": "lN6Z6WTqFeuX",
        "outputId": "fc97d973-6aef-40f0-d0e6-8aa8cf41f05d",
        "colab": {
          "base_uri": "https://localhost:8080/"
        }
      },
      "outputs": [
        {
          "output_type": "stream",
          "name": "stdout",
          "text": [
            "nvcc: NVIDIA (R) Cuda compiler driver\n",
            "Copyright (c) 2005-2022 NVIDIA Corporation\n",
            "Built on Wed_Sep_21_10:33:58_PDT_2022\n",
            "Cuda compilation tools, release 11.8, V11.8.89\n",
            "Build cuda_11.8.r11.8/compiler.31833905_0\n"
          ]
        }
      ],
      "source": [
        "!nvcc --version"
      ]
    },
    {
      "cell_type": "code",
      "source": [
        "!pip install git+https://github.com/andreinechaev/nvcc4jupyter.git"
      ],
      "metadata": {
        "id": "sHKXt3OlYMyj",
        "outputId": "c43d1217-292a-460c-81b0-53af94a57624",
        "colab": {
          "base_uri": "https://localhost:8080/"
        }
      },
      "execution_count": 23,
      "outputs": [
        {
          "output_type": "stream",
          "name": "stdout",
          "text": [
            "Collecting git+https://github.com/andreinechaev/nvcc4jupyter.git\n",
            "  Cloning https://github.com/andreinechaev/nvcc4jupyter.git to /tmp/pip-req-build-dzsc7wd6\n",
            "  Running command git clone --filter=blob:none --quiet https://github.com/andreinechaev/nvcc4jupyter.git /tmp/pip-req-build-dzsc7wd6\n",
            "  Resolved https://github.com/andreinechaev/nvcc4jupyter.git to commit 0a71d56e5dce3ff1f0dd2c47c29367629262f527\n",
            "  Preparing metadata (setup.py) ... \u001b[?25l\u001b[?25hdone\n"
          ]
        }
      ]
    },
    {
      "cell_type": "code",
      "source": [
        "%load_ext nvcc_plugin"
      ],
      "metadata": {
        "id": "c3iGISowYORM",
        "outputId": "7be20809-dcf9-464d-f223-df95c5fedac8",
        "colab": {
          "base_uri": "https://localhost:8080/"
        }
      },
      "execution_count": 24,
      "outputs": [
        {
          "output_type": "stream",
          "name": "stdout",
          "text": [
            "The nvcc_plugin extension is already loaded. To reload it, use:\n",
            "  %reload_ext nvcc_plugin\n"
          ]
        }
      ]
    },
    {
      "cell_type": "code",
      "source": [
        "!pip install pycuda"
      ],
      "metadata": {
        "id": "H2bN7GzcYPeJ",
        "outputId": "8fbdfff2-81fa-4999-dae4-33de81cfe0e1",
        "colab": {
          "base_uri": "https://localhost:8080/"
        }
      },
      "execution_count": 25,
      "outputs": [
        {
          "output_type": "stream",
          "name": "stdout",
          "text": [
            "Requirement already satisfied: pycuda in /usr/local/lib/python3.10/dist-packages (2023.1)\n",
            "Requirement already satisfied: pytools>=2011.2 in /usr/local/lib/python3.10/dist-packages (from pycuda) (2023.1.1)\n",
            "Requirement already satisfied: appdirs>=1.4.0 in /usr/local/lib/python3.10/dist-packages (from pycuda) (1.4.4)\n",
            "Requirement already satisfied: mako in /usr/local/lib/python3.10/dist-packages (from pycuda) (1.3.0)\n",
            "Requirement already satisfied: platformdirs>=2.2.0 in /usr/local/lib/python3.10/dist-packages (from pytools>=2011.2->pycuda) (3.11.0)\n",
            "Requirement already satisfied: typing-extensions>=4.0 in /usr/local/lib/python3.10/dist-packages (from pytools>=2011.2->pycuda) (4.5.0)\n",
            "Requirement already satisfied: MarkupSafe>=0.9.2 in /usr/local/lib/python3.10/dist-packages (from mako->pycuda) (2.1.3)\n"
          ]
        }
      ]
    },
    {
      "cell_type": "code",
      "source": [
        "import pycuda.driver as drv\n",
        "import pycuda.autoinit\n",
        "drv.init()\n",
        "print(\"%d device(s) found.\" % drv.Device.count())\n",
        "for i in range(drv.Device.count()):\n",
        "  dev = drv.Device(i)\n",
        "  print(\"Device #%d: %s\" % (i, dev.name()))\n",
        "  print(\" Compute Capability: %d.%d\" % dev.compute_capability())\n",
        "  print(\" Total Memory: %s GB\" % (dev.total_memory() // (1024 * 1024 * 1024)))"
      ],
      "metadata": {
        "id": "pyleS1mXYReL",
        "outputId": "87742eba-771f-4908-dcf9-2a95d69e60a0",
        "colab": {
          "base_uri": "https://localhost:8080/"
        }
      },
      "execution_count": 26,
      "outputs": [
        {
          "output_type": "stream",
          "name": "stdout",
          "text": [
            "1 device(s) found.\n",
            "Device #0: Tesla T4\n",
            " Compute Capability: 7.5\n",
            " Total Memory: 14 GB\n"
          ]
        }
      ]
    },
    {
      "cell_type": "markdown",
      "source": [
        "### Inciso 1\n",
        "* Cálculo de la fórmula para crear el gloID en el kernel. Consulte la llamada al kernel para deducir usando la configuración (geometría) del grid de esa llamada.\n",
        "* Hace falta la liberación de memoria al final del programa. Agreguela para las variables\n",
        "utilizadas"
      ],
      "metadata": {
        "id": "55DS5E1yYTnF"
      }
    },
    {
      "cell_type": "code",
      "source": [
        "%%cuda --name hough.cu\n",
        "/*\n",
        " ============================================================================\n",
        " Author        : G. Barlas\n",
        " Version       : 1.0\n",
        " Last modified : December 2014\n",
        " License       : Released under the GNU GPL 3.0\n",
        " Description   :\n",
        " To build use  : make\n",
        " ============================================================================\n",
        " */\n",
        "#include <stdio.h>\n",
        "#include <stdlib.h>\n",
        "#include <math.h>\n",
        "#include <cuda.h>\n",
        "#include <string.h>\n",
        "#include \"/content/common/pgm.h\"\n",
        "\n",
        "\n",
        "const int degreeInc = 2;\n",
        "const int degreeBins = 180 / degreeInc;\n",
        "const int rBins = 100;\n",
        "const float radInc = degreeInc * M_PI / 180;\n",
        "//*****************************************************************\n",
        "// The CPU function returns a pointer to the accummulator\n",
        "void CPU_HoughTran (unsigned char *pic, int w, int h, int **acc)\n",
        "{\n",
        "  float rMax = sqrt (1.0 * w * w + 1.0 * h * h) / 2;  //(w^2 + h^2)/2, radio max equivalente a centro -> esquina\n",
        "  *acc = new int[rBins * degreeBins];            //el acumulador, conteo depixeles encontrados, 90*180/degInc = 9000\n",
        "  memset (*acc, 0, sizeof (int) * rBins * degreeBins); //init en ceros\n",
        "  int xCent = w / 2;\n",
        "  int yCent = h / 2;\n",
        "  float rScale = 2 * rMax / rBins;\n",
        "\n",
        "  for (int i = 0; i < w; i++) //por cada pixel\n",
        "    for (int j = 0; j < h; j++) //...\n",
        "      {\n",
        "        int idx = j * w + i;\n",
        "        if (pic[idx] > 0) //si pasa thresh, entonces lo marca\n",
        "          {\n",
        "            int xCoord = i - xCent;\n",
        "            int yCoord = yCent - j;  // y-coord has to be reversed\n",
        "            float theta = 0;         // actual angle\n",
        "            for (int tIdx = 0; tIdx < degreeBins; tIdx++) //add 1 to all lines in that pixel\n",
        "              {\n",
        "                float r = xCoord * cos (theta) + yCoord * sin (theta);\n",
        "                int rIdx = (r + rMax) / rScale;\n",
        "                (*acc)[rIdx * degreeBins + tIdx]++; //+1 para este radio r y este theta\n",
        "                theta += radInc;\n",
        "              }\n",
        "          }\n",
        "      }\n",
        "}\n",
        "\n",
        "//*****************************************************************\n",
        "// TODO usar memoria constante para la tabla de senos y cosenos\n",
        "// inicializarlo en main y pasarlo al device\n",
        "__constant__ float d_Cos[degreeBins];\n",
        "__constant__ float d_Sin[degreeBins];\n",
        "\n",
        "//*****************************************************************\n",
        "//TODO Kernel memoria compartida\n",
        "__global__ void GPU_HoughTranShared(unsigned char *pic, int w, int h, int *acc, float rMax, float rScale)\n",
        "{\n",
        "  int gloID = blockIdx.x * blockDim.x + threadIdx.x;\n",
        "  if (gloID >= w * h) return;\n",
        "\n",
        "  int xCent = w / 2;\n",
        "  int yCent = h / 2;\n",
        "\n",
        "  //TODO explicar bien bien esta parte. Dibujar un rectangulo a modo de imagen sirve para visualizarlo mejor\n",
        "  int xCoord = gloID % w - xCent;\n",
        "  int yCoord = yCent - gloID / w;\n",
        "\n",
        "  //TODO eventualmente usar memoria compartida para el acumulador\n",
        "\n",
        "  if (pic[gloID] > 0)\n",
        "    {\n",
        "      for (int tIdx = 0; tIdx < degreeBins; tIdx++)\n",
        "        {\n",
        "          //TODO utilizar memoria constante para senos y cosenos\n",
        "          float r = xCoord * d_Cos[tIdx] + yCoord * d_Sin[tIdx];\n",
        "          int rIdx = (r + rMax) / rScale;\n",
        "          //debemos usar atomic, pero que race condition hay si somos un thread por pixel? explique\n",
        "          atomicAdd(acc + (rIdx * degreeBins + tIdx), 1);\n",
        "        }\n",
        "    }\n",
        "\n",
        "  //TODO eventualmente cuando se tenga memoria compartida, copiar del local al global\n",
        "  //utilizar operaciones atomicas para seguridad\n",
        "  //faltara sincronizar los hilos del bloque en algunos lados\n",
        "}\n",
        "\n",
        "//*****************************************************************\n",
        "//TODO Kernel memoria Constante\n",
        "__global__ void GPU_HoughTranConst(unsigned char *pic, int w, int h, int *acc, float rMax, float rScale)\n",
        "{\n",
        "  int gloID = blockIdx.x * blockDim.x + threadIdx.x;\n",
        "  if (gloID >= w * h) return;\n",
        "\n",
        "  int xCent = w / 2;\n",
        "  int yCent = h / 2;\n",
        "\n",
        "  //TODO explicar bien bien esta parte. Dibujar un rectangulo a modo de imagen sirve para visualizarlo mejor\n",
        "  int xCoord = gloID % w - xCent;\n",
        "  int yCoord = yCent - gloID / w;\n",
        "\n",
        "  //TODO eventualmente usar memoria compartida para el acumulador\n",
        "\n",
        "  if (pic[gloID] > 0)\n",
        "    {\n",
        "      for (int tIdx = 0; tIdx < degreeBins; tIdx++)\n",
        "        {\n",
        "          //TODO utilizar memoria constante para senos y cosenos\n",
        "          float r = xCoord * d_Cos[tIdx] + yCoord * d_Sin[tIdx];\n",
        "          int rIdx = (r + rMax) / rScale;\n",
        "          //debemos usar atomic, pero que race condition hay si somos un thread por pixel? explique\n",
        "          atomicAdd(acc + (rIdx * degreeBins + tIdx), 1);\n",
        "        }\n",
        "    }\n",
        "\n",
        "  //TODO eventualmente cuando se tenga memoria compartida, copiar del local al global\n",
        "  //utilizar operaciones atomicas para seguridad\n",
        "  //faltara sincronizar los hilos del bloque en algunos lados\n",
        "}\n",
        "\n",
        "//*****************************************************************\n",
        "int main (int argc, char **argv)\n",
        "{\n",
        "  int i;\n",
        "\n",
        "  PGMImage inImg (argv[1]);\n",
        "\n",
        "  int *cpuht;\n",
        "  int w = inImg.x_dim;\n",
        "  int h = inImg.y_dim;\n",
        "\n",
        "  float* d_Cos;\n",
        "  float* d_Sin;\n",
        "\n",
        "  cudaMalloc ((void **) &d_Cos, sizeof (float) * degreeBins);\n",
        "  cudaMalloc ((void **) &d_Sin, sizeof (float) * degreeBins);\n",
        "\n",
        "  // CPU calculation\n",
        "  CPU_HoughTran(inImg.pixels, w, h, &cpuht);\n",
        "\n",
        "  // pre-compute values to be stored\n",
        "  float *pcCos = (float *) malloc (sizeof (float) * degreeBins);\n",
        "  float *pcSin = (float *) malloc (sizeof (float) * degreeBins);\n",
        "  float rad = 0;\n",
        "  for (i = 0; i < degreeBins; i++)\n",
        "  {\n",
        "    pcCos[i] = cos (rad);\n",
        "    pcSin[i] = sin (rad);\n",
        "    rad += radInc;\n",
        "  }\n",
        "\n",
        "  float rMax = sqrt (1.0 * w * w + 1.0 * h * h) / 2;\n",
        "  float rScale = 2 * rMax / rBins;\n",
        "\n",
        "  // TODO eventualmente volver memoria global\n",
        "  cudaMemcpy(d_Cos, pcCos, sizeof (float) * degreeBins, cudaMemcpyHostToDevice);\n",
        "  cudaMemcpy(d_Sin, pcSin, sizeof (float) * degreeBins, cudaMemcpyHostToDevice);\n",
        "\n",
        "  // setup and copy data from host to device\n",
        "  unsigned char *d_in, *h_in;\n",
        "  int *d_hough, *h_hough;\n",
        "\n",
        "  h_in = inImg.pixels; // h_in contiene los pixeles de la imagen\n",
        "\n",
        "  h_hough = (int *) malloc (degreeBins * rBins * sizeof (int));\n",
        "\n",
        "  cudaMalloc ((void **) &d_in, sizeof (unsigned char) * w * h);\n",
        "  cudaMalloc ((void **) &d_hough, sizeof (int) * degreeBins * rBins);\n",
        "  cudaMemcpy (d_in, h_in, sizeof (unsigned char) * w * h, cudaMemcpyHostToDevice);\n",
        "  cudaMemset (d_hough, 0, sizeof (int) * degreeBins * rBins);\n",
        "\n",
        "  // execution configuration uses a 1-D grid of 1-D blocks, each made of 256 threads\n",
        "  //1 thread por pixel\n",
        "  int blockNum = ceil (w * h / 256);\n",
        "  GPU_HoughTran <<< blockNum, 256 >>> (d_in, w, h, d_hough, rMax, rScale, d_Cos, d_Sin);\n",
        "\n",
        "  // get results from device\n",
        "  cudaMemcpy (h_hough, d_hough, sizeof (int) * degreeBins * rBins, cudaMemcpyDeviceToHost);\n",
        "\n",
        "  // compare CPU and GPU results\n",
        "  for (i = 0; i < degreeBins * rBins; i++)\n",
        "  {\n",
        "    if (cpuht[i] != h_hough[i])\n",
        "      printf (\"Calculation mismatch at : %i %i %i\\n\", i, cpuht[i], h_hough[i]);\n",
        "  }\n",
        "  printf(\"Done!\\n\");\n",
        "\n",
        "  // Liberar memoria en el host\n",
        "  free(pcCos);\n",
        "  free(pcSin);\n",
        "  delete[] cpuht;\n",
        "  free(h_hough);\n",
        "\n",
        "  // Liberar memoria en el dispositivo\n",
        "  cudaFree(d_in);\n",
        "  cudaFree(d_hough);\n",
        "  cudaFree(d_Cos);\n",
        "  cudaFree(d_Sin);\n",
        "\n",
        "  return 0;\n",
        "}"
      ],
      "metadata": {
        "id": "Ch-JFL6eYhST",
        "outputId": "292d73eb-16a1-4237-b88e-79d5785758fe",
        "colab": {
          "base_uri": "https://localhost:8080/",
          "height": 36
        }
      },
      "execution_count": 27,
      "outputs": [
        {
          "output_type": "execute_result",
          "data": {
            "text/plain": [
              "'File written in /content/src/hough.cu'"
            ],
            "application/vnd.google.colaboratory.intrinsic+json": {
              "type": "string"
            }
          },
          "metadata": {},
          "execution_count": 27
        }
      ]
    },
    {
      "cell_type": "code",
      "source": [
        "!nvcc -arch=sm_75 /content/src/hough.cu -o \"/content/src/hough.o\""
      ],
      "metadata": {
        "id": "vqsKjN3UYr-F",
        "outputId": "6f97e4ed-62d3-4bf9-ee92-d0ebe8b56331",
        "colab": {
          "base_uri": "https://localhost:8080/"
        }
      },
      "execution_count": 28,
      "outputs": [
        {
          "output_type": "stream",
          "name": "stdout",
          "text": [
            "\u001b[01m\u001b[0m\u001b[01m/content/src/hough.cu(180)\u001b[0m: \u001b[01;31merror\u001b[0m: identifier \"\u001b[01mGPU_HoughTran\u001b[0m\" is undefined\n",
            "\n",
            "1 error detected in the compilation of \"/content/src/hough.cu\".\n"
          ]
        }
      ]
    },
    {
      "cell_type": "code",
      "source": [
        "!chmod 755 /content/src/lhoughab5.o\n",
        "!/content/src/hough.o"
      ],
      "metadata": {
        "id": "m6r_3bpTZyyW",
        "outputId": "dc5ab896-c94f-431e-f4b5-9ad25b137f55",
        "colab": {
          "base_uri": "https://localhost:8080/"
        }
      },
      "execution_count": 29,
      "outputs": [
        {
          "output_type": "stream",
          "name": "stdout",
          "text": [
            "chmod: cannot access '/content/src/lhoughab5.o': No such file or directory\n",
            "/bin/bash: line 1: /content/src/hough.o: No such file or directory\n"
          ]
        }
      ]
    }
  ]
}